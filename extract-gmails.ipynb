{
 "cells": [
  {
   "cell_type": "markdown",
   "metadata": {},
   "source": [
    "Thank you DigitalSreeni on YouTube for the walk-through tutorial on the following."
   ]
  },
  {
   "cell_type": "code",
   "execution_count": 242,
   "metadata": {},
   "outputs": [],
   "source": [
    "# !pip install imap"
   ]
  },
  {
   "cell_type": "code",
   "execution_count": 243,
   "metadata": {},
   "outputs": [],
   "source": [
    "# ! pip install yaml"
   ]
  },
  {
   "cell_type": "code",
   "execution_count": 244,
   "metadata": {},
   "outputs": [],
   "source": [
    "import imaplib\n",
    "import email\n",
    "import yaml\n",
    "\n",
    "from email import policy\n",
    "\n",
    "# for bytes to string\n",
    "from email.parser import BytesParser\n",
    "from email.parser import Parser\n",
    "from email.message import EmailMessage"
   ]
  },
  {
   "cell_type": "code",
   "execution_count": 245,
   "metadata": {},
   "outputs": [],
   "source": [
    "# open saved user credentials\n",
    "with open('credentials.yaml') as f:\n",
    "    content = f.read()"
   ]
  },
  {
   "cell_type": "code",
   "execution_count": 246,
   "metadata": {},
   "outputs": [],
   "source": [
    "# import user and pass from credentials.yaml\n",
    "my_credentials = yaml.load(content, Loader=yaml.FullLoader)"
   ]
  },
  {
   "cell_type": "code",
   "execution_count": 247,
   "metadata": {},
   "outputs": [],
   "source": [
    "# Load the user name and password\n",
    "user, password = my_credentials[\"user\"], my_credentials[\"password\"]"
   ]
  },
  {
   "cell_type": "code",
   "execution_count": 248,
   "metadata": {},
   "outputs": [],
   "source": [
    "# IMAP connection url\n",
    "imap_url = 'imap.gmail.com'"
   ]
  },
  {
   "cell_type": "code",
   "execution_count": 249,
   "metadata": {},
   "outputs": [],
   "source": [
    "# connect ro Gmail with SSL\n",
    "my_mail = imaplib.IMAP4_SSL(imap_url)"
   ]
  },
  {
   "cell_type": "code",
   "execution_count": 250,
   "metadata": {},
   "outputs": [
    {
     "data": {
      "text/plain": [
       "('OK', [b'montgash3@gmail.com authenticated (Success)'])"
      ]
     },
     "execution_count": 250,
     "metadata": {},
     "output_type": "execute_result"
    }
   ],
   "source": [
    "# Log in to gmail with credentials\n",
    "my_mail.login(user, password)"
   ]
  },
  {
   "cell_type": "code",
   "execution_count": 251,
   "metadata": {},
   "outputs": [
    {
     "data": {
      "text/plain": [
       "('OK', [b'696'])"
      ]
     },
     "execution_count": 251,
     "metadata": {},
     "output_type": "execute_result"
    }
   ],
   "source": [
    "# Select inbox to fetch message\n",
    "my_mail.select('Inbox')"
   ]
  },
  {
   "cell_type": "code",
   "execution_count": 252,
   "metadata": {},
   "outputs": [],
   "source": [
    "# define Key/Value for email filtering\n",
    "key = 'FROM'\n",
    "value = 'investrel@cmsenergy.com'"
   ]
  },
  {
   "cell_type": "code",
   "execution_count": 253,
   "metadata": {},
   "outputs": [],
   "source": [
    "# Get data columns(emails) matching above filitering criteria\n",
    "_, data = my_mail.search(None, key, value)"
   ]
  },
  {
   "cell_type": "code",
   "execution_count": 254,
   "metadata": {},
   "outputs": [
    {
     "data": {
      "text/plain": [
       "[b'52', b'344', b'681']"
      ]
     },
     "execution_count": 254,
     "metadata": {},
     "output_type": "execute_result"
    }
   ],
   "source": [
    "# IDs of all emails we want\n",
    "mail_id_list = data[0].split()\n",
    "mail_id_list"
   ]
  },
  {
   "cell_type": "code",
   "execution_count": 255,
   "metadata": {},
   "outputs": [],
   "source": [
    "# Empty list to capture messages\n",
    "msgs = []\n",
    "\n",
    "\n",
    "# Return whole message for all messages we have filtered\n",
    "# '(RFC822)' is the command to return entire message\n",
    "for num in mail_id_list: \n",
    "    typ, data  = my_mail.fetch(num, '(RFC822)')\n",
    "    msgs.append(data)"
   ]
  },
  {
   "cell_type": "code",
   "execution_count": 256,
   "metadata": {},
   "outputs": [
    {
     "data": {
      "text/plain": [
       "[[(b'52 (RFC822 {10243}',\n",
       "   b'Delivered-To: montgash3@gmail.com\\r\\nReceived: by 2002:a05:6f02:cacc:b0:61:e91d:81c with SMTP id t12csp672448rcg;\\r\\n        Tue, 23 Jan 2024 09:25:50 -0800 (PST)\\r\\nX-Google-Smtp-Source: AGHT+IHD/A2kZcsWJQbibzCMUP+qtouNU+WIOZM9PIxf+CQ4MO3zaqaVzOZeV5Y4ZwoODDx1V5HY\\r\\nX-Received: by 2002:ad4:5e86:0:b0:685:9ba5:4728 with SMTP id jl6-20020ad45e86000000b006859ba54728mr1766901qvb.7.1706030750103;\\r\\n        Tue, 23 Jan 2024 09:25:50 -0800 (PST)\\r\\nARC-Seal: i=1; a=rsa-sha256; t=1706030750; cv=none;\\r\\n        d=google.com; s=arc-20160816;\\r\\n        b=XCzD+WC1TPd4jIOmje4RXUGPEbDhivNVWLjNM3i2xzKhCIMyPjGBH0bscGxRtUNpij\\r\\n         TccqfZvHE7ZkzpWxgbMUIsJp7fVYHbrwGGVzP6UEm3sW08IqJxAXtiBUoOQ2iv3v3WW4\\r\\n         tKitqAd+N0PjtEPuwdoVXNDi7SEdCAeOM9CBO1Or/iaeyeWzC4RLkiQi5cdkX1AIF5b7\\r\\n         PR+4afhGzLCJAsdIsndaO0bF62s1TV4vQ+2lhEMT/+oiHEI71zRC13HVVr1e68IMx0LH\\r\\n         BSkZKrDSLzimnxTZp0coEBG810f//v+LFTQ81zNFFCHuDYq9MlashT5xwbdRdU7ayoef\\r\\n         QMAA==\\r\\nARC-Message-Signature: i=1; a=rsa-sha256; c=relaxed/relaxed; d=google.com; s=arc-20160816;\\r\\n        h=to:reply-to:subject:message-id:mime-version:from:date\\r\\n         :content-transfer-encoding:dkim-signature:dkim-signature;\\r\\n        bh=1o7kYnBYq99HXQD8rDJP6SzbbjoD5fAF4EEBixMDuFY=;\\r\\n        fh=YxEBacoHXfqvNMNi6hSERLQO6OocoGvYUQDAuxxIppk=;\\r\\n        b=FXmsxzzXsGlOO8LGLKA3mCQio8TsAfGkmUy7wZE4q04q7K0AMpFBepCg2WDyeYwe3W\\r\\n         EnLZ+dexMkxdYVNrjkAdVbxJIf0zPm9IaAftG3uUwgFe2uQ3VVJpudC1c2+Hg4Zj9j0/\\r\\n         4AgqoTZpGRvJ7d2VE2UsrQtsF3HowtiDqJ+hIQZ+As3CPXO7OsOEHiqjrMPVDYtlq/is\\r\\n         1Ifl9doKlFx6RrAFf7ECNjBUzvZVNct1McQZeNNL98YlBhHYE2CLKVWw4t9n/vVdMHcu\\r\\n         sRxnbBVfVpXVXuVxbLJrpGShzGniAZ/iOBxN3YUtPGNlkWRwdV/S2vd/d3gQobtrpshV\\r\\n         cinQ==\\r\\nARC-Authentication-Results: i=1; mx.google.com;\\r\\n       dkim=pass header.i=@cmsenergy.com header.s=zz header.b=DVmwC9z6;\\r\\n       dkim=pass header.i=@sendgrid.info header.s=smtpapi header.b=CELvboSI;\\r\\n       spf=pass (google.com: domain of bounces+11277508-8082-montgash3=gmail.com@em7445.cmsenergy.com designates 168.245.55.252 as permitted sender) smtp.mailfrom=\"bounces+11277508-8082-montgash3=gmail.com@em7445.cmsenergy.com\";\\r\\n       dmarc=pass (p=REJECT sp=REJECT dis=NONE) header.from=cmsenergy.com\\r\\nReturn-Path: <bounces+11277508-8082-montgash3=gmail.com@em7445.cmsenergy.com>\\r\\nReceived: from o16824555x252.outbound-mail.sendgrid.net (o16824555x252.outbound-mail.sendgrid.net. [168.245.55.252])\\r\\n        by mx.google.com with ESMTPS id wn17-20020a05620a585100b007835a7b7ea2si8072915qkn.360.2024.01.23.09.25.49\\r\\n        for <montgash3@gmail.com>\\r\\n        (version=TLS1_3 cipher=TLS_AES_128_GCM_SHA256 bits=128/128);\\r\\n        Tue, 23 Jan 2024 09:25:50 -0800 (PST)\\r\\nReceived-SPF: pass (google.com: domain of bounces+11277508-8082-montgash3=gmail.com@em7445.cmsenergy.com designates 168.245.55.252 as permitted sender) client-ip=168.245.55.252;\\r\\nAuthentication-Results: mx.google.com;\\r\\n       dkim=pass header.i=@cmsenergy.com header.s=zz header.b=DVmwC9z6;\\r\\n       dkim=pass header.i=@sendgrid.info header.s=smtpapi header.b=CELvboSI;\\r\\n       spf=pass (google.com: domain of bounces+11277508-8082-montgash3=gmail.com@em7445.cmsenergy.com designates 168.245.55.252 as permitted sender) smtp.mailfrom=\"bounces+11277508-8082-montgash3=gmail.com@em7445.cmsenergy.com\";\\r\\n       dmarc=pass (p=REJECT sp=REJECT dis=NONE) header.from=cmsenergy.com\\r\\nDKIM-Signature: v=1; a=rsa-sha256; c=relaxed/relaxed; d=cmsenergy.com;\\r\\n\\th=content-transfer-encoding:content-type:from:mime-version:subject:\\r\\n\\treply-to:x-feedback-id:to:cc:content-type:from:subject:to;\\r\\n\\ts=zz; bh=1o7kYnBYq99HXQD8rDJP6SzbbjoD5fAF4EEBixMDuFY=;\\r\\n\\tb=DVmwC9z6GbSkWVU+6swObOCUIjlmq3S6XUQFRHz2DB4XmgM0lP+IJ9p9M23vgx+snw6+\\r\\n\\tmBmik5oKk+KqvlZlbhdCM4au8OIO+Eh9Q/6by4BjwmY+u9tp8P1d55HY1d0RqIIrrPqv8A\\r\\n\\th25VGuK8EhPv10zFJ8UBw19rC96V1Wgvrz1ym84gyVsXVJ3LlfcPFbz0+fcGRg/d7RKp/1\\r\\n\\t+joJ8i70LiV7v2aeHSk9kVKEtWCtU5ufLetxzeXHir3HtUofvFQfZGpkRe66vixot6mJwI\\r\\n\\tJssqgoo53qMzXv84xWZMCkIw0W/qODiQ2GDTUQmNj/2LzT5hz2qi6o8l1BNyJJ0w==\\r\\nDKIM-Signature: v=1; a=rsa-sha256; c=relaxed/relaxed; d=sendgrid.info;\\r\\n\\th=content-transfer-encoding:content-type:from:mime-version:subject:\\r\\n\\treply-to:x-feedback-id:to:cc:content-type:from:subject:to;\\r\\n\\ts=smtpapi; bh=1o7kYnBYq99HXQD8rDJP6SzbbjoD5fAF4EEBixMDuFY=;\\r\\n\\tb=CELvboSICK8eaO1Stu+pSoDxQYZxV3njjF6RnUQMaGvGEM/NflQciOQfPZCf6qdjf7Rz\\r\\n\\t7TvuXo9T5GJdbFd9WuEtMDY3tqCsjWBJUUV7vSl3fHHEVi+p5a1ihAIN0qOve7uU3PIca9\\r\\n\\tR8hbNBWkwMk6ZZy2r4rNrwFnsF325VfOk=\\r\\nReceived: by filterdrecv-canary-7c48c4df88-8m24j with SMTP id filterdrecv-canary-7c48c4df88-8m24j-1-65AFF69D-22\\r\\n        2024-01-23 17:25:49.715426783 +0000 UTC m=+1051733.585209162\\r\\nReceived: from MTEyNzc1MDg (unknown)\\r\\n\\tby geopod-ismtpd-7 (SG) with HTTP\\r\\n\\tid DNo3PJ58T1uRE9D8csnnDw\\r\\n\\tTue, 23 Jan 2024 17:25:49.678 +0000 (UTC)\\r\\nContent-Transfer-Encoding: quoted-printable\\r\\nContent-Type: text/html; charset=us-ascii\\r\\nDate: Tue, 23 Jan 2024 17:25:49 +0000 (UTC)\\r\\nFrom: CMS Energy - Investor Relations <investrel@cmsenergy.com>\\r\\nMime-Version: 1.0\\r\\nMessage-ID: <DNo3PJ58T1uRE9D8csnnDw@geopod-ismtpd-7>\\r\\nSubject: CMS Energy Corporation - Consumers Energy Foundation to Award $50,000\\r\\n for Three Small Towns in Put Your Town on the Map Competition\\r\\nReply-To: investrel@cmsenergy.com\\r\\nX-Sender: no-reply@q4inc.com\\r\\nX-Feedback-ID: 11277508:SG\\r\\nX-SG-EID: \\r\\n =?us-ascii?Q?19hxCQ0+YbakdZeHfv3jRJ+lC4aMxc+Nkwv=2FSyAqKXTNMStSBKDSQ4kgRseOHr?=\\r\\n =?us-ascii?Q?i0HHmf9oeHD0qFuUcOrXBEjvCDeTNMf6jGuQsAm?=\\r\\n =?us-ascii?Q?M+XHf3kNp6QN6p0FVw6JE3=2FDQs=2Fg3+998BoVOH7?=\\r\\n =?us-ascii?Q?VRZfK65uKxtO4+79OVvczXgZA+HIMgIVW1Jq65t?=\\r\\n =?us-ascii?Q?lyrrYZiHKc9231gxSi9pwLQ6Rwekv1HTLj7g0yB?=\\r\\n =?us-ascii?Q?EgI=2FVcHhgNkw1IOAer3Xj6hFvYIU6JYwBRV6za2?=\\r\\n =?us-ascii?Q?+dv=2FM1F7r=2FnbOAxQM9Ze=2Fd1WIpKpcfIJT4d2aOh?=\\r\\n =?us-ascii?Q?h+Y=3D?=\\r\\nX-SG-ID: \\r\\n =?us-ascii?Q?N2C25iY2uzGMFz6rgvQsb8raWjw0ZPf1VmjsCkspi=2FLs3Ta+uBhopEhBDLaCGA?=\\r\\n =?us-ascii?Q?5f3HzDi86tKv2T0N+VpgWmZz+WGFyHyxCl5Lj8U?=\\r\\n =?us-ascii?Q?RRJ2i1R2L3+PLq2MDEuhl0tfhBpT0XQsLBjgOoL?=\\r\\n =?us-ascii?Q?WEX0bNiN=2FEmw0q4aFWDy661+CxARt3rQR2L=2FYjn?=\\r\\n =?us-ascii?Q?prQtpr32b23yo0ioMdgmlHB1cC0XsxmHLtFp30V?=\\r\\n =?us-ascii?Q?8IDSTG35QU1e2NAqLofgrgISI3+iJ2EkNaTenR+?=\\r\\n =?us-ascii?Q?HYWh0mUgycAc458zODqchORmcSz3JW4gndCHG4L?= =?us-ascii?Q?Wdc=3D?=\\r\\nTo: montgash3@gmail.com\\r\\nX-Entity-ID: aKUoNb+gNVOrr9hdz9ASuQ==\\r\\n\\r\\n<img alt=3D\"\" src=3D\"http://cmsenergy.com/files/design/ClientLogo.png\">\\r\\n<br>\\r\\n<hr>\\r\\n<br>\\r\\n<strong>CMS Energy Corporation&nbsp;has added a new press release to its we=\\r\\nb site. For full details please visit the&nbsp;CMS Energy Corporation web s=\\r\\nite at:</strong><br>\\r\\n<br>\\r\\n<a href=3D\"https://u11277508.ct.sendgrid.net/ls/click?upn=3D32r1F7qKA-2FlPf=\\r\\n4VG4Yq9V7rIj65-2FobA5M0Y4tcQq3JTqKzMlWYDtF9q7KahnmRZk0QJ5e5I10M6q-2BkviFxa8=\\r\\nvLoXwGmWVJ8ZJaixO-2FLaF0JIp5uAS1yeio6NuXQv61cG32iMEr-2FwpPgjwDgjsbqRJ52NL-2=\\r\\nFt3JMSON4YFciJy6tQkGpIr-2BNBUNHYyPVEsvpEgVO3SuiaILRpU-2FqwWRJwymn4yACcg3Pqj=\\r\\npTVuEtB22lPJxUqUZTm7DMM1L5TioAADtwssVHPuHrpNwAsHUvHM7YXX967hkELJTdxcOHz54A4=\\r\\n-3Dg7bc_cbLNfl9DC06I7yqAggRDStoEt6EUIhRidxfYOh1J-2BZf-2FJqL8Hq-2Fw5EcfayrRJ=\\r\\nbj6IHM-2B6QY1qXVC-2FumwUE-2BQq-2Bj45H42RYtbuhqtF-2BE-2FswlTISfNYwxrvQ5oXLY9=\\r\\nHwim5B9nU4ERot8RD7IaM0d0EpvcXtkFWQAwoYB2xZGCQqFOHHAV0RG86shMeNjPsBVDz5Uj4XI=\\r\\n0p2ZmINn7az6nuy9NnHlbWSKt4Ep9ut0ooqcdAlAP5APZ0lfZs2TFDeVmFex8xHPl2uJrlf0xeQ=\\r\\n8fsOmBX5LGcy2v57bORWPnlRszHxNo5CVnOSG4y-2BNEB5PKw-2FsAHgoBHbNudxeA1xt9Sq0Ht=\\r\\n-2F3V9wJ2vJyKuAngllhew7XSGM2r5SvQhxypqFZor2L7gg3RHEDnRwvHuR3SXBOnuW7wrLKCWt=\\r\\n3xmBPNUmiVv1NVG5KnDN22nBBgrTThi0-2FP-2BhKnNSLFd-2FLjZrIrEg-3D-3D\">Consumers=\\r\\n Energy Foundation to Award $50,000 for Three Small Towns in Put Your Town =\\r\\non the Map Competition</a><br>\\r\\n<br>\\r\\n<a href=3D\"https://u11277508.ct.sendgrid.net/ls/click?upn=3DQHV9pJ3XucdNDzN=\\r\\ndZffVoeIwHKqzY0EajXPLtAyATQ5hP1SUYdrYNdHL-2F7114hQmu-2F-2FzFoVr3lvQK9nCtV4D=\\r\\nERV-2FmsixiJLFpLnuxZSeD-2FA-3DmKTx_cbLNfl9DC06I7yqAggRDStoEt6EUIhRidxfYOh1J=\\r\\n-2BZf-2FJqL8Hq-2Fw5EcfayrRJbj6IHM-2B6QY1qXVC-2FumwUE-2BQq-2Bj45H42RYtbuhqtF=\\r\\n-2BE-2FswlTISfNYwxrvQ5oXLY9Hwim5B9nU4ERot8RD7IaM0d0EpvcXtkFWQAwoYB2xZGCQqFO=\\r\\nHHAV0RG86shMeNjPsBVDz5Uj4XI0p2ZmINn7az6nuy9NnHlbWSKt4Ep9ut0ooqcdAlAP5APZ0lf=\\r\\nZs2TFDeVmFex8xHPl2uJrlf0xeQ8fsOmBX5LGcy2v57bORWPnlRszHxNo5CVnOSG4y-2BNEB5PK=\\r\\nJl-2BqT-2BsL-2B0czZqLfZvGREAeSTs0RLuGViF2ygJNmpjiTqqsCT-2Ff20ArRynSvqxi35UP=\\r\\n08XNrNRSQbZWRyE4SlneNMqT-2F-2Bc8Sm-2BfsDjAYIK-2FqcXRrDhNyoT70TuJF2EyyjA6js6=\\r\\nRt0Ay6BupoaNF-2Baw-3D-3D\">Click Here</a> for a complete listing of CMS Ener=\\r\\ngy Corporation press releases.<br>\\r\\n<br>\\r\\n-------------------<br>\\r\\nTo unsubscribe from this list please visit the <a href=3D\"https://u11277508=\\r\\n.ct.sendgrid.net/ls/click?upn=3D32r1F7qKA-2FlPf4VG4Yq9V7rIj65-2FobA5M0Y4tcQ=\\r\\nq3JTqKzMlWYDtF9q7KahnmRZknYwyJrvhEIXCh5TO0LoZOMUkmgzHx5lfAk1HIGB9iXRUP7TkGs=\\r\\nr5v2YvgiD5xo2aDsGm2KtvoohD03Ce-2FV-2Blkg-3D-3DqfyD_cbLNfl9DC06I7yqAggRDStoE=\\r\\nt6EUIhRidxfYOh1J-2BZf-2FJqL8Hq-2Fw5EcfayrRJbj6IHM-2B6QY1qXVC-2FumwUE-2BQq-2=\\r\\nBj45H42RYtbuhqtF-2BE-2FswlTISfNYwxrvQ5oXLY9Hwim5B9nU4ERot8RD7IaM0d0EpvcXtkF=\\r\\nWQAwoYB2xZGCQqFOHHAV0RG86shMeNjPsBVDz5Uj4XI0p2ZmINn7az6nuy9NnHlbWSKt4Ep9ut0=\\r\\nooqcdAlAP5APZ0lfZs2TFDeVmFex8xHPl2uJrlf0xeQ8fsOmBX5LGcy2v57bORWPnlRszHxNo5C=\\r\\nVnOSG4y-2BNEB5PKiDbtgwZ5Cp19kpeCZfQcoAVqXVNhrbUrHgSLRcSJfC7NJGAxxgXRkeR2qe0=\\r\\nLb5NZVpoyBJBOJ7TroDAky57nQxg1D44HiO7g8h0OIGBQCPjbIwbGcbIC897NfZiA6nZNWBo1WH=\\r\\nSjXhLm3tUjKX4GUg-3D-3D\">email alert section of the CMS Energy Corporation s=\\r\\nite</a>.<img src=3D\"https://u11277508.ct.sendgrid.net/wf/open?upn=3Dbk3ZPPY=\\r\\nGkl6qwWr5zTpjC2oIJqUy2pVIVAGlh7a-2BXYkegjWcfNQuZdSNVfvJ7SNr78LpCXEnLIU22tUy=\\r\\nfQCLG7iWpeR5WaJbHb0d04UOYRfFn-2BX-2B2aRbVLbmmpbtmEGjkNoR5aCVqVvqOPDpCQkkSu2=\\r\\nZ54tzftwwY0cFdTiQUhD-2FEn-2FoLb-2Bj9vbN6qo9SnzD-2FOQJ-2Bevd-2Fn1S7sHqHLcJ-2=\\r\\nBOLRtimyGLnNGtpodpsFTxYbWaim7M1O3Tq-2BLgTzneTWxKC-2BLNZ4VlMx3tiKjZOmAxD7WxK=\\r\\nH7H2c1PWLuWJLqYxEBET29vTBmrDNIASXxFhNoNRB6hYciirVBhGJA2-2BP8Q8DKW9BTpcwIpNa=\\r\\n8UG-2FLxCb4QVKUNSsHEJf8kSp7KFVBjcceJECh-2BR3K5wxiYe3z4jERXXJznw3m-2BfFZEtf9=\\r\\n33OifFDG77leB1x5xdeYo9zVDg9dDCrWFmRiTfeu-2F00jgwiu5nNEdYPQyRFrMeeDAU-3D\" al=\\r\\nt=3D\"\" width=3D\"1\" height=3D\"1\" border=3D\"0\" style=3D\"height:1px !important=\\r\\n;width:1px !important;border-width:0 !important;margin-top:0 !important;mar=\\r\\ngin-bottom:0 !important;margin-right:0 !important;margin-left:0 !important;=\\r\\npadding-top:0 !important;padding-bottom:0 !important;padding-right:0 !impor=\\r\\ntant;padding-left:0 !important;\"/>\\r\\n'),\n",
       "  b')'],\n",
       " [(b'344 (RFC822 {9924}',\n",
       "   b'Delivered-To: montgash3@gmail.com\\r\\nReceived: by 2002:a05:6f02:828f:b0:61:e91d:81c with SMTP id j15csp1073782rcd;\\r\\n        Fri, 26 Jan 2024 08:28:56 -0800 (PST)\\r\\nX-Google-Smtp-Source: AGHT+IF8q0GlW1GZJM3HnwYMtTEcesZHTXAwHe0kIqn3agAGMzHTODPee2itWyhvrAskyjGyDOS9\\r\\nX-Received: by 2002:ac8:7f05:0:b0:42a:7035:8e6e with SMTP id f5-20020ac87f05000000b0042a70358e6emr149384qtk.62.1706286536275;\\r\\n        Fri, 26 Jan 2024 08:28:56 -0800 (PST)\\r\\nARC-Seal: i=1; a=rsa-sha256; t=1706286536; cv=none;\\r\\n        d=google.com; s=arc-20160816;\\r\\n        b=U1fBzDrpKGzTEhP3dsYbflpJLz2ADF502s7AAQygWpvQVB8VRn66rmi0c9aVUKfs/w\\r\\n         E74M/gLchFjPdgs+BUkOCPgcB41FQHgw43NstDKW9N/qX567MS/IODj3YHUchA3I7i/C\\r\\n         uyHmWaqmxs3iJ5nneCvEUY+Z1nYu03SSdDtMWBYYTQmfq2n/P8fT/Xz79KohDQdst+Bh\\r\\n         dV1aiLFYEYton76qLO3ukNUQqrj5eaVFEaVTRV6xPxrVCZFy6pcA1JFdJ+crFkb2zB5o\\r\\n         /Mx1c6HQfx4GvC67B4EXuu3UbnT4Vz/57TMFSJps7FbPpOvDrpb/aeOrMhTByfONs/cL\\r\\n         S+7w==\\r\\nARC-Message-Signature: i=1; a=rsa-sha256; c=relaxed/relaxed; d=google.com; s=arc-20160816;\\r\\n        h=to:reply-to:subject:message-id:mime-version:from:date\\r\\n         :content-transfer-encoding:dkim-signature:dkim-signature;\\r\\n        bh=YUwh8w7wPyoaZbTD5vqsOsmsymjjX2ocNyGl7ZIgo7I=;\\r\\n        fh=YxEBacoHXfqvNMNi6hSERLQO6OocoGvYUQDAuxxIppk=;\\r\\n        b=jSk63gYHKAZqpudt5TDrSJyIox0mUW9Cht9uLwpeBDFgTWnyPTlIy42yvnmjXmFHtl\\r\\n         1E9s6+qI8bZiHcIoqZZldl0J/IXMKqpAOgDks67wdZpt4OyAsbEMgZctdvucutC1iiUS\\r\\n         dzREy8JlLOEJaUvaGgSpYMZtGPOTZeD3mddWJc7rcFAVuNfCadKxvYwccyS3sRNHDEJ2\\r\\n         jmPOnOW9q1rk2AvZJOcwDy0ca3B5Cf/UsmpluL75ymWP7ATE2iadud6xcbwWWaJ96xey\\r\\n         UUOsyk8cGVNfoSD/EzzctGwTRUyCiRjas38C380o6faCk6VY8Ibutb1BhKT1xG/zEyk4\\r\\n         vHFw==\\r\\nARC-Authentication-Results: i=1; mx.google.com;\\r\\n       dkim=pass header.i=@cmsenergy.com header.s=zz header.b=r1rfrDQN;\\r\\n       dkim=pass header.i=@sendgrid.info header.s=smtpapi header.b=M3WazT1E;\\r\\n       spf=pass (google.com: domain of bounces+11277508-8082-montgash3=gmail.com@em7445.cmsenergy.com designates 168.245.55.252 as permitted sender) smtp.mailfrom=\"bounces+11277508-8082-montgash3=gmail.com@em7445.cmsenergy.com\";\\r\\n       dmarc=pass (p=REJECT sp=REJECT dis=NONE) header.from=cmsenergy.com\\r\\nReturn-Path: <bounces+11277508-8082-montgash3=gmail.com@em7445.cmsenergy.com>\\r\\nReceived: from o16824555x252.outbound-mail.sendgrid.net (o16824555x252.outbound-mail.sendgrid.net. [168.245.55.252])\\r\\n        by mx.google.com with ESMTPS id u15-20020a05622a14cf00b0042a5b9025e0si1484405qtx.724.2024.01.26.08.28.56\\r\\n        for <montgash3@gmail.com>\\r\\n        (version=TLS1_3 cipher=TLS_AES_128_GCM_SHA256 bits=128/128);\\r\\n        Fri, 26 Jan 2024 08:28:56 -0800 (PST)\\r\\nReceived-SPF: pass (google.com: domain of bounces+11277508-8082-montgash3=gmail.com@em7445.cmsenergy.com designates 168.245.55.252 as permitted sender) client-ip=168.245.55.252;\\r\\nAuthentication-Results: mx.google.com;\\r\\n       dkim=pass header.i=@cmsenergy.com header.s=zz header.b=r1rfrDQN;\\r\\n       dkim=pass header.i=@sendgrid.info header.s=smtpapi header.b=M3WazT1E;\\r\\n       spf=pass (google.com: domain of bounces+11277508-8082-montgash3=gmail.com@em7445.cmsenergy.com designates 168.245.55.252 as permitted sender) smtp.mailfrom=\"bounces+11277508-8082-montgash3=gmail.com@em7445.cmsenergy.com\";\\r\\n       dmarc=pass (p=REJECT sp=REJECT dis=NONE) header.from=cmsenergy.com\\r\\nDKIM-Signature: v=1; a=rsa-sha256; c=relaxed/relaxed; d=cmsenergy.com;\\r\\n\\th=content-transfer-encoding:content-type:from:mime-version:subject:\\r\\n\\treply-to:x-feedback-id:to:cc:content-type:from:subject:to;\\r\\n\\ts=zz; bh=YUwh8w7wPyoaZbTD5vqsOsmsymjjX2ocNyGl7ZIgo7I=;\\r\\n\\tb=r1rfrDQNc0JpK5ChhvddAAo4wQfq0OJ6VshsgecHz1YsKb4BHku5UjCpk21AUw3eoKGw\\r\\n\\te8Ze77EFz9xLguoCzRn2TPmLvITVmYnj2Xxxw9HJCqzfLxjNzdv6PGfHtbw8niNnD+Ekoh\\r\\n\\tXJm44F6PGoaPjCvzQFKm802CAce7D04bg9v9uOhSQQeLyH9sD/x9lgWt5LTPcSEtjQ8SHR\\r\\n\\tmOA8K/tQIRiBqoNrlv8n8Tqi7a9/3z5mt0bMkOsCFYLjqBEKMEYXMGNzs2y2JSWXb1zaIL\\r\\n\\tbblc2hZsEjJpsYNZ6UZDhjcEVynr67CiPJYDhhYv4f5a8yd4whs//weAUQJSonBQ==\\r\\nDKIM-Signature: v=1; a=rsa-sha256; c=relaxed/relaxed; d=sendgrid.info;\\r\\n\\th=content-transfer-encoding:content-type:from:mime-version:subject:\\r\\n\\treply-to:x-feedback-id:to:cc:content-type:from:subject:to;\\r\\n\\ts=smtpapi; bh=YUwh8w7wPyoaZbTD5vqsOsmsymjjX2ocNyGl7ZIgo7I=;\\r\\n\\tb=M3WazT1E4KYejIB2pAuwfr8uBxVnmMqNsHLCzID3AmuRG+8e2wdEdlI36KoxHAs+957K\\r\\n\\tIzBjs2rJVoClbzEcmtQtqMtWxFyqKdpHu9+Qjkrt9D0baXSZZucZYoxC+al7uT//0Mx8s2\\r\\n\\t/J9vRqjBmyyuU6XdcGHfjJcOjB6NJHlF4=\\r\\nReceived: by filterdrecv-5bbdbb56cd-hwvxf with SMTP id filterdrecv-5bbdbb56cd-hwvxf-1-65B3DDC7-2B\\r\\n        2024-01-26 16:28:55.959056367 +0000 UTC m=+1307520.878460705\\r\\nReceived: from MTEyNzc1MDg (unknown)\\r\\n\\tby geopod-ismtpd-29 (SG) with HTTP\\r\\n\\tid 1P18xcmwT0KQxFfa3PHyQQ\\r\\n\\tFri, 26 Jan 2024 16:28:55.914 +0000 (UTC)\\r\\nContent-Transfer-Encoding: quoted-printable\\r\\nContent-Type: text/html; charset=us-ascii\\r\\nDate: Fri, 26 Jan 2024 16:28:55 +0000 (UTC)\\r\\nFrom: CMS Energy - Investor Relations <investrel@cmsenergy.com>\\r\\nMime-Version: 1.0\\r\\nMessage-ID: <1P18xcmwT0KQxFfa3PHyQQ@geopod-ismtpd-29>\\r\\nSubject: CMS Energy Corporation - Consumers Energy Foundation Planet Awards to\\r\\n Provide $500,000 to Environmental Projects\\r\\nReply-To: investrel@cmsenergy.com\\r\\nX-Sender: no-reply@q4inc.com\\r\\nX-Feedback-ID: 11277508:SG\\r\\nX-SG-EID: \\r\\n =?us-ascii?Q?19hxCQ0+YbakdZeHfv3jRJ+lC4aMxc+Nkwv=2FSyAqKXTNMStSBKDSQ4kgRseOHr?=\\r\\n =?us-ascii?Q?i0HHmf9oeHD0qFuUcOrXBEjvCDeTNMf6jGuQsAm?=\\r\\n =?us-ascii?Q?M+XHf16NZHOkMJVY4mmfXjRMEwkRVW2Kl+4qY3A?=\\r\\n =?us-ascii?Q?onQH554xSsGkX2JKYr9eWXwHxL9EILB8GhwjQyV?=\\r\\n =?us-ascii?Q?GdkVtxgY+tE=2FAbgpIQIR9CpmOPgHoom0IggfzTF?=\\r\\n =?us-ascii?Q?K5ZK0WhZf80CR5HhjuX2LiYAukX8ooJjGlvTNPw?=\\r\\n =?us-ascii?Q?tl8VJ68UuIHrB9Vt5Yygw=3D=3D?=\\r\\nX-SG-ID: \\r\\n =?us-ascii?Q?N2C25iY2uzGMFz6rgvQsb8raWjw0ZPf1VmjsCkspi=2FLs3Ta+uBhopEhBDLaCGA?=\\r\\n =?us-ascii?Q?5f3HzDi86tKv2T0N+VpgWmZz+WGFyHyxCl5Lj8U?=\\r\\n =?us-ascii?Q?RRJ2i1R2L3+PLq2MDEuhl0tfhBpT0XQsLBjgOoL?=\\r\\n =?us-ascii?Q?WEX0bNiN=2FEmw0q4aFWDy661+CxARt3o8JNMHho5?=\\r\\n =?us-ascii?Q?TKR+TVlkW1GYHiLS5p3EY3cz4X1yqrMtaMtL4eU?=\\r\\n =?us-ascii?Q?XncxdCUe232a7da1ZTqB9t1kqC17B3qagxFTd4?=\\r\\nTo: montgash3@gmail.com\\r\\nX-Entity-ID: aKUoNb+gNVOrr9hdz9ASuQ==\\r\\n\\r\\n<img alt=3D\"\" src=3D\"http://cmsenergy.com/files/design/ClientLogo.png\">\\r\\n<br>\\r\\n<hr>\\r\\n<br>\\r\\n<strong>CMS Energy Corporation&nbsp;has added a new press release to its we=\\r\\nb site. For full details please visit the&nbsp;CMS Energy Corporation web s=\\r\\nite at:</strong><br>\\r\\n<br>\\r\\n<a href=3D\"https://u11277508.ct.sendgrid.net/ls/click?upn=3D32r1F7qKA-2FlPf=\\r\\n4VG4Yq9V7rIj65-2FobA5M0Y4tcQq3JTqKzMlWYDtF9q7KahnmRZk0QJ5e5I10M6q-2BkviFxa8=\\r\\nvLoXwGmWVJ8ZJaixO-2FLaF0JIp5uAS1yeio6NuXQv61cG32iMEr-2FwpPgjwDgjsbqRJzHWeft=\\r\\nR0YSGANtry9CmPcEj6jiuJX3zr9WhFjoBzdW1QMVxUsXHX6UgrnF2-2BUXIejj5RpTwxF0aKSdt=\\r\\nNMaq8XMdJYc4de8RkpmNiHmKjrilpA-2BHdiuIdFM01MA8btG4Kg-3D-3Dh-63_cbLNfl9DC06I=\\r\\n7yqAggRDStoEt6EUIhRidxfYOh1J-2BZf-2FJqL8Hq-2Fw5EcfayrRJbj6IHM-2B6QY1qXVC-2F=\\r\\numwUE-2BQq-2Bj45H42RYtbuhqtF-2BE-2FswlTISfNYwxrvQ5oXLY9Hwim5B9nU4ERot8RD7Ia=\\r\\nM0d0EpvcXtkFWQAwoYB2xZGCQqEGawz0Av-2Fk8VUVldeCaKJnXm1wCeLWINFn6n8p8Ek7D-2FL=\\r\\n2YaJ634ou3fAwZs1B6BJtYHRtWuZSAPhbdRh2Fn0ZjmZ3ccDbkRB1Cym123-2B5kESwPraAl12I=\\r\\nel69T2Q6lgqa28iU5GIh2wtgStHwq2DBRxHF-2BOOkcHZ5f17k7TZBulqfSBsjyY4oxMfOukqmf=\\r\\n-2FGn9fWn-2FwPXBIkeZJor7yLPZLhwYj-2B3SPi1rIldiwAt8Q18AcU1ZNnvOzjXZxbUUho53G=\\r\\nNJN61ZDXHFnMzruKOz\">Consumers Energy Foundation Planet Awards to Provide $5=\\r\\n00,000 to Environmental Projects</a><br>\\r\\n<br>\\r\\n<a href=3D\"https://u11277508.ct.sendgrid.net/ls/click?upn=3DQHV9pJ3XucdNDzN=\\r\\ndZffVoeIwHKqzY0EajXPLtAyATQ5hP1SUYdrYNdHL-2F7114hQmu-2F-2FzFoVr3lvQK9nCtV4D=\\r\\nERV-2FmsixiJLFpLnuxZSeD-2FA-3D_cRq_cbLNfl9DC06I7yqAggRDStoEt6EUIhRidxfYOh1J=\\r\\n-2BZf-2FJqL8Hq-2Fw5EcfayrRJbj6IHM-2B6QY1qXVC-2FumwUE-2BQq-2Bj45H42RYtbuhqtF=\\r\\n-2BE-2FswlTISfNYwxrvQ5oXLY9Hwim5B9nU4ERot8RD7IaM0d0EpvcXtkFWQAwoYB2xZGCQqEG=\\r\\nawz0Av-2Fk8VUVldeCaKJnXm1wCeLWINFn6n8p8Ek7D-2FL2YaJ634ou3fAwZs1B6BJtYHRtWuZ=\\r\\nSAPhbdRh2Fn0ZjmZ3ccDbkRB1Cym123-2B5kAzyu0ThfttRiE1llgFhG21wMHxZGdsL9pEd-2FU=\\r\\nsOMD7Ll5v0872kHObuqMPsW-2FY8FaMS9cdg1JBXHWD1EYXTzAUz-2B-2FUBmL0-2B-2Fv5pe-2=\\r\\nBa0M-2FcG3tW91olQk8-2FXXLleHs-2FK7isnRjzzXZ-2BaeVlALopj-2BOeJpfEyyS-2F4L5wV=\\r\\nKT0rhTi0\">Click Here</a> for a complete listing of CMS Energy Corporation p=\\r\\nress releases.<br>\\r\\n<br>\\r\\n-------------------<br>\\r\\nTo unsubscribe from this list please visit the <a href=3D\"https://u11277508=\\r\\n.ct.sendgrid.net/ls/click?upn=3D32r1F7qKA-2FlPf4VG4Yq9V7rIj65-2FobA5M0Y4tcQ=\\r\\nq3JTqKzMlWYDtF9q7KahnmRZknYwyJrvhEIXCh5TO0LoZOMUkmgzHx5lfAk1HIGB9iXRUP7TkGs=\\r\\nr5v2YvgiD5xo2aDsGm2KtvoohD03Ce-2FV-2Blkg-3D-3D14og_cbLNfl9DC06I7yqAggRDStoE=\\r\\nt6EUIhRidxfYOh1J-2BZf-2FJqL8Hq-2Fw5EcfayrRJbj6IHM-2B6QY1qXVC-2FumwUE-2BQq-2=\\r\\nBj45H42RYtbuhqtF-2BE-2FswlTISfNYwxrvQ5oXLY9Hwim5B9nU4ERot8RD7IaM0d0EpvcXtkF=\\r\\nWQAwoYB2xZGCQqEGawz0Av-2Fk8VUVldeCaKJnXm1wCeLWINFn6n8p8Ek7D-2FL2YaJ634ou3fA=\\r\\nwZs1B6BJtYHRtWuZSAPhbdRh2Fn0ZjmZ3ccDbkRB1Cym123-2B5kADN8Q2IK-2Fc6dt7VqCXanN=\\r\\n8dYE-2FZpFtttBDDxBv29ITSP8947fn8eHXx2kxAbVge8Da5yxcdnHBjOR6GHiRaCiT9jw-2FAv=\\r\\nbWa4OUA1CI-2FWv1m47D06Q41Nocmk0zIvWK51xBFzmOs8aKQ9tth-2FuL0dDJ8hspvJTzldjZj=\\r\\nelxdfr4I\">email alert section of the CMS Energy Corporation site</a>.<img s=\\r\\nrc=3D\"https://u11277508.ct.sendgrid.net/wf/open?upn=3Dbk3ZPPYGkl6qwWr5zTpjC=\\r\\n2oIJqUy2pVIVAGlh7a-2BXYkegjWcfNQuZdSNVfvJ7SNr78LpCXEnLIU22tUyfQCLG7iWpeR5Wa=\\r\\nJbHb0d04UOYRfFn-2BX-2B2aRbVLbmmpbtmEGjkNoR5aCVqVvqOPDpCQkkSu2Z54tzftwwY0cFd=\\r\\nTiQUhD3GQ3-2BaJwiVg-2BRdVeVyMPE8SY6IXJ1gvJ42CZBJdK3QAZff1-2B8SYYlRQ9u5QS8ns=\\r\\nHi4iCjTpn0PI-2FGMmw1oilntZNcXmwgMzeLQlSFduILHBHLD6So8HcABbWDorplHF61ZYk7hcB=\\r\\nvMaGAi0Q1CZpcLBQbpIRpdXBjG8YZzQ0im-2BoP-2FtUSGiKRe7lvl52BCtT3KxQycLQQpk6LS6=\\r\\n-2FypqtVzkgMbEcT96dKGmFobMdYXIic6OtFOBXPpL3sA6g70V-2F0BdzzL0tyt0OIsYB69R3K\"=\\r\\n alt=3D\"\" width=3D\"1\" height=3D\"1\" border=3D\"0\" style=3D\"height:1px !import=\\r\\nant;width:1px !important;border-width:0 !important;margin-top:0 !important;=\\r\\nmargin-bottom:0 !important;margin-right:0 !important;margin-left:0 !importa=\\r\\nnt;padding-top:0 !important;padding-bottom:0 !important;padding-right:0 !im=\\r\\nportant;padding-left:0 !important;\"/>\\r\\n'),\n",
       "  b')'],\n",
       " [(b'681 (RFC822 {9854}',\n",
       "   b'Delivered-To: montgash3@gmail.com\\r\\nReceived: by 2002:a05:6f02:8433:b0:61:e91d:81c with SMTP id v51csp1815961rce;\\r\\n        Tue, 30 Jan 2024 08:19:14 -0800 (PST)\\r\\nX-Google-Smtp-Source: AGHT+IGH8npZ69Tnod+TmsjnE+i0xC/3IayHidFb+qHSNioYe8Jxc7aSytiLjAzKh79cJEKd5Ews\\r\\nX-Received: by 2002:a67:f8d0:0:b0:46b:4947:ed89 with SMTP id c16-20020a67f8d0000000b0046b4947ed89mr4531331vsp.7.1706631554036;\\r\\n        Tue, 30 Jan 2024 08:19:14 -0800 (PST)\\r\\nARC-Seal: i=1; a=rsa-sha256; t=1706631554; cv=none;\\r\\n        d=google.com; s=arc-20160816;\\r\\n        b=CcU7LXWDCW7tzEUeFzk1bF1n38pR92ilza8d779aivJgJWkelShE/7gOnNK6hzI1Fm\\r\\n         0oK8K1HeebPLZ05F4JA4hlPIOTvcxmRuQwlALjE7RFaOM+SPPwG7S8Y+ykJd/uKAFsL7\\r\\n         or93RuTlT0M309WsUKJ08uNdjcQDNCcq0us3++8Eyt4iYz4nwl8c1cBmfepEZp6s7b55\\r\\n         SEN5XdjbKNCixDfATu6cEywtrAAbbVBFIYDCB4EyI/GH9Gaz/hJMox8ly0AVknlNO31K\\r\\n         xCy4fd0AfzdPyprKpklJMa0ua+BDkPjbJ3eBrN6TgEQT/wCbyjngnpNYbfJ8F2AFYkj8\\r\\n         02pw==\\r\\nARC-Message-Signature: i=1; a=rsa-sha256; c=relaxed/relaxed; d=google.com; s=arc-20160816;\\r\\n        h=to:reply-to:subject:message-id:mime-version:from:date\\r\\n         :content-transfer-encoding:dkim-signature:dkim-signature;\\r\\n        bh=6cazH3s+onQtYYHqXQyJJ9vMLGZG7ZegkHFfsV2EXQ4=;\\r\\n        fh=YxEBacoHXfqvNMNi6hSERLQO6OocoGvYUQDAuxxIppk=;\\r\\n        b=YBYGLFR7pje67UdrV+BvmSnTjmTKOzrMFYaDy6f7Ls13vYtJAKgolJwwF+SlUz0DXd\\r\\n         wDVcSEFyCJdW4XhGh3zAmd/fENU2t8+IAGq3thB9r/WpuvFAUDXs1LJ0WG8NyC8JVZDQ\\r\\n         m5y1KfGV0kYTyRx9y0CHQ4PvPQlWf9g9nKy9Rh/HWfXq99aztZkWczjLKf9Ytvr+awID\\r\\n         cvh1rJcT1N7ZTHryqO6GcJphkO310zm+86nLSU3MTJJa12xrJplWwo38zPPCnRq2MMdQ\\r\\n         FwmiI5mjs82gtiPy36WTmlw+Si/xv6eSnhOJwAmz5lkoZYj3azJo9+kPFNPESC6pLzSA\\r\\n         QQeA==\\r\\nARC-Authentication-Results: i=1; mx.google.com;\\r\\n       dkim=pass header.i=@cmsenergy.com header.s=zz header.b=WPDphfQ1;\\r\\n       dkim=pass header.i=@sendgrid.info header.s=smtpapi header.b=\"eLKdgY/u\";\\r\\n       spf=pass (google.com: domain of bounces+11277508-8082-montgash3=gmail.com@em7445.cmsenergy.com designates 168.245.55.252 as permitted sender) smtp.mailfrom=\"bounces+11277508-8082-montgash3=gmail.com@em7445.cmsenergy.com\";\\r\\n       dmarc=pass (p=REJECT sp=REJECT dis=NONE) header.from=cmsenergy.com\\r\\nReturn-Path: <bounces+11277508-8082-montgash3=gmail.com@em7445.cmsenergy.com>\\r\\nReceived: from o16824555x252.outbound-mail.sendgrid.net (o16824555x252.outbound-mail.sendgrid.net. [168.245.55.252])\\r\\n        by mx.google.com with ESMTPS id j18-20020a67f3d2000000b00469831eb1c2si1162506vsn.637.2024.01.30.08.19.13\\r\\n        for <montgash3@gmail.com>\\r\\n        (version=TLS1_3 cipher=TLS_AES_128_GCM_SHA256 bits=128/128);\\r\\n        Tue, 30 Jan 2024 08:19:14 -0800 (PST)\\r\\nReceived-SPF: pass (google.com: domain of bounces+11277508-8082-montgash3=gmail.com@em7445.cmsenergy.com designates 168.245.55.252 as permitted sender) client-ip=168.245.55.252;\\r\\nAuthentication-Results: mx.google.com;\\r\\n       dkim=pass header.i=@cmsenergy.com header.s=zz header.b=WPDphfQ1;\\r\\n       dkim=pass header.i=@sendgrid.info header.s=smtpapi header.b=\"eLKdgY/u\";\\r\\n       spf=pass (google.com: domain of bounces+11277508-8082-montgash3=gmail.com@em7445.cmsenergy.com designates 168.245.55.252 as permitted sender) smtp.mailfrom=\"bounces+11277508-8082-montgash3=gmail.com@em7445.cmsenergy.com\";\\r\\n       dmarc=pass (p=REJECT sp=REJECT dis=NONE) header.from=cmsenergy.com\\r\\nDKIM-Signature: v=1; a=rsa-sha256; c=relaxed/relaxed; d=cmsenergy.com;\\r\\n\\th=content-transfer-encoding:content-type:from:mime-version:subject:\\r\\n\\treply-to:x-feedback-id:to:cc:content-type:from:subject:to;\\r\\n\\ts=zz; bh=6cazH3s+onQtYYHqXQyJJ9vMLGZG7ZegkHFfsV2EXQ4=;\\r\\n\\tb=WPDphfQ1Mio3eIXB+dasPtfBO6DqLNXiC38m2Z0KqrtkpKtMW23vgea/vL0H2oIWZ+/X\\r\\n\\tuB8mVevAqEbicezS4tZdOnsa/uaY9PzcDKn7A/tYKgCLvA8rgiKVMUlnohM1rrX8uKg1ZQ\\r\\n\\tg6apxPj2uLDnTvENTYcSVIzFQ7CIpynMJ3DiyZncozFQUgKhBzWip7ygaKslE7MeGc45NU\\r\\n\\tFoX4lmui635WkArw5BGhn6VRGoMZqvkW1+T8ANd9swz0J8WyW+VbWtCPuzdYJH8nKe0tNY\\r\\n\\tcXnEvJPqb+GIOtTgg22TA6r/CEF6SjNwhjcRNLEjbWy8ay84hRo9lJqGLmZBertA==\\r\\nDKIM-Signature: v=1; a=rsa-sha256; c=relaxed/relaxed; d=sendgrid.info;\\r\\n\\th=content-transfer-encoding:content-type:from:mime-version:subject:\\r\\n\\treply-to:x-feedback-id:to:cc:content-type:from:subject:to;\\r\\n\\ts=smtpapi; bh=6cazH3s+onQtYYHqXQyJJ9vMLGZG7ZegkHFfsV2EXQ4=;\\r\\n\\tb=eLKdgY/uknQAtL3nCHdhcDkXC9T3paATkEVnx70L/LzAwj5XFzgp7mdqiR0EVCmb5h40\\r\\n\\tLXRyPIolHmnS3tPABcVs8t3f91CVYqfZtB0R73QMmI/gVEJHWsZRV3sffeX2xp+X2diIN7\\r\\n\\tKbAxRyxO81trp/8SnQBLxSDWxkzHfGDOE=\\r\\nReceived: by filterdrecv-5bbdbb56cd-l5dl4 with SMTP id filterdrecv-5bbdbb56cd-l5dl4-1-65B92181-22\\r\\n        2024-01-30 16:19:13.627641438 +0000 UTC m=+1652539.356701410\\r\\nReceived: from MTEyNzc1MDg (unknown)\\r\\n\\tby geopod-ismtpd-29 (SG) with HTTP\\r\\n\\tid y9Xo5HuhRhi9pSWRPaNMmA\\r\\n\\tTue, 30 Jan 2024 16:19:13.622 +0000 (UTC)\\r\\nContent-Transfer-Encoding: quoted-printable\\r\\nContent-Type: text/html; charset=us-ascii\\r\\nDate: Tue, 30 Jan 2024 16:19:13 +0000 (UTC)\\r\\nFrom: CMS Energy - Investor Relations <investrel@cmsenergy.com>\\r\\nMime-Version: 1.0\\r\\nMessage-ID: <y9Xo5HuhRhi9pSWRPaNMmA@geopod-ismtpd-29>\\r\\nSubject: CMS Energy Corporation - Consumers Energy and Consumers Energy\\r\\n Foundation Donate More than $11 Million in 2023\\r\\nReply-To: investrel@cmsenergy.com\\r\\nX-Sender: no-reply@q4inc.com\\r\\nX-Feedback-ID: 11277508:SG\\r\\nX-SG-EID: \\r\\n =?us-ascii?Q?19hxCQ0+YbakdZeHfv3jRJ+lC4aMxc+Nkwv=2FSyAqKXTNMStSBKDSQ4kgRseOHr?=\\r\\n =?us-ascii?Q?i0HHmf9oeHD0qFuUcOrXBEjvCDeTNMf6jGuQsAm?=\\r\\n =?us-ascii?Q?M+XHf2oSrskSFFSA3yhhxEyNN2NZcZJDoPXsicT?=\\r\\n =?us-ascii?Q?HKx1x1v8KyM6uXvoVp93+9k+5i+tKRZStFZjG2d?=\\r\\n =?us-ascii?Q?OKKO+ApZNAv7GMFLg5Lk2GcnkTSRm5WVlI=2FVjOs?=\\r\\n =?us-ascii?Q?VXDSK809e3Um3G0d+JlWRoqQ7zaTgGwuHi+owC5?=\\r\\n =?us-ascii?Q?T9wmAImmaLQBAYFlQRYuA=3D=3D?=\\r\\nX-SG-ID: \\r\\n =?us-ascii?Q?N2C25iY2uzGMFz6rgvQsb8raWjw0ZPf1VmjsCkspi=2FLs3Ta+uBhopEhBDLaCGA?=\\r\\n =?us-ascii?Q?5f3HzDi86tKv2T0N+VpgWmZz+WGFyHyxCl5Lj8U?=\\r\\n =?us-ascii?Q?RRJ2i1R2L3+PLq2MDEuhl0tfhBpT0XQsLBjgOoL?=\\r\\n =?us-ascii?Q?WEX0bNiN=2FGzPcFae45poqzqCh0B8lQDJVrmjBsI?=\\r\\n =?us-ascii?Q?6lNOoer6h5bYCzwHguacz8jx5hPpgPzPWSgpVLE?=\\r\\n =?us-ascii?Q?u94N29UKD0NgQGkTH9Kj1l8vRJgbr0juzWLz+P?=\\r\\nTo: montgash3@gmail.com\\r\\nX-Entity-ID: aKUoNb+gNVOrr9hdz9ASuQ==\\r\\n\\r\\n<img alt=3D\"\" src=3D\"http://cmsenergy.com/files/design/ClientLogo.png\">\\r\\n<br>\\r\\n<hr>\\r\\n<br>\\r\\n<strong>CMS Energy Corporation&nbsp;has added a new press release to its we=\\r\\nb site. For full details please visit the&nbsp;CMS Energy Corporation web s=\\r\\nite at:</strong><br>\\r\\n<br>\\r\\n<a href=3D\"https://u11277508.ct.sendgrid.net/ls/click?upn=3D32r1F7qKA-2FlPf=\\r\\n4VG4Yq9V7rIj65-2FobA5M0Y4tcQq3JTqKzMlWYDtF9q7KahnmRZk0QJ5e5I10M6q-2BkviFxa8=\\r\\nvLoXwGmWVJ8ZJaixO-2FLaF0JIp5uAS1yeio6NuXQv61cGg1h5OdfqSzI3HqXIkAnpfSGFyaB8I=\\r\\n8mebPPEKtE47X-2Bhcdt-2FfUoHYTGt1o1Rn9q-2BrUzjRfZ9gK2ci1chWZmuSfcqgV-2F2B75p=\\r\\n-2BfF7c4I5jg69hM18kS291fvDgubgCnHejYJZ_cbLNfl9DC06I7yqAggRDStoEt6EUIhRidxfY=\\r\\nOh1J-2BZf-2FJqL8Hq-2Fw5EcfayrRJbj6IHM-2B6QY1qXVC-2FumwUE-2BQq-2Bj45H42RYtbu=\\r\\nhqtF-2BE-2FswlTISfNYwxrvQ5oXLY9Hwim5B9nU4ERot8RD7IaM0d0Elxt-2B5C4kKiRtJWlc9=\\r\\nzJpd5uEpi8CD2JYEus8e722pCs8o1kHWbJFwIKJ-2BLa-2FCmJ8TzlSbpH7pgq7-2BaRxtCMzlD=\\r\\nYNH02IxvE8bu-2FAh54pB-2F10JL-2FZc8iwIVpmr6t-2FfpBcHuw86S6w6NkTb3-2B8DibNnjm=\\r\\nhfRrUFHDri3HCEFm2X34y8PWgtVIan2Kx6aXQ1pbPBlDhEhm1ECzhTm1MWg9KpLEvSX5cUXaOO7=\\r\\nILbpW-2F-2BkPTQxwSANJREyob5GMu04jw2MROlW2Zou9iu0FXhe07vQ-3D\">Consumers Ener=\\r\\ngy and Consumers Energy Foundation Donate More than $11 Million in 2023</a>=\\r\\n<br>\\r\\n<br>\\r\\n<a href=3D\"https://u11277508.ct.sendgrid.net/ls/click?upn=3DQHV9pJ3XucdNDzN=\\r\\ndZffVoeIwHKqzY0EajXPLtAyATQ5hP1SUYdrYNdHL-2F7114hQmu-2F-2FzFoVr3lvQK9nCtV4D=\\r\\nERV-2FmsixiJLFpLnuxZSeD-2FA-3DiYzm_cbLNfl9DC06I7yqAggRDStoEt6EUIhRidxfYOh1J=\\r\\n-2BZf-2FJqL8Hq-2Fw5EcfayrRJbj6IHM-2B6QY1qXVC-2FumwUE-2BQq-2Bj45H42RYtbuhqtF=\\r\\n-2BE-2FswlTISfNYwxrvQ5oXLY9Hwim5B9nU4ERot8RD7IaM0d0Elxt-2B5C4kKiRtJWlc9zJpd=\\r\\n5uEpi8CD2JYEus8e722pCs8o1kHWbJFwIKJ-2BLa-2FCmJ8TzlSbpH7pgq7-2BaRxtCMzlDYNH0=\\r\\n2IxvE8bu-2FAh54pB-2F10JL-2FZc8iwIVpmr6t-2FfpBcGlttYdZTSn4JzaFn2kM2YXnLt-2FZ=\\r\\nF5v5RTGho-2FBFnC3CYTA5To936TCjQEaJgJejR5s-2BtxogR9LCXDceaMQ9AZDyJC8OAk-2BUX=\\r\\nMq0IbLXcm1FvuqWsYUZ4X1fxvlURgQFhW1w7RQ5nMbypQpfWZR-2BDjA-3D\">Click Here</a>=\\r\\n for a complete listing of CMS Energy Corporation press releases.<br>\\r\\n<br>\\r\\n-------------------<br>\\r\\nTo unsubscribe from this list please visit the <a href=3D\"https://u11277508=\\r\\n.ct.sendgrid.net/ls/click?upn=3D32r1F7qKA-2FlPf4VG4Yq9V7rIj65-2FobA5M0Y4tcQ=\\r\\nq3JTqKzMlWYDtF9q7KahnmRZknYwyJrvhEIXCh5TO0LoZOMUkmgzHx5lfAk1HIGB9iXRUP7TkGs=\\r\\nr5v2YvgiD5xo2aDsGm2KtvoohD03Ce-2FV-2Blkg-3D-3DV1qv_cbLNfl9DC06I7yqAggRDStoE=\\r\\nt6EUIhRidxfYOh1J-2BZf-2FJqL8Hq-2Fw5EcfayrRJbj6IHM-2B6QY1qXVC-2FumwUE-2BQq-2=\\r\\nBj45H42RYtbuhqtF-2BE-2FswlTISfNYwxrvQ5oXLY9Hwim5B9nU4ERot8RD7IaM0d0Elxt-2B5=\\r\\nC4kKiRtJWlc9zJpd5uEpi8CD2JYEus8e722pCs8o1kHWbJFwIKJ-2BLa-2FCmJ8TzlSbpH7pgq7=\\r\\n-2BaRxtCMzlDYNH02IxvE8bu-2FAh54pB-2F10JL-2FZc8iwIVpmr6t-2FfpBcKcUFNB25WIWSs=\\r\\nMiKMJjJrIyMiPGnXO3oONQ0mK4nfmQi-2BP-2FJxaf0qP7Dg-2FJT1pQCtPd9vPDbteZAT5YRWL=\\r\\nBrzYePSgo4tgszAqT65QlMN5Z-2BoQ6Tn8myVMvECf39jQDZ4Vgs2aWitF21PsX-2BP1uTDA-3D=\\r\\n\">email alert section of the CMS Energy Corporation site</a>.<img src=3D\"ht=\\r\\ntps://u11277508.ct.sendgrid.net/wf/open?upn=3Dbk3ZPPYGkl6qwWr5zTpjC2oIJqUy2=\\r\\npVIVAGlh7a-2BXYkegjWcfNQuZdSNVfvJ7SNr78LpCXEnLIU22tUyfQCLG7iWpeR5WaJbHb0d04=\\r\\nUOYRfFn-2BX-2B2aRbVLbmmpbtmEGjkNoR5aCVqVvqOPDpCQkkSh84vQvt2VDEhFZwZQmD6Wbs-=\\r\\n2FLhwPm4fAKWjyBYMrf7mS1Flz4fFI8TGCPwAainfLntQ6WSySxlnLHqIVtQmDW-2BprK1euPMz=\\r\\ni8BSgrmwU-2F8rsAklTTO3lwdu0X4ewIqHRrr0LktZAcBvyX6wutXzbXza72seNWbAz5MysRgjQ=\\r\\nEXR-2BzPJZUI-2FinKzkLnTfvU4XJvCvwPlRl1eMuH8tlkX9iQPUAGnkAYq-2B6u2LZ3I5fomaB=\\r\\niNofvhINvbNLaAjAPIJoHZWQrUIhJfwjv86IFmmQnMHGnPVdgcOge-2FOJdkLmzL\" alt=3D\"\" =\\r\\nwidth=3D\"1\" height=3D\"1\" border=3D\"0\" style=3D\"height:1px !important;width:=\\r\\n1px !important;border-width:0 !important;margin-top:0 !important;margin-bot=\\r\\ntom:0 !important;margin-right:0 !important;margin-left:0 !important;padding=\\r\\n-top:0 !important;padding-bottom:0 !important;padding-right:0 !important;pa=\\r\\ndding-left:0 !important;\"/>\\r\\n'),\n",
       "  b')']]"
      ]
     },
     "execution_count": 256,
     "metadata": {},
     "output_type": "execute_result"
    }
   ],
   "source": [
    "msgs"
   ]
  },
  {
   "cell_type": "code",
   "execution_count": 257,
   "metadata": {},
   "outputs": [
    {
     "data": {
      "text/plain": [
       "[[(b'681 (RFC822 {9854}',\n",
       "   b'Delivered-To: montgash3@gmail.com\\r\\nReceived: by 2002:a05:6f02:8433:b0:61:e91d:81c with SMTP id v51csp1815961rce;\\r\\n        Tue, 30 Jan 2024 08:19:14 -0800 (PST)\\r\\nX-Google-Smtp-Source: AGHT+IGH8npZ69Tnod+TmsjnE+i0xC/3IayHidFb+qHSNioYe8Jxc7aSytiLjAzKh79cJEKd5Ews\\r\\nX-Received: by 2002:a67:f8d0:0:b0:46b:4947:ed89 with SMTP id c16-20020a67f8d0000000b0046b4947ed89mr4531331vsp.7.1706631554036;\\r\\n        Tue, 30 Jan 2024 08:19:14 -0800 (PST)\\r\\nARC-Seal: i=1; a=rsa-sha256; t=1706631554; cv=none;\\r\\n        d=google.com; s=arc-20160816;\\r\\n        b=CcU7LXWDCW7tzEUeFzk1bF1n38pR92ilza8d779aivJgJWkelShE/7gOnNK6hzI1Fm\\r\\n         0oK8K1HeebPLZ05F4JA4hlPIOTvcxmRuQwlALjE7RFaOM+SPPwG7S8Y+ykJd/uKAFsL7\\r\\n         or93RuTlT0M309WsUKJ08uNdjcQDNCcq0us3++8Eyt4iYz4nwl8c1cBmfepEZp6s7b55\\r\\n         SEN5XdjbKNCixDfATu6cEywtrAAbbVBFIYDCB4EyI/GH9Gaz/hJMox8ly0AVknlNO31K\\r\\n         xCy4fd0AfzdPyprKpklJMa0ua+BDkPjbJ3eBrN6TgEQT/wCbyjngnpNYbfJ8F2AFYkj8\\r\\n         02pw==\\r\\nARC-Message-Signature: i=1; a=rsa-sha256; c=relaxed/relaxed; d=google.com; s=arc-20160816;\\r\\n        h=to:reply-to:subject:message-id:mime-version:from:date\\r\\n         :content-transfer-encoding:dkim-signature:dkim-signature;\\r\\n        bh=6cazH3s+onQtYYHqXQyJJ9vMLGZG7ZegkHFfsV2EXQ4=;\\r\\n        fh=YxEBacoHXfqvNMNi6hSERLQO6OocoGvYUQDAuxxIppk=;\\r\\n        b=YBYGLFR7pje67UdrV+BvmSnTjmTKOzrMFYaDy6f7Ls13vYtJAKgolJwwF+SlUz0DXd\\r\\n         wDVcSEFyCJdW4XhGh3zAmd/fENU2t8+IAGq3thB9r/WpuvFAUDXs1LJ0WG8NyC8JVZDQ\\r\\n         m5y1KfGV0kYTyRx9y0CHQ4PvPQlWf9g9nKy9Rh/HWfXq99aztZkWczjLKf9Ytvr+awID\\r\\n         cvh1rJcT1N7ZTHryqO6GcJphkO310zm+86nLSU3MTJJa12xrJplWwo38zPPCnRq2MMdQ\\r\\n         FwmiI5mjs82gtiPy36WTmlw+Si/xv6eSnhOJwAmz5lkoZYj3azJo9+kPFNPESC6pLzSA\\r\\n         QQeA==\\r\\nARC-Authentication-Results: i=1; mx.google.com;\\r\\n       dkim=pass header.i=@cmsenergy.com header.s=zz header.b=WPDphfQ1;\\r\\n       dkim=pass header.i=@sendgrid.info header.s=smtpapi header.b=\"eLKdgY/u\";\\r\\n       spf=pass (google.com: domain of bounces+11277508-8082-montgash3=gmail.com@em7445.cmsenergy.com designates 168.245.55.252 as permitted sender) smtp.mailfrom=\"bounces+11277508-8082-montgash3=gmail.com@em7445.cmsenergy.com\";\\r\\n       dmarc=pass (p=REJECT sp=REJECT dis=NONE) header.from=cmsenergy.com\\r\\nReturn-Path: <bounces+11277508-8082-montgash3=gmail.com@em7445.cmsenergy.com>\\r\\nReceived: from o16824555x252.outbound-mail.sendgrid.net (o16824555x252.outbound-mail.sendgrid.net. [168.245.55.252])\\r\\n        by mx.google.com with ESMTPS id j18-20020a67f3d2000000b00469831eb1c2si1162506vsn.637.2024.01.30.08.19.13\\r\\n        for <montgash3@gmail.com>\\r\\n        (version=TLS1_3 cipher=TLS_AES_128_GCM_SHA256 bits=128/128);\\r\\n        Tue, 30 Jan 2024 08:19:14 -0800 (PST)\\r\\nReceived-SPF: pass (google.com: domain of bounces+11277508-8082-montgash3=gmail.com@em7445.cmsenergy.com designates 168.245.55.252 as permitted sender) client-ip=168.245.55.252;\\r\\nAuthentication-Results: mx.google.com;\\r\\n       dkim=pass header.i=@cmsenergy.com header.s=zz header.b=WPDphfQ1;\\r\\n       dkim=pass header.i=@sendgrid.info header.s=smtpapi header.b=\"eLKdgY/u\";\\r\\n       spf=pass (google.com: domain of bounces+11277508-8082-montgash3=gmail.com@em7445.cmsenergy.com designates 168.245.55.252 as permitted sender) smtp.mailfrom=\"bounces+11277508-8082-montgash3=gmail.com@em7445.cmsenergy.com\";\\r\\n       dmarc=pass (p=REJECT sp=REJECT dis=NONE) header.from=cmsenergy.com\\r\\nDKIM-Signature: v=1; a=rsa-sha256; c=relaxed/relaxed; d=cmsenergy.com;\\r\\n\\th=content-transfer-encoding:content-type:from:mime-version:subject:\\r\\n\\treply-to:x-feedback-id:to:cc:content-type:from:subject:to;\\r\\n\\ts=zz; bh=6cazH3s+onQtYYHqXQyJJ9vMLGZG7ZegkHFfsV2EXQ4=;\\r\\n\\tb=WPDphfQ1Mio3eIXB+dasPtfBO6DqLNXiC38m2Z0KqrtkpKtMW23vgea/vL0H2oIWZ+/X\\r\\n\\tuB8mVevAqEbicezS4tZdOnsa/uaY9PzcDKn7A/tYKgCLvA8rgiKVMUlnohM1rrX8uKg1ZQ\\r\\n\\tg6apxPj2uLDnTvENTYcSVIzFQ7CIpynMJ3DiyZncozFQUgKhBzWip7ygaKslE7MeGc45NU\\r\\n\\tFoX4lmui635WkArw5BGhn6VRGoMZqvkW1+T8ANd9swz0J8WyW+VbWtCPuzdYJH8nKe0tNY\\r\\n\\tcXnEvJPqb+GIOtTgg22TA6r/CEF6SjNwhjcRNLEjbWy8ay84hRo9lJqGLmZBertA==\\r\\nDKIM-Signature: v=1; a=rsa-sha256; c=relaxed/relaxed; d=sendgrid.info;\\r\\n\\th=content-transfer-encoding:content-type:from:mime-version:subject:\\r\\n\\treply-to:x-feedback-id:to:cc:content-type:from:subject:to;\\r\\n\\ts=smtpapi; bh=6cazH3s+onQtYYHqXQyJJ9vMLGZG7ZegkHFfsV2EXQ4=;\\r\\n\\tb=eLKdgY/uknQAtL3nCHdhcDkXC9T3paATkEVnx70L/LzAwj5XFzgp7mdqiR0EVCmb5h40\\r\\n\\tLXRyPIolHmnS3tPABcVs8t3f91CVYqfZtB0R73QMmI/gVEJHWsZRV3sffeX2xp+X2diIN7\\r\\n\\tKbAxRyxO81trp/8SnQBLxSDWxkzHfGDOE=\\r\\nReceived: by filterdrecv-5bbdbb56cd-l5dl4 with SMTP id filterdrecv-5bbdbb56cd-l5dl4-1-65B92181-22\\r\\n        2024-01-30 16:19:13.627641438 +0000 UTC m=+1652539.356701410\\r\\nReceived: from MTEyNzc1MDg (unknown)\\r\\n\\tby geopod-ismtpd-29 (SG) with HTTP\\r\\n\\tid y9Xo5HuhRhi9pSWRPaNMmA\\r\\n\\tTue, 30 Jan 2024 16:19:13.622 +0000 (UTC)\\r\\nContent-Transfer-Encoding: quoted-printable\\r\\nContent-Type: text/html; charset=us-ascii\\r\\nDate: Tue, 30 Jan 2024 16:19:13 +0000 (UTC)\\r\\nFrom: CMS Energy - Investor Relations <investrel@cmsenergy.com>\\r\\nMime-Version: 1.0\\r\\nMessage-ID: <y9Xo5HuhRhi9pSWRPaNMmA@geopod-ismtpd-29>\\r\\nSubject: CMS Energy Corporation - Consumers Energy and Consumers Energy\\r\\n Foundation Donate More than $11 Million in 2023\\r\\nReply-To: investrel@cmsenergy.com\\r\\nX-Sender: no-reply@q4inc.com\\r\\nX-Feedback-ID: 11277508:SG\\r\\nX-SG-EID: \\r\\n =?us-ascii?Q?19hxCQ0+YbakdZeHfv3jRJ+lC4aMxc+Nkwv=2FSyAqKXTNMStSBKDSQ4kgRseOHr?=\\r\\n =?us-ascii?Q?i0HHmf9oeHD0qFuUcOrXBEjvCDeTNMf6jGuQsAm?=\\r\\n =?us-ascii?Q?M+XHf2oSrskSFFSA3yhhxEyNN2NZcZJDoPXsicT?=\\r\\n =?us-ascii?Q?HKx1x1v8KyM6uXvoVp93+9k+5i+tKRZStFZjG2d?=\\r\\n =?us-ascii?Q?OKKO+ApZNAv7GMFLg5Lk2GcnkTSRm5WVlI=2FVjOs?=\\r\\n =?us-ascii?Q?VXDSK809e3Um3G0d+JlWRoqQ7zaTgGwuHi+owC5?=\\r\\n =?us-ascii?Q?T9wmAImmaLQBAYFlQRYuA=3D=3D?=\\r\\nX-SG-ID: \\r\\n =?us-ascii?Q?N2C25iY2uzGMFz6rgvQsb8raWjw0ZPf1VmjsCkspi=2FLs3Ta+uBhopEhBDLaCGA?=\\r\\n =?us-ascii?Q?5f3HzDi86tKv2T0N+VpgWmZz+WGFyHyxCl5Lj8U?=\\r\\n =?us-ascii?Q?RRJ2i1R2L3+PLq2MDEuhl0tfhBpT0XQsLBjgOoL?=\\r\\n =?us-ascii?Q?WEX0bNiN=2FGzPcFae45poqzqCh0B8lQDJVrmjBsI?=\\r\\n =?us-ascii?Q?6lNOoer6h5bYCzwHguacz8jx5hPpgPzPWSgpVLE?=\\r\\n =?us-ascii?Q?u94N29UKD0NgQGkTH9Kj1l8vRJgbr0juzWLz+P?=\\r\\nTo: montgash3@gmail.com\\r\\nX-Entity-ID: aKUoNb+gNVOrr9hdz9ASuQ==\\r\\n\\r\\n<img alt=3D\"\" src=3D\"http://cmsenergy.com/files/design/ClientLogo.png\">\\r\\n<br>\\r\\n<hr>\\r\\n<br>\\r\\n<strong>CMS Energy Corporation&nbsp;has added a new press release to its we=\\r\\nb site. For full details please visit the&nbsp;CMS Energy Corporation web s=\\r\\nite at:</strong><br>\\r\\n<br>\\r\\n<a href=3D\"https://u11277508.ct.sendgrid.net/ls/click?upn=3D32r1F7qKA-2FlPf=\\r\\n4VG4Yq9V7rIj65-2FobA5M0Y4tcQq3JTqKzMlWYDtF9q7KahnmRZk0QJ5e5I10M6q-2BkviFxa8=\\r\\nvLoXwGmWVJ8ZJaixO-2FLaF0JIp5uAS1yeio6NuXQv61cGg1h5OdfqSzI3HqXIkAnpfSGFyaB8I=\\r\\n8mebPPEKtE47X-2Bhcdt-2FfUoHYTGt1o1Rn9q-2BrUzjRfZ9gK2ci1chWZmuSfcqgV-2F2B75p=\\r\\n-2BfF7c4I5jg69hM18kS291fvDgubgCnHejYJZ_cbLNfl9DC06I7yqAggRDStoEt6EUIhRidxfY=\\r\\nOh1J-2BZf-2FJqL8Hq-2Fw5EcfayrRJbj6IHM-2B6QY1qXVC-2FumwUE-2BQq-2Bj45H42RYtbu=\\r\\nhqtF-2BE-2FswlTISfNYwxrvQ5oXLY9Hwim5B9nU4ERot8RD7IaM0d0Elxt-2B5C4kKiRtJWlc9=\\r\\nzJpd5uEpi8CD2JYEus8e722pCs8o1kHWbJFwIKJ-2BLa-2FCmJ8TzlSbpH7pgq7-2BaRxtCMzlD=\\r\\nYNH02IxvE8bu-2FAh54pB-2F10JL-2FZc8iwIVpmr6t-2FfpBcHuw86S6w6NkTb3-2B8DibNnjm=\\r\\nhfRrUFHDri3HCEFm2X34y8PWgtVIan2Kx6aXQ1pbPBlDhEhm1ECzhTm1MWg9KpLEvSX5cUXaOO7=\\r\\nILbpW-2F-2BkPTQxwSANJREyob5GMu04jw2MROlW2Zou9iu0FXhe07vQ-3D\">Consumers Ener=\\r\\ngy and Consumers Energy Foundation Donate More than $11 Million in 2023</a>=\\r\\n<br>\\r\\n<br>\\r\\n<a href=3D\"https://u11277508.ct.sendgrid.net/ls/click?upn=3DQHV9pJ3XucdNDzN=\\r\\ndZffVoeIwHKqzY0EajXPLtAyATQ5hP1SUYdrYNdHL-2F7114hQmu-2F-2FzFoVr3lvQK9nCtV4D=\\r\\nERV-2FmsixiJLFpLnuxZSeD-2FA-3DiYzm_cbLNfl9DC06I7yqAggRDStoEt6EUIhRidxfYOh1J=\\r\\n-2BZf-2FJqL8Hq-2Fw5EcfayrRJbj6IHM-2B6QY1qXVC-2FumwUE-2BQq-2Bj45H42RYtbuhqtF=\\r\\n-2BE-2FswlTISfNYwxrvQ5oXLY9Hwim5B9nU4ERot8RD7IaM0d0Elxt-2B5C4kKiRtJWlc9zJpd=\\r\\n5uEpi8CD2JYEus8e722pCs8o1kHWbJFwIKJ-2BLa-2FCmJ8TzlSbpH7pgq7-2BaRxtCMzlDYNH0=\\r\\n2IxvE8bu-2FAh54pB-2F10JL-2FZc8iwIVpmr6t-2FfpBcGlttYdZTSn4JzaFn2kM2YXnLt-2FZ=\\r\\nF5v5RTGho-2FBFnC3CYTA5To936TCjQEaJgJejR5s-2BtxogR9LCXDceaMQ9AZDyJC8OAk-2BUX=\\r\\nMq0IbLXcm1FvuqWsYUZ4X1fxvlURgQFhW1w7RQ5nMbypQpfWZR-2BDjA-3D\">Click Here</a>=\\r\\n for a complete listing of CMS Energy Corporation press releases.<br>\\r\\n<br>\\r\\n-------------------<br>\\r\\nTo unsubscribe from this list please visit the <a href=3D\"https://u11277508=\\r\\n.ct.sendgrid.net/ls/click?upn=3D32r1F7qKA-2FlPf4VG4Yq9V7rIj65-2FobA5M0Y4tcQ=\\r\\nq3JTqKzMlWYDtF9q7KahnmRZknYwyJrvhEIXCh5TO0LoZOMUkmgzHx5lfAk1HIGB9iXRUP7TkGs=\\r\\nr5v2YvgiD5xo2aDsGm2KtvoohD03Ce-2FV-2Blkg-3D-3DV1qv_cbLNfl9DC06I7yqAggRDStoE=\\r\\nt6EUIhRidxfYOh1J-2BZf-2FJqL8Hq-2Fw5EcfayrRJbj6IHM-2B6QY1qXVC-2FumwUE-2BQq-2=\\r\\nBj45H42RYtbuhqtF-2BE-2FswlTISfNYwxrvQ5oXLY9Hwim5B9nU4ERot8RD7IaM0d0Elxt-2B5=\\r\\nC4kKiRtJWlc9zJpd5uEpi8CD2JYEus8e722pCs8o1kHWbJFwIKJ-2BLa-2FCmJ8TzlSbpH7pgq7=\\r\\n-2BaRxtCMzlDYNH02IxvE8bu-2FAh54pB-2F10JL-2FZc8iwIVpmr6t-2FfpBcKcUFNB25WIWSs=\\r\\nMiKMJjJrIyMiPGnXO3oONQ0mK4nfmQi-2BP-2FJxaf0qP7Dg-2FJT1pQCtPd9vPDbteZAT5YRWL=\\r\\nBrzYePSgo4tgszAqT65QlMN5Z-2BoQ6Tn8myVMvECf39jQDZ4Vgs2aWitF21PsX-2BP1uTDA-3D=\\r\\n\">email alert section of the CMS Energy Corporation site</a>.<img src=3D\"ht=\\r\\ntps://u11277508.ct.sendgrid.net/wf/open?upn=3Dbk3ZPPYGkl6qwWr5zTpjC2oIJqUy2=\\r\\npVIVAGlh7a-2BXYkegjWcfNQuZdSNVfvJ7SNr78LpCXEnLIU22tUyfQCLG7iWpeR5WaJbHb0d04=\\r\\nUOYRfFn-2BX-2B2aRbVLbmmpbtmEGjkNoR5aCVqVvqOPDpCQkkSh84vQvt2VDEhFZwZQmD6Wbs-=\\r\\n2FLhwPm4fAKWjyBYMrf7mS1Flz4fFI8TGCPwAainfLntQ6WSySxlnLHqIVtQmDW-2BprK1euPMz=\\r\\ni8BSgrmwU-2F8rsAklTTO3lwdu0X4ewIqHRrr0LktZAcBvyX6wutXzbXza72seNWbAz5MysRgjQ=\\r\\nEXR-2BzPJZUI-2FinKzkLnTfvU4XJvCvwPlRl1eMuH8tlkX9iQPUAGnkAYq-2B6u2LZ3I5fomaB=\\r\\niNofvhINvbNLaAjAPIJoHZWQrUIhJfwjv86IFmmQnMHGnPVdgcOge-2FOJdkLmzL\" alt=3D\"\" =\\r\\nwidth=3D\"1\" height=3D\"1\" border=3D\"0\" style=3D\"height:1px !important;width:=\\r\\n1px !important;border-width:0 !important;margin-top:0 !important;margin-bot=\\r\\ntom:0 !important;margin-right:0 !important;margin-left:0 !important;padding=\\r\\n-top:0 !important;padding-bottom:0 !important;padding-right:0 !important;pa=\\r\\ndding-left:0 !important;\"/>\\r\\n'),\n",
       "  b')'],\n",
       " [(b'344 (RFC822 {9924}',\n",
       "   b'Delivered-To: montgash3@gmail.com\\r\\nReceived: by 2002:a05:6f02:828f:b0:61:e91d:81c with SMTP id j15csp1073782rcd;\\r\\n        Fri, 26 Jan 2024 08:28:56 -0800 (PST)\\r\\nX-Google-Smtp-Source: AGHT+IF8q0GlW1GZJM3HnwYMtTEcesZHTXAwHe0kIqn3agAGMzHTODPee2itWyhvrAskyjGyDOS9\\r\\nX-Received: by 2002:ac8:7f05:0:b0:42a:7035:8e6e with SMTP id f5-20020ac87f05000000b0042a70358e6emr149384qtk.62.1706286536275;\\r\\n        Fri, 26 Jan 2024 08:28:56 -0800 (PST)\\r\\nARC-Seal: i=1; a=rsa-sha256; t=1706286536; cv=none;\\r\\n        d=google.com; s=arc-20160816;\\r\\n        b=U1fBzDrpKGzTEhP3dsYbflpJLz2ADF502s7AAQygWpvQVB8VRn66rmi0c9aVUKfs/w\\r\\n         E74M/gLchFjPdgs+BUkOCPgcB41FQHgw43NstDKW9N/qX567MS/IODj3YHUchA3I7i/C\\r\\n         uyHmWaqmxs3iJ5nneCvEUY+Z1nYu03SSdDtMWBYYTQmfq2n/P8fT/Xz79KohDQdst+Bh\\r\\n         dV1aiLFYEYton76qLO3ukNUQqrj5eaVFEaVTRV6xPxrVCZFy6pcA1JFdJ+crFkb2zB5o\\r\\n         /Mx1c6HQfx4GvC67B4EXuu3UbnT4Vz/57TMFSJps7FbPpOvDrpb/aeOrMhTByfONs/cL\\r\\n         S+7w==\\r\\nARC-Message-Signature: i=1; a=rsa-sha256; c=relaxed/relaxed; d=google.com; s=arc-20160816;\\r\\n        h=to:reply-to:subject:message-id:mime-version:from:date\\r\\n         :content-transfer-encoding:dkim-signature:dkim-signature;\\r\\n        bh=YUwh8w7wPyoaZbTD5vqsOsmsymjjX2ocNyGl7ZIgo7I=;\\r\\n        fh=YxEBacoHXfqvNMNi6hSERLQO6OocoGvYUQDAuxxIppk=;\\r\\n        b=jSk63gYHKAZqpudt5TDrSJyIox0mUW9Cht9uLwpeBDFgTWnyPTlIy42yvnmjXmFHtl\\r\\n         1E9s6+qI8bZiHcIoqZZldl0J/IXMKqpAOgDks67wdZpt4OyAsbEMgZctdvucutC1iiUS\\r\\n         dzREy8JlLOEJaUvaGgSpYMZtGPOTZeD3mddWJc7rcFAVuNfCadKxvYwccyS3sRNHDEJ2\\r\\n         jmPOnOW9q1rk2AvZJOcwDy0ca3B5Cf/UsmpluL75ymWP7ATE2iadud6xcbwWWaJ96xey\\r\\n         UUOsyk8cGVNfoSD/EzzctGwTRUyCiRjas38C380o6faCk6VY8Ibutb1BhKT1xG/zEyk4\\r\\n         vHFw==\\r\\nARC-Authentication-Results: i=1; mx.google.com;\\r\\n       dkim=pass header.i=@cmsenergy.com header.s=zz header.b=r1rfrDQN;\\r\\n       dkim=pass header.i=@sendgrid.info header.s=smtpapi header.b=M3WazT1E;\\r\\n       spf=pass (google.com: domain of bounces+11277508-8082-montgash3=gmail.com@em7445.cmsenergy.com designates 168.245.55.252 as permitted sender) smtp.mailfrom=\"bounces+11277508-8082-montgash3=gmail.com@em7445.cmsenergy.com\";\\r\\n       dmarc=pass (p=REJECT sp=REJECT dis=NONE) header.from=cmsenergy.com\\r\\nReturn-Path: <bounces+11277508-8082-montgash3=gmail.com@em7445.cmsenergy.com>\\r\\nReceived: from o16824555x252.outbound-mail.sendgrid.net (o16824555x252.outbound-mail.sendgrid.net. [168.245.55.252])\\r\\n        by mx.google.com with ESMTPS id u15-20020a05622a14cf00b0042a5b9025e0si1484405qtx.724.2024.01.26.08.28.56\\r\\n        for <montgash3@gmail.com>\\r\\n        (version=TLS1_3 cipher=TLS_AES_128_GCM_SHA256 bits=128/128);\\r\\n        Fri, 26 Jan 2024 08:28:56 -0800 (PST)\\r\\nReceived-SPF: pass (google.com: domain of bounces+11277508-8082-montgash3=gmail.com@em7445.cmsenergy.com designates 168.245.55.252 as permitted sender) client-ip=168.245.55.252;\\r\\nAuthentication-Results: mx.google.com;\\r\\n       dkim=pass header.i=@cmsenergy.com header.s=zz header.b=r1rfrDQN;\\r\\n       dkim=pass header.i=@sendgrid.info header.s=smtpapi header.b=M3WazT1E;\\r\\n       spf=pass (google.com: domain of bounces+11277508-8082-montgash3=gmail.com@em7445.cmsenergy.com designates 168.245.55.252 as permitted sender) smtp.mailfrom=\"bounces+11277508-8082-montgash3=gmail.com@em7445.cmsenergy.com\";\\r\\n       dmarc=pass (p=REJECT sp=REJECT dis=NONE) header.from=cmsenergy.com\\r\\nDKIM-Signature: v=1; a=rsa-sha256; c=relaxed/relaxed; d=cmsenergy.com;\\r\\n\\th=content-transfer-encoding:content-type:from:mime-version:subject:\\r\\n\\treply-to:x-feedback-id:to:cc:content-type:from:subject:to;\\r\\n\\ts=zz; bh=YUwh8w7wPyoaZbTD5vqsOsmsymjjX2ocNyGl7ZIgo7I=;\\r\\n\\tb=r1rfrDQNc0JpK5ChhvddAAo4wQfq0OJ6VshsgecHz1YsKb4BHku5UjCpk21AUw3eoKGw\\r\\n\\te8Ze77EFz9xLguoCzRn2TPmLvITVmYnj2Xxxw9HJCqzfLxjNzdv6PGfHtbw8niNnD+Ekoh\\r\\n\\tXJm44F6PGoaPjCvzQFKm802CAce7D04bg9v9uOhSQQeLyH9sD/x9lgWt5LTPcSEtjQ8SHR\\r\\n\\tmOA8K/tQIRiBqoNrlv8n8Tqi7a9/3z5mt0bMkOsCFYLjqBEKMEYXMGNzs2y2JSWXb1zaIL\\r\\n\\tbblc2hZsEjJpsYNZ6UZDhjcEVynr67CiPJYDhhYv4f5a8yd4whs//weAUQJSonBQ==\\r\\nDKIM-Signature: v=1; a=rsa-sha256; c=relaxed/relaxed; d=sendgrid.info;\\r\\n\\th=content-transfer-encoding:content-type:from:mime-version:subject:\\r\\n\\treply-to:x-feedback-id:to:cc:content-type:from:subject:to;\\r\\n\\ts=smtpapi; bh=YUwh8w7wPyoaZbTD5vqsOsmsymjjX2ocNyGl7ZIgo7I=;\\r\\n\\tb=M3WazT1E4KYejIB2pAuwfr8uBxVnmMqNsHLCzID3AmuRG+8e2wdEdlI36KoxHAs+957K\\r\\n\\tIzBjs2rJVoClbzEcmtQtqMtWxFyqKdpHu9+Qjkrt9D0baXSZZucZYoxC+al7uT//0Mx8s2\\r\\n\\t/J9vRqjBmyyuU6XdcGHfjJcOjB6NJHlF4=\\r\\nReceived: by filterdrecv-5bbdbb56cd-hwvxf with SMTP id filterdrecv-5bbdbb56cd-hwvxf-1-65B3DDC7-2B\\r\\n        2024-01-26 16:28:55.959056367 +0000 UTC m=+1307520.878460705\\r\\nReceived: from MTEyNzc1MDg (unknown)\\r\\n\\tby geopod-ismtpd-29 (SG) with HTTP\\r\\n\\tid 1P18xcmwT0KQxFfa3PHyQQ\\r\\n\\tFri, 26 Jan 2024 16:28:55.914 +0000 (UTC)\\r\\nContent-Transfer-Encoding: quoted-printable\\r\\nContent-Type: text/html; charset=us-ascii\\r\\nDate: Fri, 26 Jan 2024 16:28:55 +0000 (UTC)\\r\\nFrom: CMS Energy - Investor Relations <investrel@cmsenergy.com>\\r\\nMime-Version: 1.0\\r\\nMessage-ID: <1P18xcmwT0KQxFfa3PHyQQ@geopod-ismtpd-29>\\r\\nSubject: CMS Energy Corporation - Consumers Energy Foundation Planet Awards to\\r\\n Provide $500,000 to Environmental Projects\\r\\nReply-To: investrel@cmsenergy.com\\r\\nX-Sender: no-reply@q4inc.com\\r\\nX-Feedback-ID: 11277508:SG\\r\\nX-SG-EID: \\r\\n =?us-ascii?Q?19hxCQ0+YbakdZeHfv3jRJ+lC4aMxc+Nkwv=2FSyAqKXTNMStSBKDSQ4kgRseOHr?=\\r\\n =?us-ascii?Q?i0HHmf9oeHD0qFuUcOrXBEjvCDeTNMf6jGuQsAm?=\\r\\n =?us-ascii?Q?M+XHf16NZHOkMJVY4mmfXjRMEwkRVW2Kl+4qY3A?=\\r\\n =?us-ascii?Q?onQH554xSsGkX2JKYr9eWXwHxL9EILB8GhwjQyV?=\\r\\n =?us-ascii?Q?GdkVtxgY+tE=2FAbgpIQIR9CpmOPgHoom0IggfzTF?=\\r\\n =?us-ascii?Q?K5ZK0WhZf80CR5HhjuX2LiYAukX8ooJjGlvTNPw?=\\r\\n =?us-ascii?Q?tl8VJ68UuIHrB9Vt5Yygw=3D=3D?=\\r\\nX-SG-ID: \\r\\n =?us-ascii?Q?N2C25iY2uzGMFz6rgvQsb8raWjw0ZPf1VmjsCkspi=2FLs3Ta+uBhopEhBDLaCGA?=\\r\\n =?us-ascii?Q?5f3HzDi86tKv2T0N+VpgWmZz+WGFyHyxCl5Lj8U?=\\r\\n =?us-ascii?Q?RRJ2i1R2L3+PLq2MDEuhl0tfhBpT0XQsLBjgOoL?=\\r\\n =?us-ascii?Q?WEX0bNiN=2FEmw0q4aFWDy661+CxARt3o8JNMHho5?=\\r\\n =?us-ascii?Q?TKR+TVlkW1GYHiLS5p3EY3cz4X1yqrMtaMtL4eU?=\\r\\n =?us-ascii?Q?XncxdCUe232a7da1ZTqB9t1kqC17B3qagxFTd4?=\\r\\nTo: montgash3@gmail.com\\r\\nX-Entity-ID: aKUoNb+gNVOrr9hdz9ASuQ==\\r\\n\\r\\n<img alt=3D\"\" src=3D\"http://cmsenergy.com/files/design/ClientLogo.png\">\\r\\n<br>\\r\\n<hr>\\r\\n<br>\\r\\n<strong>CMS Energy Corporation&nbsp;has added a new press release to its we=\\r\\nb site. For full details please visit the&nbsp;CMS Energy Corporation web s=\\r\\nite at:</strong><br>\\r\\n<br>\\r\\n<a href=3D\"https://u11277508.ct.sendgrid.net/ls/click?upn=3D32r1F7qKA-2FlPf=\\r\\n4VG4Yq9V7rIj65-2FobA5M0Y4tcQq3JTqKzMlWYDtF9q7KahnmRZk0QJ5e5I10M6q-2BkviFxa8=\\r\\nvLoXwGmWVJ8ZJaixO-2FLaF0JIp5uAS1yeio6NuXQv61cG32iMEr-2FwpPgjwDgjsbqRJzHWeft=\\r\\nR0YSGANtry9CmPcEj6jiuJX3zr9WhFjoBzdW1QMVxUsXHX6UgrnF2-2BUXIejj5RpTwxF0aKSdt=\\r\\nNMaq8XMdJYc4de8RkpmNiHmKjrilpA-2BHdiuIdFM01MA8btG4Kg-3D-3Dh-63_cbLNfl9DC06I=\\r\\n7yqAggRDStoEt6EUIhRidxfYOh1J-2BZf-2FJqL8Hq-2Fw5EcfayrRJbj6IHM-2B6QY1qXVC-2F=\\r\\numwUE-2BQq-2Bj45H42RYtbuhqtF-2BE-2FswlTISfNYwxrvQ5oXLY9Hwim5B9nU4ERot8RD7Ia=\\r\\nM0d0EpvcXtkFWQAwoYB2xZGCQqEGawz0Av-2Fk8VUVldeCaKJnXm1wCeLWINFn6n8p8Ek7D-2FL=\\r\\n2YaJ634ou3fAwZs1B6BJtYHRtWuZSAPhbdRh2Fn0ZjmZ3ccDbkRB1Cym123-2B5kESwPraAl12I=\\r\\nel69T2Q6lgqa28iU5GIh2wtgStHwq2DBRxHF-2BOOkcHZ5f17k7TZBulqfSBsjyY4oxMfOukqmf=\\r\\n-2FGn9fWn-2FwPXBIkeZJor7yLPZLhwYj-2B3SPi1rIldiwAt8Q18AcU1ZNnvOzjXZxbUUho53G=\\r\\nNJN61ZDXHFnMzruKOz\">Consumers Energy Foundation Planet Awards to Provide $5=\\r\\n00,000 to Environmental Projects</a><br>\\r\\n<br>\\r\\n<a href=3D\"https://u11277508.ct.sendgrid.net/ls/click?upn=3DQHV9pJ3XucdNDzN=\\r\\ndZffVoeIwHKqzY0EajXPLtAyATQ5hP1SUYdrYNdHL-2F7114hQmu-2F-2FzFoVr3lvQK9nCtV4D=\\r\\nERV-2FmsixiJLFpLnuxZSeD-2FA-3D_cRq_cbLNfl9DC06I7yqAggRDStoEt6EUIhRidxfYOh1J=\\r\\n-2BZf-2FJqL8Hq-2Fw5EcfayrRJbj6IHM-2B6QY1qXVC-2FumwUE-2BQq-2Bj45H42RYtbuhqtF=\\r\\n-2BE-2FswlTISfNYwxrvQ5oXLY9Hwim5B9nU4ERot8RD7IaM0d0EpvcXtkFWQAwoYB2xZGCQqEG=\\r\\nawz0Av-2Fk8VUVldeCaKJnXm1wCeLWINFn6n8p8Ek7D-2FL2YaJ634ou3fAwZs1B6BJtYHRtWuZ=\\r\\nSAPhbdRh2Fn0ZjmZ3ccDbkRB1Cym123-2B5kAzyu0ThfttRiE1llgFhG21wMHxZGdsL9pEd-2FU=\\r\\nsOMD7Ll5v0872kHObuqMPsW-2FY8FaMS9cdg1JBXHWD1EYXTzAUz-2B-2FUBmL0-2B-2Fv5pe-2=\\r\\nBa0M-2FcG3tW91olQk8-2FXXLleHs-2FK7isnRjzzXZ-2BaeVlALopj-2BOeJpfEyyS-2F4L5wV=\\r\\nKT0rhTi0\">Click Here</a> for a complete listing of CMS Energy Corporation p=\\r\\nress releases.<br>\\r\\n<br>\\r\\n-------------------<br>\\r\\nTo unsubscribe from this list please visit the <a href=3D\"https://u11277508=\\r\\n.ct.sendgrid.net/ls/click?upn=3D32r1F7qKA-2FlPf4VG4Yq9V7rIj65-2FobA5M0Y4tcQ=\\r\\nq3JTqKzMlWYDtF9q7KahnmRZknYwyJrvhEIXCh5TO0LoZOMUkmgzHx5lfAk1HIGB9iXRUP7TkGs=\\r\\nr5v2YvgiD5xo2aDsGm2KtvoohD03Ce-2FV-2Blkg-3D-3D14og_cbLNfl9DC06I7yqAggRDStoE=\\r\\nt6EUIhRidxfYOh1J-2BZf-2FJqL8Hq-2Fw5EcfayrRJbj6IHM-2B6QY1qXVC-2FumwUE-2BQq-2=\\r\\nBj45H42RYtbuhqtF-2BE-2FswlTISfNYwxrvQ5oXLY9Hwim5B9nU4ERot8RD7IaM0d0EpvcXtkF=\\r\\nWQAwoYB2xZGCQqEGawz0Av-2Fk8VUVldeCaKJnXm1wCeLWINFn6n8p8Ek7D-2FL2YaJ634ou3fA=\\r\\nwZs1B6BJtYHRtWuZSAPhbdRh2Fn0ZjmZ3ccDbkRB1Cym123-2B5kADN8Q2IK-2Fc6dt7VqCXanN=\\r\\n8dYE-2FZpFtttBDDxBv29ITSP8947fn8eHXx2kxAbVge8Da5yxcdnHBjOR6GHiRaCiT9jw-2FAv=\\r\\nbWa4OUA1CI-2FWv1m47D06Q41Nocmk0zIvWK51xBFzmOs8aKQ9tth-2FuL0dDJ8hspvJTzldjZj=\\r\\nelxdfr4I\">email alert section of the CMS Energy Corporation site</a>.<img s=\\r\\nrc=3D\"https://u11277508.ct.sendgrid.net/wf/open?upn=3Dbk3ZPPYGkl6qwWr5zTpjC=\\r\\n2oIJqUy2pVIVAGlh7a-2BXYkegjWcfNQuZdSNVfvJ7SNr78LpCXEnLIU22tUyfQCLG7iWpeR5Wa=\\r\\nJbHb0d04UOYRfFn-2BX-2B2aRbVLbmmpbtmEGjkNoR5aCVqVvqOPDpCQkkSu2Z54tzftwwY0cFd=\\r\\nTiQUhD3GQ3-2BaJwiVg-2BRdVeVyMPE8SY6IXJ1gvJ42CZBJdK3QAZff1-2B8SYYlRQ9u5QS8ns=\\r\\nHi4iCjTpn0PI-2FGMmw1oilntZNcXmwgMzeLQlSFduILHBHLD6So8HcABbWDorplHF61ZYk7hcB=\\r\\nvMaGAi0Q1CZpcLBQbpIRpdXBjG8YZzQ0im-2BoP-2FtUSGiKRe7lvl52BCtT3KxQycLQQpk6LS6=\\r\\n-2FypqtVzkgMbEcT96dKGmFobMdYXIic6OtFOBXPpL3sA6g70V-2F0BdzzL0tyt0OIsYB69R3K\"=\\r\\n alt=3D\"\" width=3D\"1\" height=3D\"1\" border=3D\"0\" style=3D\"height:1px !import=\\r\\nant;width:1px !important;border-width:0 !important;margin-top:0 !important;=\\r\\nmargin-bottom:0 !important;margin-right:0 !important;margin-left:0 !importa=\\r\\nnt;padding-top:0 !important;padding-bottom:0 !important;padding-right:0 !im=\\r\\nportant;padding-left:0 !important;\"/>\\r\\n'),\n",
       "  b')'],\n",
       " [(b'52 (RFC822 {10243}',\n",
       "   b'Delivered-To: montgash3@gmail.com\\r\\nReceived: by 2002:a05:6f02:cacc:b0:61:e91d:81c with SMTP id t12csp672448rcg;\\r\\n        Tue, 23 Jan 2024 09:25:50 -0800 (PST)\\r\\nX-Google-Smtp-Source: AGHT+IHD/A2kZcsWJQbibzCMUP+qtouNU+WIOZM9PIxf+CQ4MO3zaqaVzOZeV5Y4ZwoODDx1V5HY\\r\\nX-Received: by 2002:ad4:5e86:0:b0:685:9ba5:4728 with SMTP id jl6-20020ad45e86000000b006859ba54728mr1766901qvb.7.1706030750103;\\r\\n        Tue, 23 Jan 2024 09:25:50 -0800 (PST)\\r\\nARC-Seal: i=1; a=rsa-sha256; t=1706030750; cv=none;\\r\\n        d=google.com; s=arc-20160816;\\r\\n        b=XCzD+WC1TPd4jIOmje4RXUGPEbDhivNVWLjNM3i2xzKhCIMyPjGBH0bscGxRtUNpij\\r\\n         TccqfZvHE7ZkzpWxgbMUIsJp7fVYHbrwGGVzP6UEm3sW08IqJxAXtiBUoOQ2iv3v3WW4\\r\\n         tKitqAd+N0PjtEPuwdoVXNDi7SEdCAeOM9CBO1Or/iaeyeWzC4RLkiQi5cdkX1AIF5b7\\r\\n         PR+4afhGzLCJAsdIsndaO0bF62s1TV4vQ+2lhEMT/+oiHEI71zRC13HVVr1e68IMx0LH\\r\\n         BSkZKrDSLzimnxTZp0coEBG810f//v+LFTQ81zNFFCHuDYq9MlashT5xwbdRdU7ayoef\\r\\n         QMAA==\\r\\nARC-Message-Signature: i=1; a=rsa-sha256; c=relaxed/relaxed; d=google.com; s=arc-20160816;\\r\\n        h=to:reply-to:subject:message-id:mime-version:from:date\\r\\n         :content-transfer-encoding:dkim-signature:dkim-signature;\\r\\n        bh=1o7kYnBYq99HXQD8rDJP6SzbbjoD5fAF4EEBixMDuFY=;\\r\\n        fh=YxEBacoHXfqvNMNi6hSERLQO6OocoGvYUQDAuxxIppk=;\\r\\n        b=FXmsxzzXsGlOO8LGLKA3mCQio8TsAfGkmUy7wZE4q04q7K0AMpFBepCg2WDyeYwe3W\\r\\n         EnLZ+dexMkxdYVNrjkAdVbxJIf0zPm9IaAftG3uUwgFe2uQ3VVJpudC1c2+Hg4Zj9j0/\\r\\n         4AgqoTZpGRvJ7d2VE2UsrQtsF3HowtiDqJ+hIQZ+As3CPXO7OsOEHiqjrMPVDYtlq/is\\r\\n         1Ifl9doKlFx6RrAFf7ECNjBUzvZVNct1McQZeNNL98YlBhHYE2CLKVWw4t9n/vVdMHcu\\r\\n         sRxnbBVfVpXVXuVxbLJrpGShzGniAZ/iOBxN3YUtPGNlkWRwdV/S2vd/d3gQobtrpshV\\r\\n         cinQ==\\r\\nARC-Authentication-Results: i=1; mx.google.com;\\r\\n       dkim=pass header.i=@cmsenergy.com header.s=zz header.b=DVmwC9z6;\\r\\n       dkim=pass header.i=@sendgrid.info header.s=smtpapi header.b=CELvboSI;\\r\\n       spf=pass (google.com: domain of bounces+11277508-8082-montgash3=gmail.com@em7445.cmsenergy.com designates 168.245.55.252 as permitted sender) smtp.mailfrom=\"bounces+11277508-8082-montgash3=gmail.com@em7445.cmsenergy.com\";\\r\\n       dmarc=pass (p=REJECT sp=REJECT dis=NONE) header.from=cmsenergy.com\\r\\nReturn-Path: <bounces+11277508-8082-montgash3=gmail.com@em7445.cmsenergy.com>\\r\\nReceived: from o16824555x252.outbound-mail.sendgrid.net (o16824555x252.outbound-mail.sendgrid.net. [168.245.55.252])\\r\\n        by mx.google.com with ESMTPS id wn17-20020a05620a585100b007835a7b7ea2si8072915qkn.360.2024.01.23.09.25.49\\r\\n        for <montgash3@gmail.com>\\r\\n        (version=TLS1_3 cipher=TLS_AES_128_GCM_SHA256 bits=128/128);\\r\\n        Tue, 23 Jan 2024 09:25:50 -0800 (PST)\\r\\nReceived-SPF: pass (google.com: domain of bounces+11277508-8082-montgash3=gmail.com@em7445.cmsenergy.com designates 168.245.55.252 as permitted sender) client-ip=168.245.55.252;\\r\\nAuthentication-Results: mx.google.com;\\r\\n       dkim=pass header.i=@cmsenergy.com header.s=zz header.b=DVmwC9z6;\\r\\n       dkim=pass header.i=@sendgrid.info header.s=smtpapi header.b=CELvboSI;\\r\\n       spf=pass (google.com: domain of bounces+11277508-8082-montgash3=gmail.com@em7445.cmsenergy.com designates 168.245.55.252 as permitted sender) smtp.mailfrom=\"bounces+11277508-8082-montgash3=gmail.com@em7445.cmsenergy.com\";\\r\\n       dmarc=pass (p=REJECT sp=REJECT dis=NONE) header.from=cmsenergy.com\\r\\nDKIM-Signature: v=1; a=rsa-sha256; c=relaxed/relaxed; d=cmsenergy.com;\\r\\n\\th=content-transfer-encoding:content-type:from:mime-version:subject:\\r\\n\\treply-to:x-feedback-id:to:cc:content-type:from:subject:to;\\r\\n\\ts=zz; bh=1o7kYnBYq99HXQD8rDJP6SzbbjoD5fAF4EEBixMDuFY=;\\r\\n\\tb=DVmwC9z6GbSkWVU+6swObOCUIjlmq3S6XUQFRHz2DB4XmgM0lP+IJ9p9M23vgx+snw6+\\r\\n\\tmBmik5oKk+KqvlZlbhdCM4au8OIO+Eh9Q/6by4BjwmY+u9tp8P1d55HY1d0RqIIrrPqv8A\\r\\n\\th25VGuK8EhPv10zFJ8UBw19rC96V1Wgvrz1ym84gyVsXVJ3LlfcPFbz0+fcGRg/d7RKp/1\\r\\n\\t+joJ8i70LiV7v2aeHSk9kVKEtWCtU5ufLetxzeXHir3HtUofvFQfZGpkRe66vixot6mJwI\\r\\n\\tJssqgoo53qMzXv84xWZMCkIw0W/qODiQ2GDTUQmNj/2LzT5hz2qi6o8l1BNyJJ0w==\\r\\nDKIM-Signature: v=1; a=rsa-sha256; c=relaxed/relaxed; d=sendgrid.info;\\r\\n\\th=content-transfer-encoding:content-type:from:mime-version:subject:\\r\\n\\treply-to:x-feedback-id:to:cc:content-type:from:subject:to;\\r\\n\\ts=smtpapi; bh=1o7kYnBYq99HXQD8rDJP6SzbbjoD5fAF4EEBixMDuFY=;\\r\\n\\tb=CELvboSICK8eaO1Stu+pSoDxQYZxV3njjF6RnUQMaGvGEM/NflQciOQfPZCf6qdjf7Rz\\r\\n\\t7TvuXo9T5GJdbFd9WuEtMDY3tqCsjWBJUUV7vSl3fHHEVi+p5a1ihAIN0qOve7uU3PIca9\\r\\n\\tR8hbNBWkwMk6ZZy2r4rNrwFnsF325VfOk=\\r\\nReceived: by filterdrecv-canary-7c48c4df88-8m24j with SMTP id filterdrecv-canary-7c48c4df88-8m24j-1-65AFF69D-22\\r\\n        2024-01-23 17:25:49.715426783 +0000 UTC m=+1051733.585209162\\r\\nReceived: from MTEyNzc1MDg (unknown)\\r\\n\\tby geopod-ismtpd-7 (SG) with HTTP\\r\\n\\tid DNo3PJ58T1uRE9D8csnnDw\\r\\n\\tTue, 23 Jan 2024 17:25:49.678 +0000 (UTC)\\r\\nContent-Transfer-Encoding: quoted-printable\\r\\nContent-Type: text/html; charset=us-ascii\\r\\nDate: Tue, 23 Jan 2024 17:25:49 +0000 (UTC)\\r\\nFrom: CMS Energy - Investor Relations <investrel@cmsenergy.com>\\r\\nMime-Version: 1.0\\r\\nMessage-ID: <DNo3PJ58T1uRE9D8csnnDw@geopod-ismtpd-7>\\r\\nSubject: CMS Energy Corporation - Consumers Energy Foundation to Award $50,000\\r\\n for Three Small Towns in Put Your Town on the Map Competition\\r\\nReply-To: investrel@cmsenergy.com\\r\\nX-Sender: no-reply@q4inc.com\\r\\nX-Feedback-ID: 11277508:SG\\r\\nX-SG-EID: \\r\\n =?us-ascii?Q?19hxCQ0+YbakdZeHfv3jRJ+lC4aMxc+Nkwv=2FSyAqKXTNMStSBKDSQ4kgRseOHr?=\\r\\n =?us-ascii?Q?i0HHmf9oeHD0qFuUcOrXBEjvCDeTNMf6jGuQsAm?=\\r\\n =?us-ascii?Q?M+XHf3kNp6QN6p0FVw6JE3=2FDQs=2Fg3+998BoVOH7?=\\r\\n =?us-ascii?Q?VRZfK65uKxtO4+79OVvczXgZA+HIMgIVW1Jq65t?=\\r\\n =?us-ascii?Q?lyrrYZiHKc9231gxSi9pwLQ6Rwekv1HTLj7g0yB?=\\r\\n =?us-ascii?Q?EgI=2FVcHhgNkw1IOAer3Xj6hFvYIU6JYwBRV6za2?=\\r\\n =?us-ascii?Q?+dv=2FM1F7r=2FnbOAxQM9Ze=2Fd1WIpKpcfIJT4d2aOh?=\\r\\n =?us-ascii?Q?h+Y=3D?=\\r\\nX-SG-ID: \\r\\n =?us-ascii?Q?N2C25iY2uzGMFz6rgvQsb8raWjw0ZPf1VmjsCkspi=2FLs3Ta+uBhopEhBDLaCGA?=\\r\\n =?us-ascii?Q?5f3HzDi86tKv2T0N+VpgWmZz+WGFyHyxCl5Lj8U?=\\r\\n =?us-ascii?Q?RRJ2i1R2L3+PLq2MDEuhl0tfhBpT0XQsLBjgOoL?=\\r\\n =?us-ascii?Q?WEX0bNiN=2FEmw0q4aFWDy661+CxARt3rQR2L=2FYjn?=\\r\\n =?us-ascii?Q?prQtpr32b23yo0ioMdgmlHB1cC0XsxmHLtFp30V?=\\r\\n =?us-ascii?Q?8IDSTG35QU1e2NAqLofgrgISI3+iJ2EkNaTenR+?=\\r\\n =?us-ascii?Q?HYWh0mUgycAc458zODqchORmcSz3JW4gndCHG4L?= =?us-ascii?Q?Wdc=3D?=\\r\\nTo: montgash3@gmail.com\\r\\nX-Entity-ID: aKUoNb+gNVOrr9hdz9ASuQ==\\r\\n\\r\\n<img alt=3D\"\" src=3D\"http://cmsenergy.com/files/design/ClientLogo.png\">\\r\\n<br>\\r\\n<hr>\\r\\n<br>\\r\\n<strong>CMS Energy Corporation&nbsp;has added a new press release to its we=\\r\\nb site. For full details please visit the&nbsp;CMS Energy Corporation web s=\\r\\nite at:</strong><br>\\r\\n<br>\\r\\n<a href=3D\"https://u11277508.ct.sendgrid.net/ls/click?upn=3D32r1F7qKA-2FlPf=\\r\\n4VG4Yq9V7rIj65-2FobA5M0Y4tcQq3JTqKzMlWYDtF9q7KahnmRZk0QJ5e5I10M6q-2BkviFxa8=\\r\\nvLoXwGmWVJ8ZJaixO-2FLaF0JIp5uAS1yeio6NuXQv61cG32iMEr-2FwpPgjwDgjsbqRJ52NL-2=\\r\\nFt3JMSON4YFciJy6tQkGpIr-2BNBUNHYyPVEsvpEgVO3SuiaILRpU-2FqwWRJwymn4yACcg3Pqj=\\r\\npTVuEtB22lPJxUqUZTm7DMM1L5TioAADtwssVHPuHrpNwAsHUvHM7YXX967hkELJTdxcOHz54A4=\\r\\n-3Dg7bc_cbLNfl9DC06I7yqAggRDStoEt6EUIhRidxfYOh1J-2BZf-2FJqL8Hq-2Fw5EcfayrRJ=\\r\\nbj6IHM-2B6QY1qXVC-2FumwUE-2BQq-2Bj45H42RYtbuhqtF-2BE-2FswlTISfNYwxrvQ5oXLY9=\\r\\nHwim5B9nU4ERot8RD7IaM0d0EpvcXtkFWQAwoYB2xZGCQqFOHHAV0RG86shMeNjPsBVDz5Uj4XI=\\r\\n0p2ZmINn7az6nuy9NnHlbWSKt4Ep9ut0ooqcdAlAP5APZ0lfZs2TFDeVmFex8xHPl2uJrlf0xeQ=\\r\\n8fsOmBX5LGcy2v57bORWPnlRszHxNo5CVnOSG4y-2BNEB5PKw-2FsAHgoBHbNudxeA1xt9Sq0Ht=\\r\\n-2F3V9wJ2vJyKuAngllhew7XSGM2r5SvQhxypqFZor2L7gg3RHEDnRwvHuR3SXBOnuW7wrLKCWt=\\r\\n3xmBPNUmiVv1NVG5KnDN22nBBgrTThi0-2FP-2BhKnNSLFd-2FLjZrIrEg-3D-3D\">Consumers=\\r\\n Energy Foundation to Award $50,000 for Three Small Towns in Put Your Town =\\r\\non the Map Competition</a><br>\\r\\n<br>\\r\\n<a href=3D\"https://u11277508.ct.sendgrid.net/ls/click?upn=3DQHV9pJ3XucdNDzN=\\r\\ndZffVoeIwHKqzY0EajXPLtAyATQ5hP1SUYdrYNdHL-2F7114hQmu-2F-2FzFoVr3lvQK9nCtV4D=\\r\\nERV-2FmsixiJLFpLnuxZSeD-2FA-3DmKTx_cbLNfl9DC06I7yqAggRDStoEt6EUIhRidxfYOh1J=\\r\\n-2BZf-2FJqL8Hq-2Fw5EcfayrRJbj6IHM-2B6QY1qXVC-2FumwUE-2BQq-2Bj45H42RYtbuhqtF=\\r\\n-2BE-2FswlTISfNYwxrvQ5oXLY9Hwim5B9nU4ERot8RD7IaM0d0EpvcXtkFWQAwoYB2xZGCQqFO=\\r\\nHHAV0RG86shMeNjPsBVDz5Uj4XI0p2ZmINn7az6nuy9NnHlbWSKt4Ep9ut0ooqcdAlAP5APZ0lf=\\r\\nZs2TFDeVmFex8xHPl2uJrlf0xeQ8fsOmBX5LGcy2v57bORWPnlRszHxNo5CVnOSG4y-2BNEB5PK=\\r\\nJl-2BqT-2BsL-2B0czZqLfZvGREAeSTs0RLuGViF2ygJNmpjiTqqsCT-2Ff20ArRynSvqxi35UP=\\r\\n08XNrNRSQbZWRyE4SlneNMqT-2F-2Bc8Sm-2BfsDjAYIK-2FqcXRrDhNyoT70TuJF2EyyjA6js6=\\r\\nRt0Ay6BupoaNF-2Baw-3D-3D\">Click Here</a> for a complete listing of CMS Ener=\\r\\ngy Corporation press releases.<br>\\r\\n<br>\\r\\n-------------------<br>\\r\\nTo unsubscribe from this list please visit the <a href=3D\"https://u11277508=\\r\\n.ct.sendgrid.net/ls/click?upn=3D32r1F7qKA-2FlPf4VG4Yq9V7rIj65-2FobA5M0Y4tcQ=\\r\\nq3JTqKzMlWYDtF9q7KahnmRZknYwyJrvhEIXCh5TO0LoZOMUkmgzHx5lfAk1HIGB9iXRUP7TkGs=\\r\\nr5v2YvgiD5xo2aDsGm2KtvoohD03Ce-2FV-2Blkg-3D-3DqfyD_cbLNfl9DC06I7yqAggRDStoE=\\r\\nt6EUIhRidxfYOh1J-2BZf-2FJqL8Hq-2Fw5EcfayrRJbj6IHM-2B6QY1qXVC-2FumwUE-2BQq-2=\\r\\nBj45H42RYtbuhqtF-2BE-2FswlTISfNYwxrvQ5oXLY9Hwim5B9nU4ERot8RD7IaM0d0EpvcXtkF=\\r\\nWQAwoYB2xZGCQqFOHHAV0RG86shMeNjPsBVDz5Uj4XI0p2ZmINn7az6nuy9NnHlbWSKt4Ep9ut0=\\r\\nooqcdAlAP5APZ0lfZs2TFDeVmFex8xHPl2uJrlf0xeQ8fsOmBX5LGcy2v57bORWPnlRszHxNo5C=\\r\\nVnOSG4y-2BNEB5PKiDbtgwZ5Cp19kpeCZfQcoAVqXVNhrbUrHgSLRcSJfC7NJGAxxgXRkeR2qe0=\\r\\nLb5NZVpoyBJBOJ7TroDAky57nQxg1D44HiO7g8h0OIGBQCPjbIwbGcbIC897NfZiA6nZNWBo1WH=\\r\\nSjXhLm3tUjKX4GUg-3D-3D\">email alert section of the CMS Energy Corporation s=\\r\\nite</a>.<img src=3D\"https://u11277508.ct.sendgrid.net/wf/open?upn=3Dbk3ZPPY=\\r\\nGkl6qwWr5zTpjC2oIJqUy2pVIVAGlh7a-2BXYkegjWcfNQuZdSNVfvJ7SNr78LpCXEnLIU22tUy=\\r\\nfQCLG7iWpeR5WaJbHb0d04UOYRfFn-2BX-2B2aRbVLbmmpbtmEGjkNoR5aCVqVvqOPDpCQkkSu2=\\r\\nZ54tzftwwY0cFdTiQUhD-2FEn-2FoLb-2Bj9vbN6qo9SnzD-2FOQJ-2Bevd-2Fn1S7sHqHLcJ-2=\\r\\nBOLRtimyGLnNGtpodpsFTxYbWaim7M1O3Tq-2BLgTzneTWxKC-2BLNZ4VlMx3tiKjZOmAxD7WxK=\\r\\nH7H2c1PWLuWJLqYxEBET29vTBmrDNIASXxFhNoNRB6hYciirVBhGJA2-2BP8Q8DKW9BTpcwIpNa=\\r\\n8UG-2FLxCb4QVKUNSsHEJf8kSp7KFVBjcceJECh-2BR3K5wxiYe3z4jERXXJznw3m-2BfFZEtf9=\\r\\n33OifFDG77leB1x5xdeYo9zVDg9dDCrWFmRiTfeu-2F00jgwiu5nNEdYPQyRFrMeeDAU-3D\" al=\\r\\nt=3D\"\" width=3D\"1\" height=3D\"1\" border=3D\"0\" style=3D\"height:1px !important=\\r\\n;width:1px !important;border-width:0 !important;margin-top:0 !important;mar=\\r\\ngin-bottom:0 !important;margin-right:0 !important;margin-left:0 !important;=\\r\\npadding-top:0 !important;padding-bottom:0 !important;padding-right:0 !impor=\\r\\ntant;padding-left:0 !important;\"/>\\r\\n'),\n",
       "  b')']]"
      ]
     },
     "execution_count": 257,
     "metadata": {},
     "output_type": "execute_result"
    }
   ],
   "source": [
    "msg = msgs[::-1]\n",
    "msg"
   ]
  },
  {
   "cell_type": "code",
   "execution_count": 258,
   "metadata": {},
   "outputs": [
    {
     "data": {
      "text/plain": [
       "[(b'681 (RFC822 {9854}',\n",
       "  b'Delivered-To: montgash3@gmail.com\\r\\nReceived: by 2002:a05:6f02:8433:b0:61:e91d:81c with SMTP id v51csp1815961rce;\\r\\n        Tue, 30 Jan 2024 08:19:14 -0800 (PST)\\r\\nX-Google-Smtp-Source: AGHT+IGH8npZ69Tnod+TmsjnE+i0xC/3IayHidFb+qHSNioYe8Jxc7aSytiLjAzKh79cJEKd5Ews\\r\\nX-Received: by 2002:a67:f8d0:0:b0:46b:4947:ed89 with SMTP id c16-20020a67f8d0000000b0046b4947ed89mr4531331vsp.7.1706631554036;\\r\\n        Tue, 30 Jan 2024 08:19:14 -0800 (PST)\\r\\nARC-Seal: i=1; a=rsa-sha256; t=1706631554; cv=none;\\r\\n        d=google.com; s=arc-20160816;\\r\\n        b=CcU7LXWDCW7tzEUeFzk1bF1n38pR92ilza8d779aivJgJWkelShE/7gOnNK6hzI1Fm\\r\\n         0oK8K1HeebPLZ05F4JA4hlPIOTvcxmRuQwlALjE7RFaOM+SPPwG7S8Y+ykJd/uKAFsL7\\r\\n         or93RuTlT0M309WsUKJ08uNdjcQDNCcq0us3++8Eyt4iYz4nwl8c1cBmfepEZp6s7b55\\r\\n         SEN5XdjbKNCixDfATu6cEywtrAAbbVBFIYDCB4EyI/GH9Gaz/hJMox8ly0AVknlNO31K\\r\\n         xCy4fd0AfzdPyprKpklJMa0ua+BDkPjbJ3eBrN6TgEQT/wCbyjngnpNYbfJ8F2AFYkj8\\r\\n         02pw==\\r\\nARC-Message-Signature: i=1; a=rsa-sha256; c=relaxed/relaxed; d=google.com; s=arc-20160816;\\r\\n        h=to:reply-to:subject:message-id:mime-version:from:date\\r\\n         :content-transfer-encoding:dkim-signature:dkim-signature;\\r\\n        bh=6cazH3s+onQtYYHqXQyJJ9vMLGZG7ZegkHFfsV2EXQ4=;\\r\\n        fh=YxEBacoHXfqvNMNi6hSERLQO6OocoGvYUQDAuxxIppk=;\\r\\n        b=YBYGLFR7pje67UdrV+BvmSnTjmTKOzrMFYaDy6f7Ls13vYtJAKgolJwwF+SlUz0DXd\\r\\n         wDVcSEFyCJdW4XhGh3zAmd/fENU2t8+IAGq3thB9r/WpuvFAUDXs1LJ0WG8NyC8JVZDQ\\r\\n         m5y1KfGV0kYTyRx9y0CHQ4PvPQlWf9g9nKy9Rh/HWfXq99aztZkWczjLKf9Ytvr+awID\\r\\n         cvh1rJcT1N7ZTHryqO6GcJphkO310zm+86nLSU3MTJJa12xrJplWwo38zPPCnRq2MMdQ\\r\\n         FwmiI5mjs82gtiPy36WTmlw+Si/xv6eSnhOJwAmz5lkoZYj3azJo9+kPFNPESC6pLzSA\\r\\n         QQeA==\\r\\nARC-Authentication-Results: i=1; mx.google.com;\\r\\n       dkim=pass header.i=@cmsenergy.com header.s=zz header.b=WPDphfQ1;\\r\\n       dkim=pass header.i=@sendgrid.info header.s=smtpapi header.b=\"eLKdgY/u\";\\r\\n       spf=pass (google.com: domain of bounces+11277508-8082-montgash3=gmail.com@em7445.cmsenergy.com designates 168.245.55.252 as permitted sender) smtp.mailfrom=\"bounces+11277508-8082-montgash3=gmail.com@em7445.cmsenergy.com\";\\r\\n       dmarc=pass (p=REJECT sp=REJECT dis=NONE) header.from=cmsenergy.com\\r\\nReturn-Path: <bounces+11277508-8082-montgash3=gmail.com@em7445.cmsenergy.com>\\r\\nReceived: from o16824555x252.outbound-mail.sendgrid.net (o16824555x252.outbound-mail.sendgrid.net. [168.245.55.252])\\r\\n        by mx.google.com with ESMTPS id j18-20020a67f3d2000000b00469831eb1c2si1162506vsn.637.2024.01.30.08.19.13\\r\\n        for <montgash3@gmail.com>\\r\\n        (version=TLS1_3 cipher=TLS_AES_128_GCM_SHA256 bits=128/128);\\r\\n        Tue, 30 Jan 2024 08:19:14 -0800 (PST)\\r\\nReceived-SPF: pass (google.com: domain of bounces+11277508-8082-montgash3=gmail.com@em7445.cmsenergy.com designates 168.245.55.252 as permitted sender) client-ip=168.245.55.252;\\r\\nAuthentication-Results: mx.google.com;\\r\\n       dkim=pass header.i=@cmsenergy.com header.s=zz header.b=WPDphfQ1;\\r\\n       dkim=pass header.i=@sendgrid.info header.s=smtpapi header.b=\"eLKdgY/u\";\\r\\n       spf=pass (google.com: domain of bounces+11277508-8082-montgash3=gmail.com@em7445.cmsenergy.com designates 168.245.55.252 as permitted sender) smtp.mailfrom=\"bounces+11277508-8082-montgash3=gmail.com@em7445.cmsenergy.com\";\\r\\n       dmarc=pass (p=REJECT sp=REJECT dis=NONE) header.from=cmsenergy.com\\r\\nDKIM-Signature: v=1; a=rsa-sha256; c=relaxed/relaxed; d=cmsenergy.com;\\r\\n\\th=content-transfer-encoding:content-type:from:mime-version:subject:\\r\\n\\treply-to:x-feedback-id:to:cc:content-type:from:subject:to;\\r\\n\\ts=zz; bh=6cazH3s+onQtYYHqXQyJJ9vMLGZG7ZegkHFfsV2EXQ4=;\\r\\n\\tb=WPDphfQ1Mio3eIXB+dasPtfBO6DqLNXiC38m2Z0KqrtkpKtMW23vgea/vL0H2oIWZ+/X\\r\\n\\tuB8mVevAqEbicezS4tZdOnsa/uaY9PzcDKn7A/tYKgCLvA8rgiKVMUlnohM1rrX8uKg1ZQ\\r\\n\\tg6apxPj2uLDnTvENTYcSVIzFQ7CIpynMJ3DiyZncozFQUgKhBzWip7ygaKslE7MeGc45NU\\r\\n\\tFoX4lmui635WkArw5BGhn6VRGoMZqvkW1+T8ANd9swz0J8WyW+VbWtCPuzdYJH8nKe0tNY\\r\\n\\tcXnEvJPqb+GIOtTgg22TA6r/CEF6SjNwhjcRNLEjbWy8ay84hRo9lJqGLmZBertA==\\r\\nDKIM-Signature: v=1; a=rsa-sha256; c=relaxed/relaxed; d=sendgrid.info;\\r\\n\\th=content-transfer-encoding:content-type:from:mime-version:subject:\\r\\n\\treply-to:x-feedback-id:to:cc:content-type:from:subject:to;\\r\\n\\ts=smtpapi; bh=6cazH3s+onQtYYHqXQyJJ9vMLGZG7ZegkHFfsV2EXQ4=;\\r\\n\\tb=eLKdgY/uknQAtL3nCHdhcDkXC9T3paATkEVnx70L/LzAwj5XFzgp7mdqiR0EVCmb5h40\\r\\n\\tLXRyPIolHmnS3tPABcVs8t3f91CVYqfZtB0R73QMmI/gVEJHWsZRV3sffeX2xp+X2diIN7\\r\\n\\tKbAxRyxO81trp/8SnQBLxSDWxkzHfGDOE=\\r\\nReceived: by filterdrecv-5bbdbb56cd-l5dl4 with SMTP id filterdrecv-5bbdbb56cd-l5dl4-1-65B92181-22\\r\\n        2024-01-30 16:19:13.627641438 +0000 UTC m=+1652539.356701410\\r\\nReceived: from MTEyNzc1MDg (unknown)\\r\\n\\tby geopod-ismtpd-29 (SG) with HTTP\\r\\n\\tid y9Xo5HuhRhi9pSWRPaNMmA\\r\\n\\tTue, 30 Jan 2024 16:19:13.622 +0000 (UTC)\\r\\nContent-Transfer-Encoding: quoted-printable\\r\\nContent-Type: text/html; charset=us-ascii\\r\\nDate: Tue, 30 Jan 2024 16:19:13 +0000 (UTC)\\r\\nFrom: CMS Energy - Investor Relations <investrel@cmsenergy.com>\\r\\nMime-Version: 1.0\\r\\nMessage-ID: <y9Xo5HuhRhi9pSWRPaNMmA@geopod-ismtpd-29>\\r\\nSubject: CMS Energy Corporation - Consumers Energy and Consumers Energy\\r\\n Foundation Donate More than $11 Million in 2023\\r\\nReply-To: investrel@cmsenergy.com\\r\\nX-Sender: no-reply@q4inc.com\\r\\nX-Feedback-ID: 11277508:SG\\r\\nX-SG-EID: \\r\\n =?us-ascii?Q?19hxCQ0+YbakdZeHfv3jRJ+lC4aMxc+Nkwv=2FSyAqKXTNMStSBKDSQ4kgRseOHr?=\\r\\n =?us-ascii?Q?i0HHmf9oeHD0qFuUcOrXBEjvCDeTNMf6jGuQsAm?=\\r\\n =?us-ascii?Q?M+XHf2oSrskSFFSA3yhhxEyNN2NZcZJDoPXsicT?=\\r\\n =?us-ascii?Q?HKx1x1v8KyM6uXvoVp93+9k+5i+tKRZStFZjG2d?=\\r\\n =?us-ascii?Q?OKKO+ApZNAv7GMFLg5Lk2GcnkTSRm5WVlI=2FVjOs?=\\r\\n =?us-ascii?Q?VXDSK809e3Um3G0d+JlWRoqQ7zaTgGwuHi+owC5?=\\r\\n =?us-ascii?Q?T9wmAImmaLQBAYFlQRYuA=3D=3D?=\\r\\nX-SG-ID: \\r\\n =?us-ascii?Q?N2C25iY2uzGMFz6rgvQsb8raWjw0ZPf1VmjsCkspi=2FLs3Ta+uBhopEhBDLaCGA?=\\r\\n =?us-ascii?Q?5f3HzDi86tKv2T0N+VpgWmZz+WGFyHyxCl5Lj8U?=\\r\\n =?us-ascii?Q?RRJ2i1R2L3+PLq2MDEuhl0tfhBpT0XQsLBjgOoL?=\\r\\n =?us-ascii?Q?WEX0bNiN=2FGzPcFae45poqzqCh0B8lQDJVrmjBsI?=\\r\\n =?us-ascii?Q?6lNOoer6h5bYCzwHguacz8jx5hPpgPzPWSgpVLE?=\\r\\n =?us-ascii?Q?u94N29UKD0NgQGkTH9Kj1l8vRJgbr0juzWLz+P?=\\r\\nTo: montgash3@gmail.com\\r\\nX-Entity-ID: aKUoNb+gNVOrr9hdz9ASuQ==\\r\\n\\r\\n<img alt=3D\"\" src=3D\"http://cmsenergy.com/files/design/ClientLogo.png\">\\r\\n<br>\\r\\n<hr>\\r\\n<br>\\r\\n<strong>CMS Energy Corporation&nbsp;has added a new press release to its we=\\r\\nb site. For full details please visit the&nbsp;CMS Energy Corporation web s=\\r\\nite at:</strong><br>\\r\\n<br>\\r\\n<a href=3D\"https://u11277508.ct.sendgrid.net/ls/click?upn=3D32r1F7qKA-2FlPf=\\r\\n4VG4Yq9V7rIj65-2FobA5M0Y4tcQq3JTqKzMlWYDtF9q7KahnmRZk0QJ5e5I10M6q-2BkviFxa8=\\r\\nvLoXwGmWVJ8ZJaixO-2FLaF0JIp5uAS1yeio6NuXQv61cGg1h5OdfqSzI3HqXIkAnpfSGFyaB8I=\\r\\n8mebPPEKtE47X-2Bhcdt-2FfUoHYTGt1o1Rn9q-2BrUzjRfZ9gK2ci1chWZmuSfcqgV-2F2B75p=\\r\\n-2BfF7c4I5jg69hM18kS291fvDgubgCnHejYJZ_cbLNfl9DC06I7yqAggRDStoEt6EUIhRidxfY=\\r\\nOh1J-2BZf-2FJqL8Hq-2Fw5EcfayrRJbj6IHM-2B6QY1qXVC-2FumwUE-2BQq-2Bj45H42RYtbu=\\r\\nhqtF-2BE-2FswlTISfNYwxrvQ5oXLY9Hwim5B9nU4ERot8RD7IaM0d0Elxt-2B5C4kKiRtJWlc9=\\r\\nzJpd5uEpi8CD2JYEus8e722pCs8o1kHWbJFwIKJ-2BLa-2FCmJ8TzlSbpH7pgq7-2BaRxtCMzlD=\\r\\nYNH02IxvE8bu-2FAh54pB-2F10JL-2FZc8iwIVpmr6t-2FfpBcHuw86S6w6NkTb3-2B8DibNnjm=\\r\\nhfRrUFHDri3HCEFm2X34y8PWgtVIan2Kx6aXQ1pbPBlDhEhm1ECzhTm1MWg9KpLEvSX5cUXaOO7=\\r\\nILbpW-2F-2BkPTQxwSANJREyob5GMu04jw2MROlW2Zou9iu0FXhe07vQ-3D\">Consumers Ener=\\r\\ngy and Consumers Energy Foundation Donate More than $11 Million in 2023</a>=\\r\\n<br>\\r\\n<br>\\r\\n<a href=3D\"https://u11277508.ct.sendgrid.net/ls/click?upn=3DQHV9pJ3XucdNDzN=\\r\\ndZffVoeIwHKqzY0EajXPLtAyATQ5hP1SUYdrYNdHL-2F7114hQmu-2F-2FzFoVr3lvQK9nCtV4D=\\r\\nERV-2FmsixiJLFpLnuxZSeD-2FA-3DiYzm_cbLNfl9DC06I7yqAggRDStoEt6EUIhRidxfYOh1J=\\r\\n-2BZf-2FJqL8Hq-2Fw5EcfayrRJbj6IHM-2B6QY1qXVC-2FumwUE-2BQq-2Bj45H42RYtbuhqtF=\\r\\n-2BE-2FswlTISfNYwxrvQ5oXLY9Hwim5B9nU4ERot8RD7IaM0d0Elxt-2B5C4kKiRtJWlc9zJpd=\\r\\n5uEpi8CD2JYEus8e722pCs8o1kHWbJFwIKJ-2BLa-2FCmJ8TzlSbpH7pgq7-2BaRxtCMzlDYNH0=\\r\\n2IxvE8bu-2FAh54pB-2F10JL-2FZc8iwIVpmr6t-2FfpBcGlttYdZTSn4JzaFn2kM2YXnLt-2FZ=\\r\\nF5v5RTGho-2FBFnC3CYTA5To936TCjQEaJgJejR5s-2BtxogR9LCXDceaMQ9AZDyJC8OAk-2BUX=\\r\\nMq0IbLXcm1FvuqWsYUZ4X1fxvlURgQFhW1w7RQ5nMbypQpfWZR-2BDjA-3D\">Click Here</a>=\\r\\n for a complete listing of CMS Energy Corporation press releases.<br>\\r\\n<br>\\r\\n-------------------<br>\\r\\nTo unsubscribe from this list please visit the <a href=3D\"https://u11277508=\\r\\n.ct.sendgrid.net/ls/click?upn=3D32r1F7qKA-2FlPf4VG4Yq9V7rIj65-2FobA5M0Y4tcQ=\\r\\nq3JTqKzMlWYDtF9q7KahnmRZknYwyJrvhEIXCh5TO0LoZOMUkmgzHx5lfAk1HIGB9iXRUP7TkGs=\\r\\nr5v2YvgiD5xo2aDsGm2KtvoohD03Ce-2FV-2Blkg-3D-3DV1qv_cbLNfl9DC06I7yqAggRDStoE=\\r\\nt6EUIhRidxfYOh1J-2BZf-2FJqL8Hq-2Fw5EcfayrRJbj6IHM-2B6QY1qXVC-2FumwUE-2BQq-2=\\r\\nBj45H42RYtbuhqtF-2BE-2FswlTISfNYwxrvQ5oXLY9Hwim5B9nU4ERot8RD7IaM0d0Elxt-2B5=\\r\\nC4kKiRtJWlc9zJpd5uEpi8CD2JYEus8e722pCs8o1kHWbJFwIKJ-2BLa-2FCmJ8TzlSbpH7pgq7=\\r\\n-2BaRxtCMzlDYNH02IxvE8bu-2FAh54pB-2F10JL-2FZc8iwIVpmr6t-2FfpBcKcUFNB25WIWSs=\\r\\nMiKMJjJrIyMiPGnXO3oONQ0mK4nfmQi-2BP-2FJxaf0qP7Dg-2FJT1pQCtPd9vPDbteZAT5YRWL=\\r\\nBrzYePSgo4tgszAqT65QlMN5Z-2BoQ6Tn8myVMvECf39jQDZ4Vgs2aWitF21PsX-2BP1uTDA-3D=\\r\\n\">email alert section of the CMS Energy Corporation site</a>.<img src=3D\"ht=\\r\\ntps://u11277508.ct.sendgrid.net/wf/open?upn=3Dbk3ZPPYGkl6qwWr5zTpjC2oIJqUy2=\\r\\npVIVAGlh7a-2BXYkegjWcfNQuZdSNVfvJ7SNr78LpCXEnLIU22tUyfQCLG7iWpeR5WaJbHb0d04=\\r\\nUOYRfFn-2BX-2B2aRbVLbmmpbtmEGjkNoR5aCVqVvqOPDpCQkkSh84vQvt2VDEhFZwZQmD6Wbs-=\\r\\n2FLhwPm4fAKWjyBYMrf7mS1Flz4fFI8TGCPwAainfLntQ6WSySxlnLHqIVtQmDW-2BprK1euPMz=\\r\\ni8BSgrmwU-2F8rsAklTTO3lwdu0X4ewIqHRrr0LktZAcBvyX6wutXzbXza72seNWbAz5MysRgjQ=\\r\\nEXR-2BzPJZUI-2FinKzkLnTfvU4XJvCvwPlRl1eMuH8tlkX9iQPUAGnkAYq-2B6u2LZ3I5fomaB=\\r\\niNofvhINvbNLaAjAPIJoHZWQrUIhJfwjv86IFmmQnMHGnPVdgcOge-2FOJdkLmzL\" alt=3D\"\" =\\r\\nwidth=3D\"1\" height=3D\"1\" border=3D\"0\" style=3D\"height:1px !important;width:=\\r\\n1px !important;border-width:0 !important;margin-top:0 !important;margin-bot=\\r\\ntom:0 !important;margin-right:0 !important;margin-left:0 !important;padding=\\r\\n-top:0 !important;padding-bottom:0 !important;padding-right:0 !important;pa=\\r\\ndding-left:0 !important;\"/>\\r\\n'),\n",
       " b')']"
      ]
     },
     "execution_count": 258,
     "metadata": {},
     "output_type": "execute_result"
    }
   ],
   "source": [
    "response_part = msg[0]\n",
    "response_part"
   ]
  },
  {
   "cell_type": "code",
   "execution_count": 259,
   "metadata": {},
   "outputs": [
    {
     "data": {
      "text/plain": [
       "<email.message.Message at 0x10a6cad90>"
      ]
     },
     "execution_count": 259,
     "metadata": {},
     "output_type": "execute_result"
    }
   ],
   "source": [
    "my_msg=email.message_from_bytes((response_part[1]))\n",
    "my_msg"
   ]
  },
  {
   "cell_type": "code",
   "execution_count": 260,
   "metadata": {},
   "outputs": [
    {
     "name": "stdout",
     "output_type": "stream",
     "text": [
      "None\n"
     ]
    }
   ],
   "source": [
    "msg_subject = my_msg['subject']\n",
    "print(msg_subject) "
   ]
  },
  {
   "cell_type": "code",
   "execution_count": 261,
   "metadata": {},
   "outputs": [
    {
     "name": "stdout",
     "output_type": "stream",
     "text": [
      "None\n"
     ]
    }
   ],
   "source": [
    "msg_from = my_msg['from']\n",
    "print(msg_from)"
   ]
  },
  {
   "cell_type": "code",
   "execution_count": 262,
   "metadata": {},
   "outputs": [
    {
     "name": "stdout",
     "output_type": "stream",
     "text": [
      "None\n"
     ]
    }
   ],
   "source": [
    "msg_body = my_msg['body']\n",
    "print(msg_body)"
   ]
  },
  {
   "cell_type": "code",
   "execution_count": 263,
   "metadata": {},
   "outputs": [
    {
     "name": "stdout",
     "output_type": "stream",
     "text": [
      "None\n"
     ]
    }
   ],
   "source": [
    "print(my_msg['email_str'])"
   ]
  },
  {
   "cell_type": "code",
   "execution_count": 264,
   "metadata": {},
   "outputs": [],
   "source": [
    "# ! pip install bs4"
   ]
  },
  {
   "cell_type": "code",
   "execution_count": 265,
   "metadata": {},
   "outputs": [],
   "source": [
    "import html\n",
    "from bs4 import BeautifulSoup"
   ]
  },
  {
   "cell_type": "code",
   "execution_count": 280,
   "metadata": {},
   "outputs": [
    {
     "name": "stdout",
     "output_type": "stream",
     "text": [
      "_________________________________________\n",
      "subj: CMS Energy Corporation - Consumers Energy and Consumers Energy\n",
      " Foundation Donate More than $11 Million in 2023\n",
      "from: CMS Energy - Investor Relations <investrel@cmsenergy.com>\n",
      "body:\n",
      "text/html\n",
      "Hyperlink: https://u11277508.ct.sendgrid.net/ls/click?upn=32r1F7qKA-2FlPf4VG4Yq9V7rIj65-2FobA5M0Y4tcQq3JTqKzMlWYDtF9q7KahnmRZk0QJ5e5I10M6q-2BkviFxa8vLoXwGmWVJ8ZJaixO-2FLaF0JIp5uAS1yeio6NuXQv61cGg1h5OdfqSzI3HqXIkAnpfSGFyaB8I8mebPPEKtE47X-2Bhcdt-2FfUoHYTGt1o1Rn9q-2BrUzjRfZ9gK2ci1chWZmuSfcqgV-2F2B75p-2BfF7c4I5jg69hM18kS291fvDgubgCnHejYJZ_cbLNfl9DC06I7yqAggRDStoEt6EUIhRidxfYOh1J-2BZf-2FJqL8Hq-2Fw5EcfayrRJbj6IHM-2B6QY1qXVC-2FumwUE-2BQq-2Bj45H42RYtbuhqtF-2BE-2FswlTISfNYwxrvQ5oXLY9Hwim5B9nU4ERot8RD7IaM0d0Elxt-2B5C4kKiRtJWlc9zJpd5uEpi8CD2JYEus8e722pCs8o1kHWbJFwIKJ-2BLa-2FCmJ8TzlSbpH7pgq7-2BaRxtCMzlDYNH02IxvE8bu-2FAh54pB-2F10JL-2FZc8iwIVpmr6t-2FfpBcHuw86S6w6NkTb3-2B8DibNnjmhfRrUFHDri3HCEFm2X34y8PWgtVIan2Kx6aXQ1pbPBlDhEhm1ECzhTm1MWg9KpLEvSX5cUXaOO7ILbpW-2F-2BkPTQxwSANJREyob5GMu04jw2MROlW2Zou9iu0FXhe07vQ-3D\n",
      "Hyperlink: https://u11277508.ct.sendgrid.net/ls/click?upn=QHV9pJ3XucdNDzNdZffVoeIwHKqzY0EajXPLtAyATQ5hP1SUYdrYNdHL-2F7114hQmu-2F-2FzFoVr3lvQK9nCtV4DERV-2FmsixiJLFpLnuxZSeD-2FA-3DiYzm_cbLNfl9DC06I7yqAggRDStoEt6EUIhRidxfYOh1J-2BZf-2FJqL8Hq-2Fw5EcfayrRJbj6IHM-2B6QY1qXVC-2FumwUE-2BQq-2Bj45H42RYtbuhqtF-2BE-2FswlTISfNYwxrvQ5oXLY9Hwim5B9nU4ERot8RD7IaM0d0Elxt-2B5C4kKiRtJWlc9zJpd5uEpi8CD2JYEus8e722pCs8o1kHWbJFwIKJ-2BLa-2FCmJ8TzlSbpH7pgq7-2BaRxtCMzlDYNH02IxvE8bu-2FAh54pB-2F10JL-2FZc8iwIVpmr6t-2FfpBcGlttYdZTSn4JzaFn2kM2YXnLt-2FZF5v5RTGho-2FBFnC3CYTA5To936TCjQEaJgJejR5s-2BtxogR9LCXDceaMQ9AZDyJC8OAk-2BUXMq0IbLXcm1FvuqWsYUZ4X1fxvlURgQFhW1w7RQ5nMbypQpfWZR-2BDjA-3D\n",
      "Hyperlink: https://u11277508.ct.sendgrid.net/ls/click?upn=32r1F7qKA-2FlPf4VG4Yq9V7rIj65-2FobA5M0Y4tcQq3JTqKzMlWYDtF9q7KahnmRZknYwyJrvhEIXCh5TO0LoZOMUkmgzHx5lfAk1HIGB9iXRUP7TkGsr5v2YvgiD5xo2aDsGm2KtvoohD03Ce-2FV-2Blkg-3D-3DV1qv_cbLNfl9DC06I7yqAggRDStoEt6EUIhRidxfYOh1J-2BZf-2FJqL8Hq-2Fw5EcfayrRJbj6IHM-2B6QY1qXVC-2FumwUE-2BQq-2Bj45H42RYtbuhqtF-2BE-2FswlTISfNYwxrvQ5oXLY9Hwim5B9nU4ERot8RD7IaM0d0Elxt-2B5C4kKiRtJWlc9zJpd5uEpi8CD2JYEus8e722pCs8o1kHWbJFwIKJ-2BLa-2FCmJ8TzlSbpH7pgq7-2BaRxtCMzlDYNH02IxvE8bu-2FAh54pB-2F10JL-2FZc8iwIVpmr6t-2FfpBcKcUFNB25WIWSsMiKMJjJrIyMiPGnXO3oONQ0mK4nfmQi-2BP-2FJxaf0qP7Dg-2FJT1pQCtPd9vPDbteZAT5YRWLBrzYePSgo4tgszAqT65QlMN5Z-2BoQ6Tn8myVMvECf39jQDZ4Vgs2aWitF21PsX-2BP1uTDA-3D\n",
      "_________________________________________\n",
      "subj: CMS Energy Corporation - Consumers Energy Foundation Planet Awards to\n",
      " Provide $500,000 to Environmental Projects\n",
      "from: CMS Energy - Investor Relations <investrel@cmsenergy.com>\n",
      "body:\n",
      "text/html\n",
      "Hyperlink: https://u11277508.ct.sendgrid.net/ls/click?upn=32r1F7qKA-2FlPf4VG4Yq9V7rIj65-2FobA5M0Y4tcQq3JTqKzMlWYDtF9q7KahnmRZk0QJ5e5I10M6q-2BkviFxa8vLoXwGmWVJ8ZJaixO-2FLaF0JIp5uAS1yeio6NuXQv61cG32iMEr-2FwpPgjwDgjsbqRJzHWeftR0YSGANtry9CmPcEj6jiuJX3zr9WhFjoBzdW1QMVxUsXHX6UgrnF2-2BUXIejj5RpTwxF0aKSdtNMaq8XMdJYc4de8RkpmNiHmKjrilpA-2BHdiuIdFM01MA8btG4Kg-3D-3Dh-63_cbLNfl9DC06I7yqAggRDStoEt6EUIhRidxfYOh1J-2BZf-2FJqL8Hq-2Fw5EcfayrRJbj6IHM-2B6QY1qXVC-2FumwUE-2BQq-2Bj45H42RYtbuhqtF-2BE-2FswlTISfNYwxrvQ5oXLY9Hwim5B9nU4ERot8RD7IaM0d0EpvcXtkFWQAwoYB2xZGCQqEGawz0Av-2Fk8VUVldeCaKJnXm1wCeLWINFn6n8p8Ek7D-2FL2YaJ634ou3fAwZs1B6BJtYHRtWuZSAPhbdRh2Fn0ZjmZ3ccDbkRB1Cym123-2B5kESwPraAl12Iel69T2Q6lgqa28iU5GIh2wtgStHwq2DBRxHF-2BOOkcHZ5f17k7TZBulqfSBsjyY4oxMfOukqmf-2FGn9fWn-2FwPXBIkeZJor7yLPZLhwYj-2B3SPi1rIldiwAt8Q18AcU1ZNnvOzjXZxbUUho53GNJN61ZDXHFnMzruKOz\n",
      "Hyperlink: https://u11277508.ct.sendgrid.net/ls/click?upn=QHV9pJ3XucdNDzNdZffVoeIwHKqzY0EajXPLtAyATQ5hP1SUYdrYNdHL-2F7114hQmu-2F-2FzFoVr3lvQK9nCtV4DERV-2FmsixiJLFpLnuxZSeD-2FA-3D_cRq_cbLNfl9DC06I7yqAggRDStoEt6EUIhRidxfYOh1J-2BZf-2FJqL8Hq-2Fw5EcfayrRJbj6IHM-2B6QY1qXVC-2FumwUE-2BQq-2Bj45H42RYtbuhqtF-2BE-2FswlTISfNYwxrvQ5oXLY9Hwim5B9nU4ERot8RD7IaM0d0EpvcXtkFWQAwoYB2xZGCQqEGawz0Av-2Fk8VUVldeCaKJnXm1wCeLWINFn6n8p8Ek7D-2FL2YaJ634ou3fAwZs1B6BJtYHRtWuZSAPhbdRh2Fn0ZjmZ3ccDbkRB1Cym123-2B5kAzyu0ThfttRiE1llgFhG21wMHxZGdsL9pEd-2FUsOMD7Ll5v0872kHObuqMPsW-2FY8FaMS9cdg1JBXHWD1EYXTzAUz-2B-2FUBmL0-2B-2Fv5pe-2Ba0M-2FcG3tW91olQk8-2FXXLleHs-2FK7isnRjzzXZ-2BaeVlALopj-2BOeJpfEyyS-2F4L5wVKT0rhTi0\n",
      "Hyperlink: https://u11277508.ct.sendgrid.net/ls/click?upn=32r1F7qKA-2FlPf4VG4Yq9V7rIj65-2FobA5M0Y4tcQq3JTqKzMlWYDtF9q7KahnmRZknYwyJrvhEIXCh5TO0LoZOMUkmgzHx5lfAk1HIGB9iXRUP7TkGsr5v2YvgiD5xo2aDsGm2KtvoohD03Ce-2FV-2Blkg-3D-3D14og_cbLNfl9DC06I7yqAggRDStoEt6EUIhRidxfYOh1J-2BZf-2FJqL8Hq-2Fw5EcfayrRJbj6IHM-2B6QY1qXVC-2FumwUE-2BQq-2Bj45H42RYtbuhqtF-2BE-2FswlTISfNYwxrvQ5oXLY9Hwim5B9nU4ERot8RD7IaM0d0EpvcXtkFWQAwoYB2xZGCQqEGawz0Av-2Fk8VUVldeCaKJnXm1wCeLWINFn6n8p8Ek7D-2FL2YaJ634ou3fAwZs1B6BJtYHRtWuZSAPhbdRh2Fn0ZjmZ3ccDbkRB1Cym123-2B5kADN8Q2IK-2Fc6dt7VqCXanN8dYE-2FZpFtttBDDxBv29ITSP8947fn8eHXx2kxAbVge8Da5yxcdnHBjOR6GHiRaCiT9jw-2FAvbWa4OUA1CI-2FWv1m47D06Q41Nocmk0zIvWK51xBFzmOs8aKQ9tth-2FuL0dDJ8hspvJTzldjZjelxdfr4I\n",
      "_________________________________________\n",
      "subj: CMS Energy Corporation - Consumers Energy Foundation to Award $50,000\n",
      " for Three Small Towns in Put Your Town on the Map Competition\n",
      "from: CMS Energy - Investor Relations <investrel@cmsenergy.com>\n",
      "body:\n",
      "text/html\n",
      "Hyperlink: https://u11277508.ct.sendgrid.net/ls/click?upn=32r1F7qKA-2FlPf4VG4Yq9V7rIj65-2FobA5M0Y4tcQq3JTqKzMlWYDtF9q7KahnmRZk0QJ5e5I10M6q-2BkviFxa8vLoXwGmWVJ8ZJaixO-2FLaF0JIp5uAS1yeio6NuXQv61cG32iMEr-2FwpPgjwDgjsbqRJ52NL-2Ft3JMSON4YFciJy6tQkGpIr-2BNBUNHYyPVEsvpEgVO3SuiaILRpU-2FqwWRJwymn4yACcg3PqjpTVuEtB22lPJxUqUZTm7DMM1L5TioAADtwssVHPuHrpNwAsHUvHM7YXX967hkELJTdxcOHz54A4-3Dg7bc_cbLNfl9DC06I7yqAggRDStoEt6EUIhRidxfYOh1J-2BZf-2FJqL8Hq-2Fw5EcfayrRJbj6IHM-2B6QY1qXVC-2FumwUE-2BQq-2Bj45H42RYtbuhqtF-2BE-2FswlTISfNYwxrvQ5oXLY9Hwim5B9nU4ERot8RD7IaM0d0EpvcXtkFWQAwoYB2xZGCQqFOHHAV0RG86shMeNjPsBVDz5Uj4XI0p2ZmINn7az6nuy9NnHlbWSKt4Ep9ut0ooqcdAlAP5APZ0lfZs2TFDeVmFex8xHPl2uJrlf0xeQ8fsOmBX5LGcy2v57bORWPnlRszHxNo5CVnOSG4y-2BNEB5PKw-2FsAHgoBHbNudxeA1xt9Sq0Ht-2F3V9wJ2vJyKuAngllhew7XSGM2r5SvQhxypqFZor2L7gg3RHEDnRwvHuR3SXBOnuW7wrLKCWt3xmBPNUmiVv1NVG5KnDN22nBBgrTThi0-2FP-2BhKnNSLFd-2FLjZrIrEg-3D-3D\n",
      "Hyperlink: https://u11277508.ct.sendgrid.net/ls/click?upn=QHV9pJ3XucdNDzNdZffVoeIwHKqzY0EajXPLtAyATQ5hP1SUYdrYNdHL-2F7114hQmu-2F-2FzFoVr3lvQK9nCtV4DERV-2FmsixiJLFpLnuxZSeD-2FA-3DmKTx_cbLNfl9DC06I7yqAggRDStoEt6EUIhRidxfYOh1J-2BZf-2FJqL8Hq-2Fw5EcfayrRJbj6IHM-2B6QY1qXVC-2FumwUE-2BQq-2Bj45H42RYtbuhqtF-2BE-2FswlTISfNYwxrvQ5oXLY9Hwim5B9nU4ERot8RD7IaM0d0EpvcXtkFWQAwoYB2xZGCQqFOHHAV0RG86shMeNjPsBVDz5Uj4XI0p2ZmINn7az6nuy9NnHlbWSKt4Ep9ut0ooqcdAlAP5APZ0lfZs2TFDeVmFex8xHPl2uJrlf0xeQ8fsOmBX5LGcy2v57bORWPnlRszHxNo5CVnOSG4y-2BNEB5PKJl-2BqT-2BsL-2B0czZqLfZvGREAeSTs0RLuGViF2ygJNmpjiTqqsCT-2Ff20ArRynSvqxi35UP08XNrNRSQbZWRyE4SlneNMqT-2F-2Bc8Sm-2BfsDjAYIK-2FqcXRrDhNyoT70TuJF2EyyjA6js6Rt0Ay6BupoaNF-2Baw-3D-3D\n",
      "Hyperlink: https://u11277508.ct.sendgrid.net/ls/click?upn=32r1F7qKA-2FlPf4VG4Yq9V7rIj65-2FobA5M0Y4tcQq3JTqKzMlWYDtF9q7KahnmRZknYwyJrvhEIXCh5TO0LoZOMUkmgzHx5lfAk1HIGB9iXRUP7TkGsr5v2YvgiD5xo2aDsGm2KtvoohD03Ce-2FV-2Blkg-3D-3DqfyD_cbLNfl9DC06I7yqAggRDStoEt6EUIhRidxfYOh1J-2BZf-2FJqL8Hq-2Fw5EcfayrRJbj6IHM-2B6QY1qXVC-2FumwUE-2BQq-2Bj45H42RYtbuhqtF-2BE-2FswlTISfNYwxrvQ5oXLY9Hwim5B9nU4ERot8RD7IaM0d0EpvcXtkFWQAwoYB2xZGCQqFOHHAV0RG86shMeNjPsBVDz5Uj4XI0p2ZmINn7az6nuy9NnHlbWSKt4Ep9ut0ooqcdAlAP5APZ0lfZs2TFDeVmFex8xHPl2uJrlf0xeQ8fsOmBX5LGcy2v57bORWPnlRszHxNo5CVnOSG4y-2BNEB5PKiDbtgwZ5Cp19kpeCZfQcoAVqXVNhrbUrHgSLRcSJfC7NJGAxxgXRkeR2qe0Lb5NZVpoyBJBOJ7TroDAky57nQxg1D44HiO7g8h0OIGBQCPjbIwbGcbIC897NfZiA6nZNWBo1WHSjXhLm3tUjKX4GUg-3D-3D\n"
     ]
    }
   ],
   "source": [
    "for msg in msgs[::-1]:\n",
    "    for response_part in msg:\n",
    "        if type(response_part) is tuple:\n",
    "            my_msg=email.message_from_bytes((response_part[1]))\n",
    "            print(\"_________________________________________\")\n",
    "            print (\"subj:\", my_msg['subject'])\n",
    "            print (\"from:\", my_msg['from'])\n",
    "            print (\"body:\")\n",
    "            for part in my_msg.walk():  \n",
    "                print(part.get_content_type())\n",
    "                if part.get_content_type() == 'text/plain':\n",
    "                    print (part.get_payload())\n",
    "                elif part.get_content_type() == 'text/html':\n",
    "                    # For HTML parts\n",
    "                    html_content = part.get_payload(decode=True).decode('utf-8')\n",
    "                    soup = BeautifulSoup(html_content, 'html.parser')\n",
    "\n",
    "                    # Extract and print all hyperlinks\n",
    "                    for link in soup.find_all('a', href=True):\n",
    "                        print(\"Hyperlink:\", link['href'])\n",
    "\n",
    "\n",
    "# The above is giving us: news release, all news releases, unsubscribe. In that order"
   ]
  },
  {
   "cell_type": "markdown",
   "metadata": {},
   "source": [
    "Ok, it's working properly. Now we have to see if it is always the case that the first link in each email sent to us will take us to the current press release. \n",
    "\n",
    "If NOT, then we will have to make our computer search for the correct link somehow."
   ]
  },
  {
   "cell_type": "code",
   "execution_count": 267,
   "metadata": {},
   "outputs": [
    {
     "name": "stdout",
     "output_type": "stream",
     "text": [
      "_________________________________________\n",
      "subj: CMS Energy Corporation - Consumers Energy and Consumers Energy\n",
      " Foundation Donate More than $11 Million in 2023\n",
      "from: CMS Energy - Investor Relations <investrel@cmsenergy.com>\n",
      "body:\n",
      "text/html\n",
      "Hyperlink: https://u11277508.ct.sendgrid.net/ls/click?upn=32r1F7qKA-2FlPf4VG4Yq9V7rIj65-2FobA5M0Y4tcQq3JTqKzMlWYDtF9q7KahnmRZk0QJ5e5I10M6q-2BkviFxa8vLoXwGmWVJ8ZJaixO-2FLaF0JIp5uAS1yeio6NuXQv61cGg1h5OdfqSzI3HqXIkAnpfSGFyaB8I8mebPPEKtE47X-2Bhcdt-2FfUoHYTGt1o1Rn9q-2BrUzjRfZ9gK2ci1chWZmuSfcqgV-2F2B75p-2BfF7c4I5jg69hM18kS291fvDgubgCnHejYJZ_cbLNfl9DC06I7yqAggRDStoEt6EUIhRidxfYOh1J-2BZf-2FJqL8Hq-2Fw5EcfayrRJbj6IHM-2B6QY1qXVC-2FumwUE-2BQq-2Bj45H42RYtbuhqtF-2BE-2FswlTISfNYwxrvQ5oXLY9Hwim5B9nU4ERot8RD7IaM0d0Elxt-2B5C4kKiRtJWlc9zJpd5uEpi8CD2JYEus8e722pCs8o1kHWbJFwIKJ-2BLa-2FCmJ8TzlSbpH7pgq7-2BaRxtCMzlDYNH02IxvE8bu-2FAh54pB-2F10JL-2FZc8iwIVpmr6t-2FfpBcHuw86S6w6NkTb3-2B8DibNnjmhfRrUFHDri3HCEFm2X34y8PWgtVIan2Kx6aXQ1pbPBlDhEhm1ECzhTm1MWg9KpLEvSX5cUXaOO7ILbpW-2F-2BkPTQxwSANJREyob5GMu04jw2MROlW2Zou9iu0FXhe07vQ-3D\n",
      "Hyperlink: https://u11277508.ct.sendgrid.net/ls/click?upn=QHV9pJ3XucdNDzNdZffVoeIwHKqzY0EajXPLtAyATQ5hP1SUYdrYNdHL-2F7114hQmu-2F-2FzFoVr3lvQK9nCtV4DERV-2FmsixiJLFpLnuxZSeD-2FA-3DiYzm_cbLNfl9DC06I7yqAggRDStoEt6EUIhRidxfYOh1J-2BZf-2FJqL8Hq-2Fw5EcfayrRJbj6IHM-2B6QY1qXVC-2FumwUE-2BQq-2Bj45H42RYtbuhqtF-2BE-2FswlTISfNYwxrvQ5oXLY9Hwim5B9nU4ERot8RD7IaM0d0Elxt-2B5C4kKiRtJWlc9zJpd5uEpi8CD2JYEus8e722pCs8o1kHWbJFwIKJ-2BLa-2FCmJ8TzlSbpH7pgq7-2BaRxtCMzlDYNH02IxvE8bu-2FAh54pB-2F10JL-2FZc8iwIVpmr6t-2FfpBcGlttYdZTSn4JzaFn2kM2YXnLt-2FZF5v5RTGho-2FBFnC3CYTA5To936TCjQEaJgJejR5s-2BtxogR9LCXDceaMQ9AZDyJC8OAk-2BUXMq0IbLXcm1FvuqWsYUZ4X1fxvlURgQFhW1w7RQ5nMbypQpfWZR-2BDjA-3D\n",
      "Hyperlink: https://u11277508.ct.sendgrid.net/ls/click?upn=32r1F7qKA-2FlPf4VG4Yq9V7rIj65-2FobA5M0Y4tcQq3JTqKzMlWYDtF9q7KahnmRZknYwyJrvhEIXCh5TO0LoZOMUkmgzHx5lfAk1HIGB9iXRUP7TkGsr5v2YvgiD5xo2aDsGm2KtvoohD03Ce-2FV-2Blkg-3D-3DV1qv_cbLNfl9DC06I7yqAggRDStoEt6EUIhRidxfYOh1J-2BZf-2FJqL8Hq-2Fw5EcfayrRJbj6IHM-2B6QY1qXVC-2FumwUE-2BQq-2Bj45H42RYtbuhqtF-2BE-2FswlTISfNYwxrvQ5oXLY9Hwim5B9nU4ERot8RD7IaM0d0Elxt-2B5C4kKiRtJWlc9zJpd5uEpi8CD2JYEus8e722pCs8o1kHWbJFwIKJ-2BLa-2FCmJ8TzlSbpH7pgq7-2BaRxtCMzlDYNH02IxvE8bu-2FAh54pB-2F10JL-2FZc8iwIVpmr6t-2FfpBcKcUFNB25WIWSsMiKMJjJrIyMiPGnXO3oONQ0mK4nfmQi-2BP-2FJxaf0qP7Dg-2FJT1pQCtPd9vPDbteZAT5YRWLBrzYePSgo4tgszAqT65QlMN5Z-2BoQ6Tn8myVMvECf39jQDZ4Vgs2aWitF21PsX-2BP1uTDA-3D\n",
      "_________________________________________\n",
      "subj: CMS Energy Corporation - Consumers Energy Foundation Planet Awards to\n",
      " Provide $500,000 to Environmental Projects\n",
      "from: CMS Energy - Investor Relations <investrel@cmsenergy.com>\n",
      "body:\n",
      "text/html\n",
      "Hyperlink: https://u11277508.ct.sendgrid.net/ls/click?upn=32r1F7qKA-2FlPf4VG4Yq9V7rIj65-2FobA5M0Y4tcQq3JTqKzMlWYDtF9q7KahnmRZk0QJ5e5I10M6q-2BkviFxa8vLoXwGmWVJ8ZJaixO-2FLaF0JIp5uAS1yeio6NuXQv61cG32iMEr-2FwpPgjwDgjsbqRJzHWeftR0YSGANtry9CmPcEj6jiuJX3zr9WhFjoBzdW1QMVxUsXHX6UgrnF2-2BUXIejj5RpTwxF0aKSdtNMaq8XMdJYc4de8RkpmNiHmKjrilpA-2BHdiuIdFM01MA8btG4Kg-3D-3Dh-63_cbLNfl9DC06I7yqAggRDStoEt6EUIhRidxfYOh1J-2BZf-2FJqL8Hq-2Fw5EcfayrRJbj6IHM-2B6QY1qXVC-2FumwUE-2BQq-2Bj45H42RYtbuhqtF-2BE-2FswlTISfNYwxrvQ5oXLY9Hwim5B9nU4ERot8RD7IaM0d0EpvcXtkFWQAwoYB2xZGCQqEGawz0Av-2Fk8VUVldeCaKJnXm1wCeLWINFn6n8p8Ek7D-2FL2YaJ634ou3fAwZs1B6BJtYHRtWuZSAPhbdRh2Fn0ZjmZ3ccDbkRB1Cym123-2B5kESwPraAl12Iel69T2Q6lgqa28iU5GIh2wtgStHwq2DBRxHF-2BOOkcHZ5f17k7TZBulqfSBsjyY4oxMfOukqmf-2FGn9fWn-2FwPXBIkeZJor7yLPZLhwYj-2B3SPi1rIldiwAt8Q18AcU1ZNnvOzjXZxbUUho53GNJN61ZDXHFnMzruKOz\n",
      "Hyperlink: https://u11277508.ct.sendgrid.net/ls/click?upn=QHV9pJ3XucdNDzNdZffVoeIwHKqzY0EajXPLtAyATQ5hP1SUYdrYNdHL-2F7114hQmu-2F-2FzFoVr3lvQK9nCtV4DERV-2FmsixiJLFpLnuxZSeD-2FA-3D_cRq_cbLNfl9DC06I7yqAggRDStoEt6EUIhRidxfYOh1J-2BZf-2FJqL8Hq-2Fw5EcfayrRJbj6IHM-2B6QY1qXVC-2FumwUE-2BQq-2Bj45H42RYtbuhqtF-2BE-2FswlTISfNYwxrvQ5oXLY9Hwim5B9nU4ERot8RD7IaM0d0EpvcXtkFWQAwoYB2xZGCQqEGawz0Av-2Fk8VUVldeCaKJnXm1wCeLWINFn6n8p8Ek7D-2FL2YaJ634ou3fAwZs1B6BJtYHRtWuZSAPhbdRh2Fn0ZjmZ3ccDbkRB1Cym123-2B5kAzyu0ThfttRiE1llgFhG21wMHxZGdsL9pEd-2FUsOMD7Ll5v0872kHObuqMPsW-2FY8FaMS9cdg1JBXHWD1EYXTzAUz-2B-2FUBmL0-2B-2Fv5pe-2Ba0M-2FcG3tW91olQk8-2FXXLleHs-2FK7isnRjzzXZ-2BaeVlALopj-2BOeJpfEyyS-2F4L5wVKT0rhTi0\n",
      "Hyperlink: https://u11277508.ct.sendgrid.net/ls/click?upn=32r1F7qKA-2FlPf4VG4Yq9V7rIj65-2FobA5M0Y4tcQq3JTqKzMlWYDtF9q7KahnmRZknYwyJrvhEIXCh5TO0LoZOMUkmgzHx5lfAk1HIGB9iXRUP7TkGsr5v2YvgiD5xo2aDsGm2KtvoohD03Ce-2FV-2Blkg-3D-3D14og_cbLNfl9DC06I7yqAggRDStoEt6EUIhRidxfYOh1J-2BZf-2FJqL8Hq-2Fw5EcfayrRJbj6IHM-2B6QY1qXVC-2FumwUE-2BQq-2Bj45H42RYtbuhqtF-2BE-2FswlTISfNYwxrvQ5oXLY9Hwim5B9nU4ERot8RD7IaM0d0EpvcXtkFWQAwoYB2xZGCQqEGawz0Av-2Fk8VUVldeCaKJnXm1wCeLWINFn6n8p8Ek7D-2FL2YaJ634ou3fAwZs1B6BJtYHRtWuZSAPhbdRh2Fn0ZjmZ3ccDbkRB1Cym123-2B5kADN8Q2IK-2Fc6dt7VqCXanN8dYE-2FZpFtttBDDxBv29ITSP8947fn8eHXx2kxAbVge8Da5yxcdnHBjOR6GHiRaCiT9jw-2FAvbWa4OUA1CI-2FWv1m47D06Q41Nocmk0zIvWK51xBFzmOs8aKQ9tth-2FuL0dDJ8hspvJTzldjZjelxdfr4I\n",
      "_________________________________________\n",
      "subj: CMS Energy Corporation - Consumers Energy Foundation to Award $50,000\n",
      " for Three Small Towns in Put Your Town on the Map Competition\n",
      "from: CMS Energy - Investor Relations <investrel@cmsenergy.com>\n",
      "body:\n",
      "text/html\n",
      "Hyperlink: https://u11277508.ct.sendgrid.net/ls/click?upn=32r1F7qKA-2FlPf4VG4Yq9V7rIj65-2FobA5M0Y4tcQq3JTqKzMlWYDtF9q7KahnmRZk0QJ5e5I10M6q-2BkviFxa8vLoXwGmWVJ8ZJaixO-2FLaF0JIp5uAS1yeio6NuXQv61cG32iMEr-2FwpPgjwDgjsbqRJ52NL-2Ft3JMSON4YFciJy6tQkGpIr-2BNBUNHYyPVEsvpEgVO3SuiaILRpU-2FqwWRJwymn4yACcg3PqjpTVuEtB22lPJxUqUZTm7DMM1L5TioAADtwssVHPuHrpNwAsHUvHM7YXX967hkELJTdxcOHz54A4-3Dg7bc_cbLNfl9DC06I7yqAggRDStoEt6EUIhRidxfYOh1J-2BZf-2FJqL8Hq-2Fw5EcfayrRJbj6IHM-2B6QY1qXVC-2FumwUE-2BQq-2Bj45H42RYtbuhqtF-2BE-2FswlTISfNYwxrvQ5oXLY9Hwim5B9nU4ERot8RD7IaM0d0EpvcXtkFWQAwoYB2xZGCQqFOHHAV0RG86shMeNjPsBVDz5Uj4XI0p2ZmINn7az6nuy9NnHlbWSKt4Ep9ut0ooqcdAlAP5APZ0lfZs2TFDeVmFex8xHPl2uJrlf0xeQ8fsOmBX5LGcy2v57bORWPnlRszHxNo5CVnOSG4y-2BNEB5PKw-2FsAHgoBHbNudxeA1xt9Sq0Ht-2F3V9wJ2vJyKuAngllhew7XSGM2r5SvQhxypqFZor2L7gg3RHEDnRwvHuR3SXBOnuW7wrLKCWt3xmBPNUmiVv1NVG5KnDN22nBBgrTThi0-2FP-2BhKnNSLFd-2FLjZrIrEg-3D-3D\n",
      "Hyperlink: https://u11277508.ct.sendgrid.net/ls/click?upn=QHV9pJ3XucdNDzNdZffVoeIwHKqzY0EajXPLtAyATQ5hP1SUYdrYNdHL-2F7114hQmu-2F-2FzFoVr3lvQK9nCtV4DERV-2FmsixiJLFpLnuxZSeD-2FA-3DmKTx_cbLNfl9DC06I7yqAggRDStoEt6EUIhRidxfYOh1J-2BZf-2FJqL8Hq-2Fw5EcfayrRJbj6IHM-2B6QY1qXVC-2FumwUE-2BQq-2Bj45H42RYtbuhqtF-2BE-2FswlTISfNYwxrvQ5oXLY9Hwim5B9nU4ERot8RD7IaM0d0EpvcXtkFWQAwoYB2xZGCQqFOHHAV0RG86shMeNjPsBVDz5Uj4XI0p2ZmINn7az6nuy9NnHlbWSKt4Ep9ut0ooqcdAlAP5APZ0lfZs2TFDeVmFex8xHPl2uJrlf0xeQ8fsOmBX5LGcy2v57bORWPnlRszHxNo5CVnOSG4y-2BNEB5PKJl-2BqT-2BsL-2B0czZqLfZvGREAeSTs0RLuGViF2ygJNmpjiTqqsCT-2Ff20ArRynSvqxi35UP08XNrNRSQbZWRyE4SlneNMqT-2F-2Bc8Sm-2BfsDjAYIK-2FqcXRrDhNyoT70TuJF2EyyjA6js6Rt0Ay6BupoaNF-2Baw-3D-3D\n",
      "Hyperlink: https://u11277508.ct.sendgrid.net/ls/click?upn=32r1F7qKA-2FlPf4VG4Yq9V7rIj65-2FobA5M0Y4tcQq3JTqKzMlWYDtF9q7KahnmRZknYwyJrvhEIXCh5TO0LoZOMUkmgzHx5lfAk1HIGB9iXRUP7TkGsr5v2YvgiD5xo2aDsGm2KtvoohD03Ce-2FV-2Blkg-3D-3DqfyD_cbLNfl9DC06I7yqAggRDStoEt6EUIhRidxfYOh1J-2BZf-2FJqL8Hq-2Fw5EcfayrRJbj6IHM-2B6QY1qXVC-2FumwUE-2BQq-2Bj45H42RYtbuhqtF-2BE-2FswlTISfNYwxrvQ5oXLY9Hwim5B9nU4ERot8RD7IaM0d0EpvcXtkFWQAwoYB2xZGCQqFOHHAV0RG86shMeNjPsBVDz5Uj4XI0p2ZmINn7az6nuy9NnHlbWSKt4Ep9ut0ooqcdAlAP5APZ0lfZs2TFDeVmFex8xHPl2uJrlf0xeQ8fsOmBX5LGcy2v57bORWPnlRszHxNo5CVnOSG4y-2BNEB5PKiDbtgwZ5Cp19kpeCZfQcoAVqXVNhrbUrHgSLRcSJfC7NJGAxxgXRkeR2qe0Lb5NZVpoyBJBOJ7TroDAky57nQxg1D44HiO7g8h0OIGBQCPjbIwbGcbIC897NfZiA6nZNWBo1WHSjXhLm3tUjKX4GUg-3D-3D\n"
     ]
    }
   ],
   "source": [
    "# Bring in the html parts of the message. We need to use the links to get the full press release text\n",
    "import email\n",
    "from email.message import EmailMessage\n",
    "import html\n",
    "from bs4 import BeautifulSoup\n",
    "\n",
    "for msg in msgs[::-1]:\n",
    "    for response_part in msg:\n",
    "        if isinstance(response_part, tuple):\n",
    "            my_msg = email.message_from_bytes(response_part[1])\n",
    "            print(\"_________________________________________\")\n",
    "            print(\"subj:\", my_msg['subject'])\n",
    "            print(\"from:\", my_msg['from'])\n",
    "            print(\"body:\")\n",
    "\n",
    "            for part in my_msg.walk():\n",
    "                content_type = part.get_content_type()\n",
    "                print(content_type)\n",
    "\n",
    "                if content_type == 'text/plain':\n",
    "                    # For plain text parts\n",
    "                    print(part.get_payload())\n",
    "                elif content_type == 'text/html':\n",
    "                    # For HTML parts\n",
    "                    html_content = part.get_payload(decode=True).decode('utf-8')\n",
    "                    soup = BeautifulSoup(html_content, 'html.parser')\n",
    "\n",
    "                    # Extract and print all hyperlinks\n",
    "                    for link in soup.find_all('a', href=True):\n",
    "                        print(\"Hyperlink:\", link['href'])\n"
   ]
  },
  {
   "cell_type": "code",
   "execution_count": null,
   "metadata": {},
   "outputs": [],
   "source": []
  },
  {
   "cell_type": "code",
   "execution_count": 268,
   "metadata": {},
   "outputs": [],
   "source": [
    "msgs\n",
    "\n",
    "rows = len(msgs)\n",
    "cols = len(msgs[0]) if msgs else 0\n",
    "shape = (rows, cols)"
   ]
  },
  {
   "cell_type": "code",
   "execution_count": 269,
   "metadata": {},
   "outputs": [
    {
     "data": {
      "text/plain": [
       "(3, 2)"
      ]
     },
     "execution_count": 269,
     "metadata": {},
     "output_type": "execute_result"
    }
   ],
   "source": [
    "shape"
   ]
  },
  {
   "cell_type": "code",
   "execution_count": 270,
   "metadata": {},
   "outputs": [
    {
     "data": {
      "text/plain": [
       "b'Delivered-To: montgash3@gmail.com\\r\\nReceived: by 2002:a05:6f02:cacc:b0:61:e91d:81c with SMTP id t12csp672448rcg;\\r\\n        Tue, 23 Jan 2024 09:25:50 -0800 (PST)\\r\\nX-Google-Smtp-Source: AGHT+IHD/A2kZcsWJQbibzCMUP+qtouNU+WIOZM9PIxf+CQ4MO3zaqaVzOZeV5Y4ZwoODDx1V5HY\\r\\nX-Received: by 2002:ad4:5e86:0:b0:685:9ba5:4728 with SMTP id jl6-20020ad45e86000000b006859ba54728mr1766901qvb.7.1706030750103;\\r\\n        Tue, 23 Jan 2024 09:25:50 -0800 (PST)\\r\\nARC-Seal: i=1; a=rsa-sha256; t=1706030750; cv=none;\\r\\n        d=google.com; s=arc-20160816;\\r\\n        b=XCzD+WC1TPd4jIOmje4RXUGPEbDhivNVWLjNM3i2xzKhCIMyPjGBH0bscGxRtUNpij\\r\\n         TccqfZvHE7ZkzpWxgbMUIsJp7fVYHbrwGGVzP6UEm3sW08IqJxAXtiBUoOQ2iv3v3WW4\\r\\n         tKitqAd+N0PjtEPuwdoVXNDi7SEdCAeOM9CBO1Or/iaeyeWzC4RLkiQi5cdkX1AIF5b7\\r\\n         PR+4afhGzLCJAsdIsndaO0bF62s1TV4vQ+2lhEMT/+oiHEI71zRC13HVVr1e68IMx0LH\\r\\n         BSkZKrDSLzimnxTZp0coEBG810f//v+LFTQ81zNFFCHuDYq9MlashT5xwbdRdU7ayoef\\r\\n         QMAA==\\r\\nARC-Message-Signature: i=1; a=rsa-sha256; c=relaxed/relaxed; d=google.com; s=arc-20160816;\\r\\n        h=to:reply-to:subject:message-id:mime-version:from:date\\r\\n         :content-transfer-encoding:dkim-signature:dkim-signature;\\r\\n        bh=1o7kYnBYq99HXQD8rDJP6SzbbjoD5fAF4EEBixMDuFY=;\\r\\n        fh=YxEBacoHXfqvNMNi6hSERLQO6OocoGvYUQDAuxxIppk=;\\r\\n        b=FXmsxzzXsGlOO8LGLKA3mCQio8TsAfGkmUy7wZE4q04q7K0AMpFBepCg2WDyeYwe3W\\r\\n         EnLZ+dexMkxdYVNrjkAdVbxJIf0zPm9IaAftG3uUwgFe2uQ3VVJpudC1c2+Hg4Zj9j0/\\r\\n         4AgqoTZpGRvJ7d2VE2UsrQtsF3HowtiDqJ+hIQZ+As3CPXO7OsOEHiqjrMPVDYtlq/is\\r\\n         1Ifl9doKlFx6RrAFf7ECNjBUzvZVNct1McQZeNNL98YlBhHYE2CLKVWw4t9n/vVdMHcu\\r\\n         sRxnbBVfVpXVXuVxbLJrpGShzGniAZ/iOBxN3YUtPGNlkWRwdV/S2vd/d3gQobtrpshV\\r\\n         cinQ==\\r\\nARC-Authentication-Results: i=1; mx.google.com;\\r\\n       dkim=pass header.i=@cmsenergy.com header.s=zz header.b=DVmwC9z6;\\r\\n       dkim=pass header.i=@sendgrid.info header.s=smtpapi header.b=CELvboSI;\\r\\n       spf=pass (google.com: domain of bounces+11277508-8082-montgash3=gmail.com@em7445.cmsenergy.com designates 168.245.55.252 as permitted sender) smtp.mailfrom=\"bounces+11277508-8082-montgash3=gmail.com@em7445.cmsenergy.com\";\\r\\n       dmarc=pass (p=REJECT sp=REJECT dis=NONE) header.from=cmsenergy.com\\r\\nReturn-Path: <bounces+11277508-8082-montgash3=gmail.com@em7445.cmsenergy.com>\\r\\nReceived: from o16824555x252.outbound-mail.sendgrid.net (o16824555x252.outbound-mail.sendgrid.net. [168.245.55.252])\\r\\n        by mx.google.com with ESMTPS id wn17-20020a05620a585100b007835a7b7ea2si8072915qkn.360.2024.01.23.09.25.49\\r\\n        for <montgash3@gmail.com>\\r\\n        (version=TLS1_3 cipher=TLS_AES_128_GCM_SHA256 bits=128/128);\\r\\n        Tue, 23 Jan 2024 09:25:50 -0800 (PST)\\r\\nReceived-SPF: pass (google.com: domain of bounces+11277508-8082-montgash3=gmail.com@em7445.cmsenergy.com designates 168.245.55.252 as permitted sender) client-ip=168.245.55.252;\\r\\nAuthentication-Results: mx.google.com;\\r\\n       dkim=pass header.i=@cmsenergy.com header.s=zz header.b=DVmwC9z6;\\r\\n       dkim=pass header.i=@sendgrid.info header.s=smtpapi header.b=CELvboSI;\\r\\n       spf=pass (google.com: domain of bounces+11277508-8082-montgash3=gmail.com@em7445.cmsenergy.com designates 168.245.55.252 as permitted sender) smtp.mailfrom=\"bounces+11277508-8082-montgash3=gmail.com@em7445.cmsenergy.com\";\\r\\n       dmarc=pass (p=REJECT sp=REJECT dis=NONE) header.from=cmsenergy.com\\r\\nDKIM-Signature: v=1; a=rsa-sha256; c=relaxed/relaxed; d=cmsenergy.com;\\r\\n\\th=content-transfer-encoding:content-type:from:mime-version:subject:\\r\\n\\treply-to:x-feedback-id:to:cc:content-type:from:subject:to;\\r\\n\\ts=zz; bh=1o7kYnBYq99HXQD8rDJP6SzbbjoD5fAF4EEBixMDuFY=;\\r\\n\\tb=DVmwC9z6GbSkWVU+6swObOCUIjlmq3S6XUQFRHz2DB4XmgM0lP+IJ9p9M23vgx+snw6+\\r\\n\\tmBmik5oKk+KqvlZlbhdCM4au8OIO+Eh9Q/6by4BjwmY+u9tp8P1d55HY1d0RqIIrrPqv8A\\r\\n\\th25VGuK8EhPv10zFJ8UBw19rC96V1Wgvrz1ym84gyVsXVJ3LlfcPFbz0+fcGRg/d7RKp/1\\r\\n\\t+joJ8i70LiV7v2aeHSk9kVKEtWCtU5ufLetxzeXHir3HtUofvFQfZGpkRe66vixot6mJwI\\r\\n\\tJssqgoo53qMzXv84xWZMCkIw0W/qODiQ2GDTUQmNj/2LzT5hz2qi6o8l1BNyJJ0w==\\r\\nDKIM-Signature: v=1; a=rsa-sha256; c=relaxed/relaxed; d=sendgrid.info;\\r\\n\\th=content-transfer-encoding:content-type:from:mime-version:subject:\\r\\n\\treply-to:x-feedback-id:to:cc:content-type:from:subject:to;\\r\\n\\ts=smtpapi; bh=1o7kYnBYq99HXQD8rDJP6SzbbjoD5fAF4EEBixMDuFY=;\\r\\n\\tb=CELvboSICK8eaO1Stu+pSoDxQYZxV3njjF6RnUQMaGvGEM/NflQciOQfPZCf6qdjf7Rz\\r\\n\\t7TvuXo9T5GJdbFd9WuEtMDY3tqCsjWBJUUV7vSl3fHHEVi+p5a1ihAIN0qOve7uU3PIca9\\r\\n\\tR8hbNBWkwMk6ZZy2r4rNrwFnsF325VfOk=\\r\\nReceived: by filterdrecv-canary-7c48c4df88-8m24j with SMTP id filterdrecv-canary-7c48c4df88-8m24j-1-65AFF69D-22\\r\\n        2024-01-23 17:25:49.715426783 +0000 UTC m=+1051733.585209162\\r\\nReceived: from MTEyNzc1MDg (unknown)\\r\\n\\tby geopod-ismtpd-7 (SG) with HTTP\\r\\n\\tid DNo3PJ58T1uRE9D8csnnDw\\r\\n\\tTue, 23 Jan 2024 17:25:49.678 +0000 (UTC)\\r\\nContent-Transfer-Encoding: quoted-printable\\r\\nContent-Type: text/html; charset=us-ascii\\r\\nDate: Tue, 23 Jan 2024 17:25:49 +0000 (UTC)\\r\\nFrom: CMS Energy - Investor Relations <investrel@cmsenergy.com>\\r\\nMime-Version: 1.0\\r\\nMessage-ID: <DNo3PJ58T1uRE9D8csnnDw@geopod-ismtpd-7>\\r\\nSubject: CMS Energy Corporation - Consumers Energy Foundation to Award $50,000\\r\\n for Three Small Towns in Put Your Town on the Map Competition\\r\\nReply-To: investrel@cmsenergy.com\\r\\nX-Sender: no-reply@q4inc.com\\r\\nX-Feedback-ID: 11277508:SG\\r\\nX-SG-EID: \\r\\n =?us-ascii?Q?19hxCQ0+YbakdZeHfv3jRJ+lC4aMxc+Nkwv=2FSyAqKXTNMStSBKDSQ4kgRseOHr?=\\r\\n =?us-ascii?Q?i0HHmf9oeHD0qFuUcOrXBEjvCDeTNMf6jGuQsAm?=\\r\\n =?us-ascii?Q?M+XHf3kNp6QN6p0FVw6JE3=2FDQs=2Fg3+998BoVOH7?=\\r\\n =?us-ascii?Q?VRZfK65uKxtO4+79OVvczXgZA+HIMgIVW1Jq65t?=\\r\\n =?us-ascii?Q?lyrrYZiHKc9231gxSi9pwLQ6Rwekv1HTLj7g0yB?=\\r\\n =?us-ascii?Q?EgI=2FVcHhgNkw1IOAer3Xj6hFvYIU6JYwBRV6za2?=\\r\\n =?us-ascii?Q?+dv=2FM1F7r=2FnbOAxQM9Ze=2Fd1WIpKpcfIJT4d2aOh?=\\r\\n =?us-ascii?Q?h+Y=3D?=\\r\\nX-SG-ID: \\r\\n =?us-ascii?Q?N2C25iY2uzGMFz6rgvQsb8raWjw0ZPf1VmjsCkspi=2FLs3Ta+uBhopEhBDLaCGA?=\\r\\n =?us-ascii?Q?5f3HzDi86tKv2T0N+VpgWmZz+WGFyHyxCl5Lj8U?=\\r\\n =?us-ascii?Q?RRJ2i1R2L3+PLq2MDEuhl0tfhBpT0XQsLBjgOoL?=\\r\\n =?us-ascii?Q?WEX0bNiN=2FEmw0q4aFWDy661+CxARt3rQR2L=2FYjn?=\\r\\n =?us-ascii?Q?prQtpr32b23yo0ioMdgmlHB1cC0XsxmHLtFp30V?=\\r\\n =?us-ascii?Q?8IDSTG35QU1e2NAqLofgrgISI3+iJ2EkNaTenR+?=\\r\\n =?us-ascii?Q?HYWh0mUgycAc458zODqchORmcSz3JW4gndCHG4L?= =?us-ascii?Q?Wdc=3D?=\\r\\nTo: montgash3@gmail.com\\r\\nX-Entity-ID: aKUoNb+gNVOrr9hdz9ASuQ==\\r\\n\\r\\n<img alt=3D\"\" src=3D\"http://cmsenergy.com/files/design/ClientLogo.png\">\\r\\n<br>\\r\\n<hr>\\r\\n<br>\\r\\n<strong>CMS Energy Corporation&nbsp;has added a new press release to its we=\\r\\nb site. For full details please visit the&nbsp;CMS Energy Corporation web s=\\r\\nite at:</strong><br>\\r\\n<br>\\r\\n<a href=3D\"https://u11277508.ct.sendgrid.net/ls/click?upn=3D32r1F7qKA-2FlPf=\\r\\n4VG4Yq9V7rIj65-2FobA5M0Y4tcQq3JTqKzMlWYDtF9q7KahnmRZk0QJ5e5I10M6q-2BkviFxa8=\\r\\nvLoXwGmWVJ8ZJaixO-2FLaF0JIp5uAS1yeio6NuXQv61cG32iMEr-2FwpPgjwDgjsbqRJ52NL-2=\\r\\nFt3JMSON4YFciJy6tQkGpIr-2BNBUNHYyPVEsvpEgVO3SuiaILRpU-2FqwWRJwymn4yACcg3Pqj=\\r\\npTVuEtB22lPJxUqUZTm7DMM1L5TioAADtwssVHPuHrpNwAsHUvHM7YXX967hkELJTdxcOHz54A4=\\r\\n-3Dg7bc_cbLNfl9DC06I7yqAggRDStoEt6EUIhRidxfYOh1J-2BZf-2FJqL8Hq-2Fw5EcfayrRJ=\\r\\nbj6IHM-2B6QY1qXVC-2FumwUE-2BQq-2Bj45H42RYtbuhqtF-2BE-2FswlTISfNYwxrvQ5oXLY9=\\r\\nHwim5B9nU4ERot8RD7IaM0d0EpvcXtkFWQAwoYB2xZGCQqFOHHAV0RG86shMeNjPsBVDz5Uj4XI=\\r\\n0p2ZmINn7az6nuy9NnHlbWSKt4Ep9ut0ooqcdAlAP5APZ0lfZs2TFDeVmFex8xHPl2uJrlf0xeQ=\\r\\n8fsOmBX5LGcy2v57bORWPnlRszHxNo5CVnOSG4y-2BNEB5PKw-2FsAHgoBHbNudxeA1xt9Sq0Ht=\\r\\n-2F3V9wJ2vJyKuAngllhew7XSGM2r5SvQhxypqFZor2L7gg3RHEDnRwvHuR3SXBOnuW7wrLKCWt=\\r\\n3xmBPNUmiVv1NVG5KnDN22nBBgrTThi0-2FP-2BhKnNSLFd-2FLjZrIrEg-3D-3D\">Consumers=\\r\\n Energy Foundation to Award $50,000 for Three Small Towns in Put Your Town =\\r\\non the Map Competition</a><br>\\r\\n<br>\\r\\n<a href=3D\"https://u11277508.ct.sendgrid.net/ls/click?upn=3DQHV9pJ3XucdNDzN=\\r\\ndZffVoeIwHKqzY0EajXPLtAyATQ5hP1SUYdrYNdHL-2F7114hQmu-2F-2FzFoVr3lvQK9nCtV4D=\\r\\nERV-2FmsixiJLFpLnuxZSeD-2FA-3DmKTx_cbLNfl9DC06I7yqAggRDStoEt6EUIhRidxfYOh1J=\\r\\n-2BZf-2FJqL8Hq-2Fw5EcfayrRJbj6IHM-2B6QY1qXVC-2FumwUE-2BQq-2Bj45H42RYtbuhqtF=\\r\\n-2BE-2FswlTISfNYwxrvQ5oXLY9Hwim5B9nU4ERot8RD7IaM0d0EpvcXtkFWQAwoYB2xZGCQqFO=\\r\\nHHAV0RG86shMeNjPsBVDz5Uj4XI0p2ZmINn7az6nuy9NnHlbWSKt4Ep9ut0ooqcdAlAP5APZ0lf=\\r\\nZs2TFDeVmFex8xHPl2uJrlf0xeQ8fsOmBX5LGcy2v57bORWPnlRszHxNo5CVnOSG4y-2BNEB5PK=\\r\\nJl-2BqT-2BsL-2B0czZqLfZvGREAeSTs0RLuGViF2ygJNmpjiTqqsCT-2Ff20ArRynSvqxi35UP=\\r\\n08XNrNRSQbZWRyE4SlneNMqT-2F-2Bc8Sm-2BfsDjAYIK-2FqcXRrDhNyoT70TuJF2EyyjA6js6=\\r\\nRt0Ay6BupoaNF-2Baw-3D-3D\">Click Here</a> for a complete listing of CMS Ener=\\r\\ngy Corporation press releases.<br>\\r\\n<br>\\r\\n-------------------<br>\\r\\nTo unsubscribe from this list please visit the <a href=3D\"https://u11277508=\\r\\n.ct.sendgrid.net/ls/click?upn=3D32r1F7qKA-2FlPf4VG4Yq9V7rIj65-2FobA5M0Y4tcQ=\\r\\nq3JTqKzMlWYDtF9q7KahnmRZknYwyJrvhEIXCh5TO0LoZOMUkmgzHx5lfAk1HIGB9iXRUP7TkGs=\\r\\nr5v2YvgiD5xo2aDsGm2KtvoohD03Ce-2FV-2Blkg-3D-3DqfyD_cbLNfl9DC06I7yqAggRDStoE=\\r\\nt6EUIhRidxfYOh1J-2BZf-2FJqL8Hq-2Fw5EcfayrRJbj6IHM-2B6QY1qXVC-2FumwUE-2BQq-2=\\r\\nBj45H42RYtbuhqtF-2BE-2FswlTISfNYwxrvQ5oXLY9Hwim5B9nU4ERot8RD7IaM0d0EpvcXtkF=\\r\\nWQAwoYB2xZGCQqFOHHAV0RG86shMeNjPsBVDz5Uj4XI0p2ZmINn7az6nuy9NnHlbWSKt4Ep9ut0=\\r\\nooqcdAlAP5APZ0lfZs2TFDeVmFex8xHPl2uJrlf0xeQ8fsOmBX5LGcy2v57bORWPnlRszHxNo5C=\\r\\nVnOSG4y-2BNEB5PKiDbtgwZ5Cp19kpeCZfQcoAVqXVNhrbUrHgSLRcSJfC7NJGAxxgXRkeR2qe0=\\r\\nLb5NZVpoyBJBOJ7TroDAky57nQxg1D44HiO7g8h0OIGBQCPjbIwbGcbIC897NfZiA6nZNWBo1WH=\\r\\nSjXhLm3tUjKX4GUg-3D-3D\">email alert section of the CMS Energy Corporation s=\\r\\nite</a>.<img src=3D\"https://u11277508.ct.sendgrid.net/wf/open?upn=3Dbk3ZPPY=\\r\\nGkl6qwWr5zTpjC2oIJqUy2pVIVAGlh7a-2BXYkegjWcfNQuZdSNVfvJ7SNr78LpCXEnLIU22tUy=\\r\\nfQCLG7iWpeR5WaJbHb0d04UOYRfFn-2BX-2B2aRbVLbmmpbtmEGjkNoR5aCVqVvqOPDpCQkkSu2=\\r\\nZ54tzftwwY0cFdTiQUhD-2FEn-2FoLb-2Bj9vbN6qo9SnzD-2FOQJ-2Bevd-2Fn1S7sHqHLcJ-2=\\r\\nBOLRtimyGLnNGtpodpsFTxYbWaim7M1O3Tq-2BLgTzneTWxKC-2BLNZ4VlMx3tiKjZOmAxD7WxK=\\r\\nH7H2c1PWLuWJLqYxEBET29vTBmrDNIASXxFhNoNRB6hYciirVBhGJA2-2BP8Q8DKW9BTpcwIpNa=\\r\\n8UG-2FLxCb4QVKUNSsHEJf8kSp7KFVBjcceJECh-2BR3K5wxiYe3z4jERXXJznw3m-2BfFZEtf9=\\r\\n33OifFDG77leB1x5xdeYo9zVDg9dDCrWFmRiTfeu-2F00jgwiu5nNEdYPQyRFrMeeDAU-3D\" al=\\r\\nt=3D\"\" width=3D\"1\" height=3D\"1\" border=3D\"0\" style=3D\"height:1px !important=\\r\\n;width:1px !important;border-width:0 !important;margin-top:0 !important;mar=\\r\\ngin-bottom:0 !important;margin-right:0 !important;margin-left:0 !important;=\\r\\npadding-top:0 !important;padding-bottom:0 !important;padding-right:0 !impor=\\r\\ntant;padding-left:0 !important;\"/>\\r\\n'"
      ]
     },
     "execution_count": 270,
     "metadata": {},
     "output_type": "execute_result"
    }
   ],
   "source": [
    "bytes = msgs[0][0][1]\n",
    "bytes"
   ]
  },
  {
   "cell_type": "code",
   "execution_count": 271,
   "metadata": {},
   "outputs": [
    {
     "data": {
      "text/plain": [
       "b')'"
      ]
     },
     "execution_count": 271,
     "metadata": {},
     "output_type": "execute_result"
    }
   ],
   "source": [
    "unsure = msgs[0][1]\n",
    "unsure"
   ]
  },
  {
   "cell_type": "code",
   "execution_count": 272,
   "metadata": {},
   "outputs": [
    {
     "data": {
      "text/plain": [
       "b'Delivered-To: montgash3@gmail.com\\r\\nReceived: by 2002:a05:6f02:cacc:b0:61:e91d:81c with SMTP id t12csp672448rcg;\\r\\n        Tue, 23 Jan 2024 09:25:50 -0800 (PST)\\r\\nX-Google-Smtp-Source: AGHT+IHD/A2kZcsWJQbibzCMUP+qtouNU+WIOZM9PIxf+CQ4MO3zaqaVzOZeV5Y4ZwoODDx1V5HY\\r\\nX-Received: by 2002:ad4:5e86:0:b0:685:9ba5:4728 with SMTP id jl6-20020ad45e86000000b006859ba54728mr1766901qvb.7.1706030750103;\\r\\n        Tue, 23 Jan 2024 09:25:50 -0800 (PST)\\r\\nARC-Seal: i=1; a=rsa-sha256; t=1706030750; cv=none;\\r\\n        d=google.com; s=arc-20160816;\\r\\n        b=XCzD+WC1TPd4jIOmje4RXUGPEbDhivNVWLjNM3i2xzKhCIMyPjGBH0bscGxRtUNpij\\r\\n         TccqfZvHE7ZkzpWxgbMUIsJp7fVYHbrwGGVzP6UEm3sW08IqJxAXtiBUoOQ2iv3v3WW4\\r\\n         tKitqAd+N0PjtEPuwdoVXNDi7SEdCAeOM9CBO1Or/iaeyeWzC4RLkiQi5cdkX1AIF5b7\\r\\n         PR+4afhGzLCJAsdIsndaO0bF62s1TV4vQ+2lhEMT/+oiHEI71zRC13HVVr1e68IMx0LH\\r\\n         BSkZKrDSLzimnxTZp0coEBG810f//v+LFTQ81zNFFCHuDYq9MlashT5xwbdRdU7ayoef\\r\\n         QMAA==\\r\\nARC-Message-Signature: i=1; a=rsa-sha256; c=relaxed/relaxed; d=google.com; s=arc-20160816;\\r\\n        h=to:reply-to:subject:message-id:mime-version:from:date\\r\\n         :content-transfer-encoding:dkim-signature:dkim-signature;\\r\\n        bh=1o7kYnBYq99HXQD8rDJP6SzbbjoD5fAF4EEBixMDuFY=;\\r\\n        fh=YxEBacoHXfqvNMNi6hSERLQO6OocoGvYUQDAuxxIppk=;\\r\\n        b=FXmsxzzXsGlOO8LGLKA3mCQio8TsAfGkmUy7wZE4q04q7K0AMpFBepCg2WDyeYwe3W\\r\\n         EnLZ+dexMkxdYVNrjkAdVbxJIf0zPm9IaAftG3uUwgFe2uQ3VVJpudC1c2+Hg4Zj9j0/\\r\\n         4AgqoTZpGRvJ7d2VE2UsrQtsF3HowtiDqJ+hIQZ+As3CPXO7OsOEHiqjrMPVDYtlq/is\\r\\n         1Ifl9doKlFx6RrAFf7ECNjBUzvZVNct1McQZeNNL98YlBhHYE2CLKVWw4t9n/vVdMHcu\\r\\n         sRxnbBVfVpXVXuVxbLJrpGShzGniAZ/iOBxN3YUtPGNlkWRwdV/S2vd/d3gQobtrpshV\\r\\n         cinQ==\\r\\nARC-Authentication-Results: i=1; mx.google.com;\\r\\n       dkim=pass header.i=@cmsenergy.com header.s=zz header.b=DVmwC9z6;\\r\\n       dkim=pass header.i=@sendgrid.info header.s=smtpapi header.b=CELvboSI;\\r\\n       spf=pass (google.com: domain of bounces+11277508-8082-montgash3=gmail.com@em7445.cmsenergy.com designates 168.245.55.252 as permitted sender) smtp.mailfrom=\"bounces+11277508-8082-montgash3=gmail.com@em7445.cmsenergy.com\";\\r\\n       dmarc=pass (p=REJECT sp=REJECT dis=NONE) header.from=cmsenergy.com\\r\\nReturn-Path: <bounces+11277508-8082-montgash3=gmail.com@em7445.cmsenergy.com>\\r\\nReceived: from o16824555x252.outbound-mail.sendgrid.net (o16824555x252.outbound-mail.sendgrid.net. [168.245.55.252])\\r\\n        by mx.google.com with ESMTPS id wn17-20020a05620a585100b007835a7b7ea2si8072915qkn.360.2024.01.23.09.25.49\\r\\n        for <montgash3@gmail.com>\\r\\n        (version=TLS1_3 cipher=TLS_AES_128_GCM_SHA256 bits=128/128);\\r\\n        Tue, 23 Jan 2024 09:25:50 -0800 (PST)\\r\\nReceived-SPF: pass (google.com: domain of bounces+11277508-8082-montgash3=gmail.com@em7445.cmsenergy.com designates 168.245.55.252 as permitted sender) client-ip=168.245.55.252;\\r\\nAuthentication-Results: mx.google.com;\\r\\n       dkim=pass header.i=@cmsenergy.com header.s=zz header.b=DVmwC9z6;\\r\\n       dkim=pass header.i=@sendgrid.info header.s=smtpapi header.b=CELvboSI;\\r\\n       spf=pass (google.com: domain of bounces+11277508-8082-montgash3=gmail.com@em7445.cmsenergy.com designates 168.245.55.252 as permitted sender) smtp.mailfrom=\"bounces+11277508-8082-montgash3=gmail.com@em7445.cmsenergy.com\";\\r\\n       dmarc=pass (p=REJECT sp=REJECT dis=NONE) header.from=cmsenergy.com\\r\\nDKIM-Signature: v=1; a=rsa-sha256; c=relaxed/relaxed; d=cmsenergy.com;\\r\\n\\th=content-transfer-encoding:content-type:from:mime-version:subject:\\r\\n\\treply-to:x-feedback-id:to:cc:content-type:from:subject:to;\\r\\n\\ts=zz; bh=1o7kYnBYq99HXQD8rDJP6SzbbjoD5fAF4EEBixMDuFY=;\\r\\n\\tb=DVmwC9z6GbSkWVU+6swObOCUIjlmq3S6XUQFRHz2DB4XmgM0lP+IJ9p9M23vgx+snw6+\\r\\n\\tmBmik5oKk+KqvlZlbhdCM4au8OIO+Eh9Q/6by4BjwmY+u9tp8P1d55HY1d0RqIIrrPqv8A\\r\\n\\th25VGuK8EhPv10zFJ8UBw19rC96V1Wgvrz1ym84gyVsXVJ3LlfcPFbz0+fcGRg/d7RKp/1\\r\\n\\t+joJ8i70LiV7v2aeHSk9kVKEtWCtU5ufLetxzeXHir3HtUofvFQfZGpkRe66vixot6mJwI\\r\\n\\tJssqgoo53qMzXv84xWZMCkIw0W/qODiQ2GDTUQmNj/2LzT5hz2qi6o8l1BNyJJ0w==\\r\\nDKIM-Signature: v=1; a=rsa-sha256; c=relaxed/relaxed; d=sendgrid.info;\\r\\n\\th=content-transfer-encoding:content-type:from:mime-version:subject:\\r\\n\\treply-to:x-feedback-id:to:cc:content-type:from:subject:to;\\r\\n\\ts=smtpapi; bh=1o7kYnBYq99HXQD8rDJP6SzbbjoD5fAF4EEBixMDuFY=;\\r\\n\\tb=CELvboSICK8eaO1Stu+pSoDxQYZxV3njjF6RnUQMaGvGEM/NflQciOQfPZCf6qdjf7Rz\\r\\n\\t7TvuXo9T5GJdbFd9WuEtMDY3tqCsjWBJUUV7vSl3fHHEVi+p5a1ihAIN0qOve7uU3PIca9\\r\\n\\tR8hbNBWkwMk6ZZy2r4rNrwFnsF325VfOk=\\r\\nReceived: by filterdrecv-canary-7c48c4df88-8m24j with SMTP id filterdrecv-canary-7c48c4df88-8m24j-1-65AFF69D-22\\r\\n        2024-01-23 17:25:49.715426783 +0000 UTC m=+1051733.585209162\\r\\nReceived: from MTEyNzc1MDg (unknown)\\r\\n\\tby geopod-ismtpd-7 (SG) with HTTP\\r\\n\\tid DNo3PJ58T1uRE9D8csnnDw\\r\\n\\tTue, 23 Jan 2024 17:25:49.678 +0000 (UTC)\\r\\nContent-Transfer-Encoding: quoted-printable\\r\\nContent-Type: text/html; charset=us-ascii\\r\\nDate: Tue, 23 Jan 2024 17:25:49 +0000 (UTC)\\r\\nFrom: CMS Energy - Investor Relations <investrel@cmsenergy.com>\\r\\nMime-Version: 1.0\\r\\nMessage-ID: <DNo3PJ58T1uRE9D8csnnDw@geopod-ismtpd-7>\\r\\nSubject: CMS Energy Corporation - Consumers Energy Foundation to Award $50,000\\r\\n for Three Small Towns in Put Your Town on the Map Competition\\r\\nReply-To: investrel@cmsenergy.com\\r\\nX-Sender: no-reply@q4inc.com\\r\\nX-Feedback-ID: 11277508:SG\\r\\nX-SG-EID: \\r\\n =?us-ascii?Q?19hxCQ0+YbakdZeHfv3jRJ+lC4aMxc+Nkwv=2FSyAqKXTNMStSBKDSQ4kgRseOHr?=\\r\\n =?us-ascii?Q?i0HHmf9oeHD0qFuUcOrXBEjvCDeTNMf6jGuQsAm?=\\r\\n =?us-ascii?Q?M+XHf3kNp6QN6p0FVw6JE3=2FDQs=2Fg3+998BoVOH7?=\\r\\n =?us-ascii?Q?VRZfK65uKxtO4+79OVvczXgZA+HIMgIVW1Jq65t?=\\r\\n =?us-ascii?Q?lyrrYZiHKc9231gxSi9pwLQ6Rwekv1HTLj7g0yB?=\\r\\n =?us-ascii?Q?EgI=2FVcHhgNkw1IOAer3Xj6hFvYIU6JYwBRV6za2?=\\r\\n =?us-ascii?Q?+dv=2FM1F7r=2FnbOAxQM9Ze=2Fd1WIpKpcfIJT4d2aOh?=\\r\\n =?us-ascii?Q?h+Y=3D?=\\r\\nX-SG-ID: \\r\\n =?us-ascii?Q?N2C25iY2uzGMFz6rgvQsb8raWjw0ZPf1VmjsCkspi=2FLs3Ta+uBhopEhBDLaCGA?=\\r\\n =?us-ascii?Q?5f3HzDi86tKv2T0N+VpgWmZz+WGFyHyxCl5Lj8U?=\\r\\n =?us-ascii?Q?RRJ2i1R2L3+PLq2MDEuhl0tfhBpT0XQsLBjgOoL?=\\r\\n =?us-ascii?Q?WEX0bNiN=2FEmw0q4aFWDy661+CxARt3rQR2L=2FYjn?=\\r\\n =?us-ascii?Q?prQtpr32b23yo0ioMdgmlHB1cC0XsxmHLtFp30V?=\\r\\n =?us-ascii?Q?8IDSTG35QU1e2NAqLofgrgISI3+iJ2EkNaTenR+?=\\r\\n =?us-ascii?Q?HYWh0mUgycAc458zODqchORmcSz3JW4gndCHG4L?= =?us-ascii?Q?Wdc=3D?=\\r\\nTo: montgash3@gmail.com\\r\\nX-Entity-ID: aKUoNb+gNVOrr9hdz9ASuQ==\\r\\n\\r\\n<img alt=3D\"\" src=3D\"http://cmsenergy.com/files/design/ClientLogo.png\">\\r\\n<br>\\r\\n<hr>\\r\\n<br>\\r\\n<strong>CMS Energy Corporation&nbsp;has added a new press release to its we=\\r\\nb site. For full details please visit the&nbsp;CMS Energy Corporation web s=\\r\\nite at:</strong><br>\\r\\n<br>\\r\\n<a href=3D\"https://u11277508.ct.sendgrid.net/ls/click?upn=3D32r1F7qKA-2FlPf=\\r\\n4VG4Yq9V7rIj65-2FobA5M0Y4tcQq3JTqKzMlWYDtF9q7KahnmRZk0QJ5e5I10M6q-2BkviFxa8=\\r\\nvLoXwGmWVJ8ZJaixO-2FLaF0JIp5uAS1yeio6NuXQv61cG32iMEr-2FwpPgjwDgjsbqRJ52NL-2=\\r\\nFt3JMSON4YFciJy6tQkGpIr-2BNBUNHYyPVEsvpEgVO3SuiaILRpU-2FqwWRJwymn4yACcg3Pqj=\\r\\npTVuEtB22lPJxUqUZTm7DMM1L5TioAADtwssVHPuHrpNwAsHUvHM7YXX967hkELJTdxcOHz54A4=\\r\\n-3Dg7bc_cbLNfl9DC06I7yqAggRDStoEt6EUIhRidxfYOh1J-2BZf-2FJqL8Hq-2Fw5EcfayrRJ=\\r\\nbj6IHM-2B6QY1qXVC-2FumwUE-2BQq-2Bj45H42RYtbuhqtF-2BE-2FswlTISfNYwxrvQ5oXLY9=\\r\\nHwim5B9nU4ERot8RD7IaM0d0EpvcXtkFWQAwoYB2xZGCQqFOHHAV0RG86shMeNjPsBVDz5Uj4XI=\\r\\n0p2ZmINn7az6nuy9NnHlbWSKt4Ep9ut0ooqcdAlAP5APZ0lfZs2TFDeVmFex8xHPl2uJrlf0xeQ=\\r\\n8fsOmBX5LGcy2v57bORWPnlRszHxNo5CVnOSG4y-2BNEB5PKw-2FsAHgoBHbNudxeA1xt9Sq0Ht=\\r\\n-2F3V9wJ2vJyKuAngllhew7XSGM2r5SvQhxypqFZor2L7gg3RHEDnRwvHuR3SXBOnuW7wrLKCWt=\\r\\n3xmBPNUmiVv1NVG5KnDN22nBBgrTThi0-2FP-2BhKnNSLFd-2FLjZrIrEg-3D-3D\">Consumers=\\r\\n Energy Foundation to Award $50,000 for Three Small Towns in Put Your Town =\\r\\non the Map Competition</a><br>\\r\\n<br>\\r\\n<a href=3D\"https://u11277508.ct.sendgrid.net/ls/click?upn=3DQHV9pJ3XucdNDzN=\\r\\ndZffVoeIwHKqzY0EajXPLtAyATQ5hP1SUYdrYNdHL-2F7114hQmu-2F-2FzFoVr3lvQK9nCtV4D=\\r\\nERV-2FmsixiJLFpLnuxZSeD-2FA-3DmKTx_cbLNfl9DC06I7yqAggRDStoEt6EUIhRidxfYOh1J=\\r\\n-2BZf-2FJqL8Hq-2Fw5EcfayrRJbj6IHM-2B6QY1qXVC-2FumwUE-2BQq-2Bj45H42RYtbuhqtF=\\r\\n-2BE-2FswlTISfNYwxrvQ5oXLY9Hwim5B9nU4ERot8RD7IaM0d0EpvcXtkFWQAwoYB2xZGCQqFO=\\r\\nHHAV0RG86shMeNjPsBVDz5Uj4XI0p2ZmINn7az6nuy9NnHlbWSKt4Ep9ut0ooqcdAlAP5APZ0lf=\\r\\nZs2TFDeVmFex8xHPl2uJrlf0xeQ8fsOmBX5LGcy2v57bORWPnlRszHxNo5CVnOSG4y-2BNEB5PK=\\r\\nJl-2BqT-2BsL-2B0czZqLfZvGREAeSTs0RLuGViF2ygJNmpjiTqqsCT-2Ff20ArRynSvqxi35UP=\\r\\n08XNrNRSQbZWRyE4SlneNMqT-2F-2Bc8Sm-2BfsDjAYIK-2FqcXRrDhNyoT70TuJF2EyyjA6js6=\\r\\nRt0Ay6BupoaNF-2Baw-3D-3D\">Click Here</a> for a complete listing of CMS Ener=\\r\\ngy Corporation press releases.<br>\\r\\n<br>\\r\\n-------------------<br>\\r\\nTo unsubscribe from this list please visit the <a href=3D\"https://u11277508=\\r\\n.ct.sendgrid.net/ls/click?upn=3D32r1F7qKA-2FlPf4VG4Yq9V7rIj65-2FobA5M0Y4tcQ=\\r\\nq3JTqKzMlWYDtF9q7KahnmRZknYwyJrvhEIXCh5TO0LoZOMUkmgzHx5lfAk1HIGB9iXRUP7TkGs=\\r\\nr5v2YvgiD5xo2aDsGm2KtvoohD03Ce-2FV-2Blkg-3D-3DqfyD_cbLNfl9DC06I7yqAggRDStoE=\\r\\nt6EUIhRidxfYOh1J-2BZf-2FJqL8Hq-2Fw5EcfayrRJbj6IHM-2B6QY1qXVC-2FumwUE-2BQq-2=\\r\\nBj45H42RYtbuhqtF-2BE-2FswlTISfNYwxrvQ5oXLY9Hwim5B9nU4ERot8RD7IaM0d0EpvcXtkF=\\r\\nWQAwoYB2xZGCQqFOHHAV0RG86shMeNjPsBVDz5Uj4XI0p2ZmINn7az6nuy9NnHlbWSKt4Ep9ut0=\\r\\nooqcdAlAP5APZ0lfZs2TFDeVmFex8xHPl2uJrlf0xeQ8fsOmBX5LGcy2v57bORWPnlRszHxNo5C=\\r\\nVnOSG4y-2BNEB5PKiDbtgwZ5Cp19kpeCZfQcoAVqXVNhrbUrHgSLRcSJfC7NJGAxxgXRkeR2qe0=\\r\\nLb5NZVpoyBJBOJ7TroDAky57nQxg1D44HiO7g8h0OIGBQCPjbIwbGcbIC897NfZiA6nZNWBo1WH=\\r\\nSjXhLm3tUjKX4GUg-3D-3D\">email alert section of the CMS Energy Corporation s=\\r\\nite</a>.<img src=3D\"https://u11277508.ct.sendgrid.net/wf/open?upn=3Dbk3ZPPY=\\r\\nGkl6qwWr5zTpjC2oIJqUy2pVIVAGlh7a-2BXYkegjWcfNQuZdSNVfvJ7SNr78LpCXEnLIU22tUy=\\r\\nfQCLG7iWpeR5WaJbHb0d04UOYRfFn-2BX-2B2aRbVLbmmpbtmEGjkNoR5aCVqVvqOPDpCQkkSu2=\\r\\nZ54tzftwwY0cFdTiQUhD-2FEn-2FoLb-2Bj9vbN6qo9SnzD-2FOQJ-2Bevd-2Fn1S7sHqHLcJ-2=\\r\\nBOLRtimyGLnNGtpodpsFTxYbWaim7M1O3Tq-2BLgTzneTWxKC-2BLNZ4VlMx3tiKjZOmAxD7WxK=\\r\\nH7H2c1PWLuWJLqYxEBET29vTBmrDNIASXxFhNoNRB6hYciirVBhGJA2-2BP8Q8DKW9BTpcwIpNa=\\r\\n8UG-2FLxCb4QVKUNSsHEJf8kSp7KFVBjcceJECh-2BR3K5wxiYe3z4jERXXJznw3m-2BfFZEtf9=\\r\\n33OifFDG77leB1x5xdeYo9zVDg9dDCrWFmRiTfeu-2F00jgwiu5nNEdYPQyRFrMeeDAU-3D\" al=\\r\\nt=3D\"\" width=3D\"1\" height=3D\"1\" border=3D\"0\" style=3D\"height:1px !important=\\r\\n;width:1px !important;border-width:0 !important;margin-top:0 !important;mar=\\r\\ngin-bottom:0 !important;margin-right:0 !important;margin-left:0 !important;=\\r\\npadding-top:0 !important;padding-bottom:0 !important;padding-right:0 !impor=\\r\\ntant;padding-left:0 !important;\"/>\\r\\n'"
      ]
     },
     "execution_count": 272,
     "metadata": {},
     "output_type": "execute_result"
    }
   ],
   "source": [
    "# Your raw email data in bytes\n",
    "raw_email = bytes  # Replace with your raw email data\n",
    "\n",
    "raw_email"
   ]
  },
  {
   "cell_type": "code",
   "execution_count": 273,
   "metadata": {},
   "outputs": [],
   "source": [
    "# Create BytesParser\n",
    "parser = BytesParser(policy=policy.default)"
   ]
  },
  {
   "cell_type": "code",
   "execution_count": 274,
   "metadata": {},
   "outputs": [],
   "source": [
    "# Parse bytes data into email message object\n",
    "msg = parser.parsebytes(raw_email)"
   ]
  },
  {
   "cell_type": "code",
   "execution_count": 275,
   "metadata": {},
   "outputs": [
    {
     "data": {
      "text/plain": [
       "<email.message.EmailMessage at 0x10a4d0ad0>"
      ]
     },
     "execution_count": 275,
     "metadata": {},
     "output_type": "execute_result"
    }
   ],
   "source": [
    "msg"
   ]
  },
  {
   "cell_type": "code",
   "execution_count": 276,
   "metadata": {},
   "outputs": [
    {
     "name": "stdout",
     "output_type": "stream",
     "text": [
      "no\n"
     ]
    }
   ],
   "source": [
    "if msg.is_multipart():\n",
    "    print('yes')\n",
    "else:\n",
    "    print('no')"
   ]
  },
  {
   "cell_type": "code",
   "execution_count": 277,
   "metadata": {},
   "outputs": [
    {
     "data": {
      "text/plain": [
       "'<img alt=3D\"\" src=3D\"http://cmsenergy.com/files/design/ClientLogo.png\">\\r\\n<br>\\r\\n<hr>\\r\\n<br>\\r\\n<strong>CMS Energy Corporation&nbsp;has added a new press release to its we=\\r\\nb site. For full details please visit the&nbsp;CMS Energy Corporation web s=\\r\\nite at:</strong><br>\\r\\n<br>\\r\\n<a href=3D\"https://u11277508.ct.sendgrid.net/ls/click?upn=3D32r1F7qKA-2FlPf=\\r\\n4VG4Yq9V7rIj65-2FobA5M0Y4tcQq3JTqKzMlWYDtF9q7KahnmRZk0QJ5e5I10M6q-2BkviFxa8=\\r\\nvLoXwGmWVJ8ZJaixO-2FLaF0JIp5uAS1yeio6NuXQv61cG32iMEr-2FwpPgjwDgjsbqRJ52NL-2=\\r\\nFt3JMSON4YFciJy6tQkGpIr-2BNBUNHYyPVEsvpEgVO3SuiaILRpU-2FqwWRJwymn4yACcg3Pqj=\\r\\npTVuEtB22lPJxUqUZTm7DMM1L5TioAADtwssVHPuHrpNwAsHUvHM7YXX967hkELJTdxcOHz54A4=\\r\\n-3Dg7bc_cbLNfl9DC06I7yqAggRDStoEt6EUIhRidxfYOh1J-2BZf-2FJqL8Hq-2Fw5EcfayrRJ=\\r\\nbj6IHM-2B6QY1qXVC-2FumwUE-2BQq-2Bj45H42RYtbuhqtF-2BE-2FswlTISfNYwxrvQ5oXLY9=\\r\\nHwim5B9nU4ERot8RD7IaM0d0EpvcXtkFWQAwoYB2xZGCQqFOHHAV0RG86shMeNjPsBVDz5Uj4XI=\\r\\n0p2ZmINn7az6nuy9NnHlbWSKt4Ep9ut0ooqcdAlAP5APZ0lfZs2TFDeVmFex8xHPl2uJrlf0xeQ=\\r\\n8fsOmBX5LGcy2v57bORWPnlRszHxNo5CVnOSG4y-2BNEB5PKw-2FsAHgoBHbNudxeA1xt9Sq0Ht=\\r\\n-2F3V9wJ2vJyKuAngllhew7XSGM2r5SvQhxypqFZor2L7gg3RHEDnRwvHuR3SXBOnuW7wrLKCWt=\\r\\n3xmBPNUmiVv1NVG5KnDN22nBBgrTThi0-2FP-2BhKnNSLFd-2FLjZrIrEg-3D-3D\">Consumers=\\r\\n Energy Foundation to Award $50,000 for Three Small Towns in Put Your Town =\\r\\non the Map Competition</a><br>\\r\\n<br>\\r\\n<a href=3D\"https://u11277508.ct.sendgrid.net/ls/click?upn=3DQHV9pJ3XucdNDzN=\\r\\ndZffVoeIwHKqzY0EajXPLtAyATQ5hP1SUYdrYNdHL-2F7114hQmu-2F-2FzFoVr3lvQK9nCtV4D=\\r\\nERV-2FmsixiJLFpLnuxZSeD-2FA-3DmKTx_cbLNfl9DC06I7yqAggRDStoEt6EUIhRidxfYOh1J=\\r\\n-2BZf-2FJqL8Hq-2Fw5EcfayrRJbj6IHM-2B6QY1qXVC-2FumwUE-2BQq-2Bj45H42RYtbuhqtF=\\r\\n-2BE-2FswlTISfNYwxrvQ5oXLY9Hwim5B9nU4ERot8RD7IaM0d0EpvcXtkFWQAwoYB2xZGCQqFO=\\r\\nHHAV0RG86shMeNjPsBVDz5Uj4XI0p2ZmINn7az6nuy9NnHlbWSKt4Ep9ut0ooqcdAlAP5APZ0lf=\\r\\nZs2TFDeVmFex8xHPl2uJrlf0xeQ8fsOmBX5LGcy2v57bORWPnlRszHxNo5CVnOSG4y-2BNEB5PK=\\r\\nJl-2BqT-2BsL-2B0czZqLfZvGREAeSTs0RLuGViF2ygJNmpjiTqqsCT-2Ff20ArRynSvqxi35UP=\\r\\n08XNrNRSQbZWRyE4SlneNMqT-2F-2Bc8Sm-2BfsDjAYIK-2FqcXRrDhNyoT70TuJF2EyyjA6js6=\\r\\nRt0Ay6BupoaNF-2Baw-3D-3D\">Click Here</a> for a complete listing of CMS Ener=\\r\\ngy Corporation press releases.<br>\\r\\n<br>\\r\\n-------------------<br>\\r\\nTo unsubscribe from this list please visit the <a href=3D\"https://u11277508=\\r\\n.ct.sendgrid.net/ls/click?upn=3D32r1F7qKA-2FlPf4VG4Yq9V7rIj65-2FobA5M0Y4tcQ=\\r\\nq3JTqKzMlWYDtF9q7KahnmRZknYwyJrvhEIXCh5TO0LoZOMUkmgzHx5lfAk1HIGB9iXRUP7TkGs=\\r\\nr5v2YvgiD5xo2aDsGm2KtvoohD03Ce-2FV-2Blkg-3D-3DqfyD_cbLNfl9DC06I7yqAggRDStoE=\\r\\nt6EUIhRidxfYOh1J-2BZf-2FJqL8Hq-2Fw5EcfayrRJbj6IHM-2B6QY1qXVC-2FumwUE-2BQq-2=\\r\\nBj45H42RYtbuhqtF-2BE-2FswlTISfNYwxrvQ5oXLY9Hwim5B9nU4ERot8RD7IaM0d0EpvcXtkF=\\r\\nWQAwoYB2xZGCQqFOHHAV0RG86shMeNjPsBVDz5Uj4XI0p2ZmINn7az6nuy9NnHlbWSKt4Ep9ut0=\\r\\nooqcdAlAP5APZ0lfZs2TFDeVmFex8xHPl2uJrlf0xeQ8fsOmBX5LGcy2v57bORWPnlRszHxNo5C=\\r\\nVnOSG4y-2BNEB5PKiDbtgwZ5Cp19kpeCZfQcoAVqXVNhrbUrHgSLRcSJfC7NJGAxxgXRkeR2qe0=\\r\\nLb5NZVpoyBJBOJ7TroDAky57nQxg1D44HiO7g8h0OIGBQCPjbIwbGcbIC897NfZiA6nZNWBo1WH=\\r\\nSjXhLm3tUjKX4GUg-3D-3D\">email alert section of the CMS Energy Corporation s=\\r\\nite</a>.<img src=3D\"https://u11277508.ct.sendgrid.net/wf/open?upn=3Dbk3ZPPY=\\r\\nGkl6qwWr5zTpjC2oIJqUy2pVIVAGlh7a-2BXYkegjWcfNQuZdSNVfvJ7SNr78LpCXEnLIU22tUy=\\r\\nfQCLG7iWpeR5WaJbHb0d04UOYRfFn-2BX-2B2aRbVLbmmpbtmEGjkNoR5aCVqVvqOPDpCQkkSu2=\\r\\nZ54tzftwwY0cFdTiQUhD-2FEn-2FoLb-2Bj9vbN6qo9SnzD-2FOQJ-2Bevd-2Fn1S7sHqHLcJ-2=\\r\\nBOLRtimyGLnNGtpodpsFTxYbWaim7M1O3Tq-2BLgTzneTWxKC-2BLNZ4VlMx3tiKjZOmAxD7WxK=\\r\\nH7H2c1PWLuWJLqYxEBET29vTBmrDNIASXxFhNoNRB6hYciirVBhGJA2-2BP8Q8DKW9BTpcwIpNa=\\r\\n8UG-2FLxCb4QVKUNSsHEJf8kSp7KFVBjcceJECh-2BR3K5wxiYe3z4jERXXJznw3m-2BfFZEtf9=\\r\\n33OifFDG77leB1x5xdeYo9zVDg9dDCrWFmRiTfeu-2F00jgwiu5nNEdYPQyRFrMeeDAU-3D\" al=\\r\\nt=3D\"\" width=3D\"1\" height=3D\"1\" border=3D\"0\" style=3D\"height:1px !important=\\r\\n;width:1px !important;border-width:0 !important;margin-top:0 !important;mar=\\r\\ngin-bottom:0 !important;margin-right:0 !important;margin-left:0 !important;=\\r\\npadding-top:0 !important;padding-bottom:0 !important;padding-right:0 !impor=\\r\\ntant;padding-left:0 !important;\"/>\\r\\n'"
      ]
     },
     "execution_count": 277,
     "metadata": {},
     "output_type": "execute_result"
    }
   ],
   "source": [
    "# \"In a multipart e-mail, email.message.Message.get_payload() returns a list with one item for each part.\" @bnsreenu GitHub\n",
    "my_payload = email.message.Message.get_payload(msg)\n",
    "\n",
    "my_payload\n"
   ]
  },
  {
   "cell_type": "code",
   "execution_count": 278,
   "metadata": {},
   "outputs": [
    {
     "data": {
      "text/plain": [
       "'<'"
      ]
     },
     "execution_count": 278,
     "metadata": {},
     "output_type": "execute_result"
    }
   ],
   "source": [
    "my_payload[0]"
   ]
  },
  {
   "cell_type": "code",
   "execution_count": 279,
   "metadata": {},
   "outputs": [
    {
     "ename": "TypeError",
     "evalue": "argument of type 'NoneType' is not iterable",
     "output_type": "error",
     "traceback": [
      "\u001b[0;31m---------------------------------------------------------------------------\u001b[0m",
      "\u001b[0;31mTypeError\u001b[0m                                 Traceback (most recent call last)",
      "Cell \u001b[0;32mIn[279], line 10\u001b[0m\n\u001b[1;32m      7\u001b[0m \u001b[38;5;28;01mif\u001b[39;00m content_type \u001b[38;5;241m==\u001b[39m \u001b[38;5;124m\"\u001b[39m\u001b[38;5;124mtext/plain\u001b[39m\u001b[38;5;124m\"\u001b[39m \u001b[38;5;129;01mand\u001b[39;00m \u001b[38;5;124m\"\u001b[39m\u001b[38;5;124mattachment\u001b[39m\u001b[38;5;124m\"\u001b[39m \u001b[38;5;129;01mnot\u001b[39;00m \u001b[38;5;129;01min\u001b[39;00m content_disposition:\n\u001b[1;32m      8\u001b[0m     \u001b[38;5;66;03m# This is the text/plain part of the email\u001b[39;00m\n\u001b[1;32m      9\u001b[0m     \u001b[38;5;28mprint\u001b[39m(\u001b[38;5;124m\"\u001b[39m\u001b[38;5;124mText Part:\u001b[39m\u001b[38;5;124m\"\u001b[39m, part\u001b[38;5;241m.\u001b[39mget_payload(decode\u001b[38;5;241m=\u001b[39m\u001b[38;5;28;01mTrue\u001b[39;00m)\u001b[38;5;241m.\u001b[39mdecode(\u001b[38;5;124m'\u001b[39m\u001b[38;5;124mutf-8\u001b[39m\u001b[38;5;124m'\u001b[39m))\n\u001b[0;32m---> 10\u001b[0m \u001b[38;5;28;01melif\u001b[39;00m content_type \u001b[38;5;241m==\u001b[39m \u001b[38;5;124m\"\u001b[39m\u001b[38;5;124mtext/html\u001b[39m\u001b[38;5;124m\"\u001b[39m \u001b[38;5;129;01mand\u001b[39;00m \u001b[38;5;124m\"\u001b[39m\u001b[38;5;124mattachment\u001b[39m\u001b[38;5;124m\"\u001b[39m \u001b[38;5;129;01mnot\u001b[39;00m \u001b[38;5;129;01min\u001b[39;00m content_disposition:\n\u001b[1;32m     11\u001b[0m     \u001b[38;5;66;03m# This is the text/html part of the email\u001b[39;00m\n\u001b[1;32m     12\u001b[0m     \u001b[38;5;28mprint\u001b[39m(\u001b[38;5;124m\"\u001b[39m\u001b[38;5;124mHTML Part:\u001b[39m\u001b[38;5;124m\"\u001b[39m, part\u001b[38;5;241m.\u001b[39mget_payload(decode\u001b[38;5;241m=\u001b[39m\u001b[38;5;28;01mTrue\u001b[39;00m)\u001b[38;5;241m.\u001b[39mdecode(\u001b[38;5;124m'\u001b[39m\u001b[38;5;124mutf-8\u001b[39m\u001b[38;5;124m'\u001b[39m))\n\u001b[1;32m     13\u001b[0m \u001b[38;5;28;01melif\u001b[39;00m \u001b[38;5;124m\"\u001b[39m\u001b[38;5;124mattachment\u001b[39m\u001b[38;5;124m\"\u001b[39m \u001b[38;5;129;01min\u001b[39;00m content_disposition:\n\u001b[1;32m     14\u001b[0m     \u001b[38;5;66;03m# This is an attachment\u001b[39;00m\n",
      "\u001b[0;31mTypeError\u001b[0m: argument of type 'NoneType' is not iterable"
     ]
    }
   ],
   "source": [
    "# Iterate over each part\n",
    "for part in msg.walk():\n",
    "    # Get the content type\n",
    "    content_type = part.get_content_type()\n",
    "    content_disposition = part.get(\"Content-Disposition\")\n",
    "\n",
    "    if content_type == \"text/plain\" and \"attachment\" not in content_disposition:\n",
    "        # This is the text/plain part of the email\n",
    "        print(\"Text Part:\", part.get_payload(decode=True).decode('utf-8'))\n",
    "    elif content_type == \"text/html\" and \"attachment\" not in content_disposition:\n",
    "        # This is the text/html part of the email\n",
    "        print(\"HTML Part:\", part.get_payload(decode=True).decode('utf-8'))\n",
    "    elif \"attachment\" in content_disposition:\n",
    "        # This is an attachment\n",
    "        filename = part.get_filename()\n",
    "        print(\"Attachment:\", filename)\n",
    "        # You can save or process the attachment as needed"
   ]
  },
  {
   "cell_type": "code",
   "execution_count": null,
   "metadata": {},
   "outputs": [],
   "source": []
  },
  {
   "cell_type": "code",
   "execution_count": null,
   "metadata": {},
   "outputs": [],
   "source": []
  },
  {
   "cell_type": "code",
   "execution_count": null,
   "metadata": {},
   "outputs": [],
   "source": []
  },
  {
   "cell_type": "code",
   "execution_count": null,
   "metadata": {},
   "outputs": [],
   "source": [
    "to_address = msg['To']\n",
    "from_address = msg['From']\n",
    "subject = msg['Subject']"
   ]
  },
  {
   "cell_type": "code",
   "execution_count": null,
   "metadata": {},
   "outputs": [],
   "source": [
    "# Decode bytes to string\n",
    "email_str = raw_email.decode('utf-8')"
   ]
  },
  {
   "cell_type": "code",
   "execution_count": null,
   "metadata": {},
   "outputs": [
    {
     "data": {
      "text/plain": [
       "'Delivered-To: montgash3@gmail.com\\r\\nReceived: by 2002:a05:6f02:8433:b0:61:e91d:81c with SMTP id v51csp1816287rce;\\r\\n        Tue, 30 Jan 2024 08:19:49 -0800 (PST)\\r\\nX-Received: by 2002:a05:6870:512:b0:218:4f30:a32f with SMTP id j18-20020a056870051200b002184f30a32fmr8979064oao.26.1706631589168;\\r\\n        Tue, 30 Jan 2024 08:19:49 -0800 (PST)\\r\\nARC-Seal: i=1; a=rsa-sha256; t=1706631589; cv=none;\\r\\n        d=google.com; s=arc-20160816;\\r\\n        b=Fz1ybHPm35sA31PBTW+/QeV00U3rsSNiRqHoGXhsCTg+wTb3a9sKJ5hC4XPzrO/84k\\r\\n         2RViLs9pzokAGjJDjiSiwqW+WdOuKJ8ihGfSImWa4o2iXGwtk7XwB1hl7Awln78SYKRH\\r\\n         U+rH2mshaQgN1jRCsQuhHHRyEvPMPTK7CnHCmxcHrcnarPJi5RD50RPgQw8ZeIGINtkK\\r\\n         C8hFk+UKTzJtqnUB4dmDKjaYxwyDM7w2VlQRZJhsn4qJGY33/8N051l/Gd0ZK3ablzTV\\r\\n         P5qGM4zmDI/3lKrZxHDWXBieH0b/H4clXSfxoSNkmCJLi000RLU81b3EC8mne59Ir1Dv\\r\\n         8hng==\\r\\nARC-Message-Signature: i=1; a=rsa-sha256; c=relaxed/relaxed; d=google.com; s=arc-20160816;\\r\\n        h=to:from:subject:message-id:feedback-id:date:mime-version\\r\\n         :dkim-signature;\\r\\n        bh=Qt7txeKVxRGtaJu7ML460iw63wEGayuQdW0RLE2yEws=;\\r\\n        fh=YxEBacoHXfqvNMNi6hSERLQO6OocoGvYUQDAuxxIppk=;\\r\\n        b=yBu7Ml1vkRqNmdjn9q/lUYb+Z/ub5u7NhL0H9qKA2wQVAeQ1Y+XwHnh/RGz8x/NA4P\\r\\n         6V7FVeuR0FZlSxcJQtcZEKXYrNS3eH1pBi38iOxG7og+1JRU6g1F0zXGmdm/vnA4bbdZ\\r\\n         cwM6oHXmZb66ywhG28uHUFRVoVBQIvVvTAcHDBrQNR8JomMKRbDnncHZwkikS2v27IPL\\r\\n         SwavkUdMUUSvquBASPk8ywqkozVal6ard3+s7lx/zIF9rJLw344enleRW5FzBJab0pze\\r\\n         EdTPKQwyK7B91bHmu7DBrP+SqlDQoEvxOgDgt9ng/azmAGsv7M+GtawZpt5lr5SK1joj\\r\\n         dqPw==\\r\\nARC-Authentication-Results: i=1; mx.google.com;\\r\\n       dkim=pass header.i=@accounts.google.com header.s=20230601 header.b=VELqI7Vf;\\r\\n       spf=pass (google.com: domain of 3pcg5zqgtcqeop-sfqmzbddpvout.hpphmf.dpnnpouhbti4hnbjm.dpn@gaia.bounces.google.com designates 209.85.220.73 as permitted sender) smtp.mailfrom=3pCG5ZQgTCQEop-sfqmzbddpvout.hpphmf.dpnnpouhbti4hnbjm.dpn@gaia.bounces.google.com;\\r\\n       dmarc=pass (p=REJECT sp=REJECT dis=NONE) header.from=accounts.google.com\\r\\nReturn-Path: <3pCG5ZQgTCQEop-sfqmzbddpvout.hpphmf.dpnnpouhbti4hnbjm.dpn@gaia.bounces.google.com>\\r\\nReceived: from mail-sor-f73.google.com (mail-sor-f73.google.com. [209.85.220.73])\\r\\n        by mx.google.com with SMTPS id dt27-20020a0568705a9b00b00210e5edfef2sor3673682oab.5.2024.01.30.08.19.49\\r\\n        for <montgash3@gmail.com>\\r\\n        (Google Transport Security);\\r\\n        Tue, 30 Jan 2024 08:19:49 -0800 (PST)\\r\\nReceived-SPF: pass (google.com: domain of 3pcg5zqgtcqeop-sfqmzbddpvout.hpphmf.dpnnpouhbti4hnbjm.dpn@gaia.bounces.google.com designates 209.85.220.73 as permitted sender) client-ip=209.85.220.73;\\r\\nAuthentication-Results: mx.google.com;\\r\\n       dkim=pass header.i=@accounts.google.com header.s=20230601 header.b=VELqI7Vf;\\r\\n       spf=pass (google.com: domain of 3pcg5zqgtcqeop-sfqmzbddpvout.hpphmf.dpnnpouhbti4hnbjm.dpn@gaia.bounces.google.com designates 209.85.220.73 as permitted sender) smtp.mailfrom=3pCG5ZQgTCQEop-sfqmzbddpvout.hpphmf.dpnnpouhbti4hnbjm.dpn@gaia.bounces.google.com;\\r\\n       dmarc=pass (p=REJECT sp=REJECT dis=NONE) header.from=accounts.google.com\\r\\nDKIM-Signature: v=1; a=rsa-sha256; c=relaxed/relaxed;\\r\\n        d=accounts.google.com; s=20230601; t=1706631589; x=1707236389; dara=google.com;\\r\\n        h=to:from:subject:message-id:feedback-id:date:mime-version:from:to:cc\\r\\n         :subject:date:message-id:reply-to;\\r\\n        bh=Qt7txeKVxRGtaJu7ML460iw63wEGayuQdW0RLE2yEws=;\\r\\n        b=VELqI7VfPIDnfWgmEchfRjIVijcc4YzpuZ1fKOKUIwQW3sRp9jdsiPACga8WLkXCle\\r\\n         I5zjM8y4Dz4wp2qqYGC4zgSnb9pxNE6lcwg7QHqtW8kcHbmnAc1qOfRzwlkTBEeHEvaF\\r\\n         z0HdDlYkkP6tI62OSJdaPNzAIs6Arni5Odebntcn4tQcAAta0HG8o7vUvOn0R6Clhda6\\r\\n         10bFnUcuzf20WDOWPQdh8C6JBUT3wefC0jm4TeuVl0/r4Oq5yR2rDAU8XuPGUYIuF2Sk\\r\\n         Ty+skHDGO5X3oCHLu7L8pzf7pdotos7gQG01OOXy9QiHzgjvU23saVYtG9FY6ggZEaq5\\r\\n         1tmg==\\r\\nX-Google-DKIM-Signature: v=1; a=rsa-sha256; c=relaxed/relaxed;\\r\\n        d=1e100.net; s=20230601; t=1706631589; x=1707236389;\\r\\n        h=to:from:subject:message-id:feedback-id:date:mime-version\\r\\n         :x-gm-message-state:from:to:cc:subject:date:message-id:reply-to;\\r\\n        bh=Qt7txeKVxRGtaJu7ML460iw63wEGayuQdW0RLE2yEws=;\\r\\n        b=EOa4UuDuFRKeKq7FVxq6uStobMGi5idxyF2wJ0b1Brd5FvbLcX1au8XCyFPiH74sol\\r\\n         1rigLcgp4jNhYTpRN1vZaMCOGpQb8i6zMJ4eXiqELAl/Zjl6AeCcAhaeUxrFBqffviHu\\r\\n         iFThoSFlbuSO3g+5ICiYMhRvlMvXETHLI6qD840y0ePxKmQPcwFt1OHliG+LRQBtuN72\\r\\n         1Dpdlevxxmwo9b0wVNuSFqdSRQlS8TyCVsDr79LOnpXWrSpkdC+uozvVDQOZ1lprFfGw\\r\\n         fV07AL9gMAaC6ABwUM85Xa3OxoPhp9dp+ihWLpsTPlspdElwNzilHAkKRKWkDvUXZo7F\\r\\n         FTyg==\\r\\nX-Gm-Message-State: AOJu0YxigfH65RiPa0eF8nT83QcgdWFqdT3Q6xFx6QIsfokqrMigmD8K\\r\\n\\tfcSTOhRzMZvnAm5XS+I9i4kN8NWV059aBfqOpoUOgv1BNtS//Y7pys+hT9zEaBc++K6M6EfDO1v\\r\\n\\tMIc34sZkDbEZNo/EdRMuQy0guGinM2bBE2eI+wQ==\\r\\nX-Google-Smtp-Source: AGHT+IEFYCLPg9cdUZlPLpzBe12XLZPnQxSVMXzbkDp+IDA0aRFw45U9UdClPlt27dtZZ55CqpwZno/eaTgulzXmeV8BHg==\\r\\nMIME-Version: 1.0\\r\\nX-Received: by 2002:a05:6870:a18f:b0:218:3f78:a279 with SMTP id\\r\\n a15-20020a056870a18f00b002183f78a279mr9460923oaf.45.1706631588905; Tue, 30\\r\\n Jan 2024 08:19:48 -0800 (PST)\\r\\nDate: Tue, 30 Jan 2024 16:19:48 GMT\\r\\nX-Account-Notification-Type: 325\\r\\nFeedback-ID: 325:account-notifier\\r\\nX-Notifications: aebce351bd4c0000\\r\\nX-Notifications-Bounce-Info: AaJ7rEqQ8JXYofIhIoaBowc58HZiKvh4DZnIljd87C6nflhWPrnYWbBGOJCBVD_4yzPa19FYI_UKc9DPqWczi3Z-qr2HHTs27U1XstIpRBJsr9Y_e4knWY2olAWHlMGV0OZe09h_bTF4d0fWtrMqvc81q93jGZN_A9bQswdbgpdtu9wEz-jauGpAEflTR8a1J6bX2NxiX4-9iQNjAwNjA0MDQxNTM1NTk2OTMzMg\\r\\nMessage-ID: <80ELC1fJD5YK21VgGljKIw@notifications.google.com>\\r\\nSubject: Security alert\\r\\nFrom: Google <no-reply@accounts.google.com>\\r\\nTo: montgash3@gmail.com\\r\\nContent-Type: multipart/alternative; boundary=\"0000000000009e832106102c217e\"\\r\\n\\r\\n--0000000000009e832106102c217e\\r\\nContent-Type: text/plain; charset=\"UTF-8\"; format=flowed; delsp=yes\\r\\nContent-Transfer-Encoding: base64\\r\\n\\r\\nW2ltYWdlOiBHb29nbGVdDQpBIG5ldyBzaWduLWluIG9uIE1hYw0KDQoNCm1vbnRnYXNoM0BnbWFp\\r\\nbC5jb20NCldlIG5vdGljZWQgYSBuZXcgc2lnbi1pbiB0byB5b3VyIEdvb2dsZSBBY2NvdW50IG9u\\r\\nIGEgTWFjIGRldmljZS4gSWYgdGhpcw0Kd2FzIHlvdSwgeW91IGRvbuKAmXQgbmVlZCB0byBkbyBh\\r\\nbnl0aGluZy4gSWYgbm90LCB3ZeKAmWxsIGhlbHAgeW91IHNlY3VyZSB5b3VyDQphY2NvdW50Lg0K\\r\\nQ2hlY2sgYWN0aXZpdHkNCjxodHRwczovL2FjY291bnRzLmdvb2dsZS5jb20vQWNjb3VudENob29z\\r\\nZXI/RW1haWw9bW9udGdhc2gzQGdtYWlsLmNvbSZjb250aW51ZT1odHRwczovL215YWNjb3VudC5n\\r\\nb29nbGUuY29tL2FsZXJ0L250LzE3MDY2MzE1ODgwMDA/cmZuJTNEMzI1JTI2cmZuYyUzRDElMjZl\\r\\naWQlM0Q0MjYxNjc3MDU1MTI3ODMyNTI3JTI2ZXQlM0QwPg0KWW91IGNhbiBhbHNvIHNlZSBzZWN1\\r\\ncml0eSBhY3Rpdml0eSBhdA0KaHR0cHM6Ly9teWFjY291bnQuZ29vZ2xlLmNvbS9ub3RpZmljYXRp\\r\\nb25zDQpZb3UgcmVjZWl2ZWQgdGhpcyBlbWFpbCB0byBsZXQgeW91IGtub3cgYWJvdXQgaW1wb3J0\\r\\nYW50IGNoYW5nZXMgdG8geW91cg0KR29vZ2xlIEFjY291bnQgYW5kIHNlcnZpY2VzLg0KwqkgMjAy\\r\\nNCBHb29nbGUgTExDLCAxNjAwIEFtcGhpdGhlYXRyZSBQYXJrd2F5LCBNb3VudGFpbiBWaWV3LCBD\\r\\nQSA5NDA0MywgVVNBDQo=\\r\\n--0000000000009e832106102c217e\\r\\nContent-Type: text/html; charset=\"UTF-8\"\\r\\nContent-Transfer-Encoding: quoted-printable\\r\\n\\r\\n<!DOCTYPE html><html lang=3D\"en\"><head><meta name=3D\"format-detection\" cont=\\r\\nent=3D\"email=3Dno\"/><meta name=3D\"format-detection\" content=3D\"date=3Dno\"/>=\\r\\n<style nonce=3D\"E8dN_fSYH2fVT7g6r_08hQ\">.awl a {color: #FFFFFF; text-decora=\\r\\ntion: none;} .abml a {color: #000000; font-family: Roboto-Medium,Helvetica,=\\r\\nArial,sans-serif; font-weight: bold; text-decoration: none;} .adgl a {color=\\r\\n: rgba(0, 0, 0, 0.87); text-decoration: none;} .afal a {color: #b0b0b0; tex=\\r\\nt-decoration: none;} @media screen and (min-width: 600px) {.v2sp {padding: =\\r\\n6px 30px 0px;} .v2rsp {padding: 0px 10px;}} @media screen and (min-width: 6=\\r\\n00px) {.mdv2rw {padding: 40px 40px;}} </style><link href=3D\"//fonts.googlea=\\r\\npis.com/css?family=3DGoogle+Sans\" rel=3D\"stylesheet\" type=3D\"text/css\" nonc=\\r\\ne=3D\"E8dN_fSYH2fVT7g6r_08hQ\"/></head><body style=3D\"margin: 0; padding: 0;\"=\\r\\n bgcolor=3D\"#FFFFFF\"><table width=3D\"100%\" height=3D\"100%\" style=3D\"min-wid=\\r\\nth: 348px;\" border=3D\"0\" cellspacing=3D\"0\" cellpadding=3D\"0\" lang=3D\"en\"><t=\\r\\nr height=3D\"32\" style=3D\"height: 32px;\"><td></td></tr><tr align=3D\"center\">=\\r\\n<td><div itemscope itemtype=3D\"//schema.org/EmailMessage\"><div itemprop=3D\"=\\r\\naction\" itemscope itemtype=3D\"//schema.org/ViewAction\"><link itemprop=3D\"ur=\\r\\nl\" href=3D\"https://accounts.google.com/AccountChooser?Email=3Dmontgash3@gma=\\r\\nil.com&amp;continue=3Dhttps://myaccount.google.com/alert/nt/1706631588000?r=\\r\\nfn%3D325%26rfnc%3D1%26eid%3D4261677055127832527%26et%3D0\"/><meta itemprop=\\r\\n=3D\"name\" content=3D\"Review Activity\"/></div></div><table border=3D\"0\" cell=\\r\\nspacing=3D\"0\" cellpadding=3D\"0\" style=3D\"padding-bottom: 20px; max-width: 5=\\r\\n16px; min-width: 220px;\"><tr><td width=3D\"8\" style=3D\"width: 8px;\"></td><td=\\r\\n><div style=3D\"border-style: solid; border-width: thin; border-color:#dadce=\\r\\n0; border-radius: 8px; padding: 40px 20px;\" align=3D\"center\" class=3D\"mdv2r=\\r\\nw\"><img src=3D\"https://www.gstatic.com/images/branding/googlelogo/2x/google=\\r\\nlogo_color_74x24dp.png\" width=3D\"74\" height=3D\"24\" aria-hidden=3D\"true\" sty=\\r\\nle=3D\"margin-bottom: 16px;\" alt=3D\"Google\"><div style=3D\"font-family: &#39;=\\r\\nGoogle Sans&#39;,Roboto,RobotoDraft,Helvetica,Arial,sans-serif;border-botto=\\r\\nm: thin solid #dadce0; color: rgba(0,0,0,0.87); line-height: 32px; padding-=\\r\\nbottom: 24px;text-align: center; word-break: break-word;\"><div style=3D\"fon=\\r\\nt-size: 24px;\">A new sign-in on Mac </div><table align=3D\"center\" style=3D\"=\\r\\nmargin-top:8px;\"><tr style=3D\"line-height: normal;\"><td align=3D\"right\" sty=\\r\\nle=3D\"padding-right:8px;\"><img width=3D\"20\" height=3D\"20\" style=3D\"width: 2=\\r\\n0px; height: 20px; vertical-align: sub; border-radius: 50%;;\" src=3D\"https:=\\r\\n//lh3.googleusercontent.com/a/ACg8ocLggRidindjF8bbiA6jp8TYxLE3PO2IA22Ja6lnW=\\r\\nS5g=3Ds96-c\" alt=3D\"\"></td><td><a style=3D\"font-family: &#39;Google Sans&#3=\\r\\n9;,Roboto,RobotoDraft,Helvetica,Arial,sans-serif;color: rgba(0,0,0,0.87); f=\\r\\nont-size: 14px; line-height: 20px;\">montgash3@gmail.com</a></td></tr></tabl=\\r\\ne> </div><div style=3D\"font-family: Roboto-Regular,Helvetica,Arial,sans-ser=\\r\\nif; font-size: 14px; color: rgba(0,0,0,0.87); line-height: 20px;padding-top=\\r\\n: 20px; text-align: center;\">We noticed a new sign-in to your Google Accoun=\\r\\nt on a Mac device. If this was you, you don=E2=80=99t need to do anything. =\\r\\nIf not, we=E2=80=99ll help you secure your account.<div style=3D\"padding-to=\\r\\np: 32px; text-align: center;\"><a href=3D\"https://accounts.google.com/Accoun=\\r\\ntChooser?Email=3Dmontgash3@gmail.com&amp;continue=3Dhttps://myaccount.googl=\\r\\ne.com/alert/nt/1706631588000?rfn%3D325%26rfnc%3D1%26eid%3D42616770551278325=\\r\\n27%26et%3D0\" target=3D\"_blank\" link-id=3D\"main-button-link\" style=3D\"font-f=\\r\\namily: &#39;Google Sans&#39;,Roboto,RobotoDraft,Helvetica,Arial,sans-serif;=\\r\\n line-height: 16px; color: #ffffff; font-weight: 400; text-decoration: none=\\r\\n;font-size: 14px;display:inline-block;padding: 10px 24px;background-color: =\\r\\n#4184F3; border-radius: 5px; min-width: 90px;\">Check activity</a></div></di=\\r\\nv><div style=3D\"padding-top: 20px; font-size: 12px; line-height: 16px; colo=\\r\\nr: #5f6368; letter-spacing: 0.3px; text-align: center\">You can also see sec=\\r\\nurity activity at<br><a style=3D\"color: rgba(0, 0, 0, 0.87);text-decoration=\\r\\n: inherit;\">https://myaccount.google.com/notifications</a></div></div><div =\\r\\nstyle=3D\"text-align: left;\"><div style=3D\"font-family: Roboto-Regular,Helve=\\r\\ntica,Arial,sans-serif;color: rgba(0,0,0,0.54); font-size: 11px; line-height=\\r\\n: 18px; padding-top: 12px; text-align: center;\"><div>You received this emai=\\r\\nl to let you know about important changes to your Google Account and servic=\\r\\nes.</div><div style=3D\"direction: ltr;\">&copy; 2024 Google LLC, <a class=3D=\\r\\n\"afal\" style=3D\"font-family: Roboto-Regular,Helvetica,Arial,sans-serif;colo=\\r\\nr: rgba(0,0,0,0.54); font-size: 11px; line-height: 18px; padding-top: 12px;=\\r\\n text-align: center;\">1600 Amphitheatre Parkway, Mountain View, CA 94043, U=\\r\\nSA</a></div></div></div></td><td width=3D\"8\" style=3D\"width: 8px;\"></td></t=\\r\\nr></table></td></tr><tr height=3D\"32\" style=3D\"height: 32px;\"><td></td></tr=\\r\\n></table></body></html>\\r\\n--0000000000009e832106102c217e--\\r\\n'"
      ]
     },
     "execution_count": 115,
     "metadata": {},
     "output_type": "execute_result"
    }
   ],
   "source": [
    "email_str "
   ]
  },
  {
   "cell_type": "code",
   "execution_count": null,
   "metadata": {},
   "outputs": [
    {
     "ename": "AttributeError",
     "evalue": "'BytesParser' object has no attribute 'parsestr'",
     "output_type": "error",
     "traceback": [
      "\u001b[0;31m---------------------------------------------------------------------------\u001b[0m",
      "\u001b[0;31mAttributeError\u001b[0m                            Traceback (most recent call last)",
      "Cell \u001b[0;32mIn[114], line 5\u001b[0m\n\u001b[1;32m      2\u001b[0m parser \u001b[38;5;241m=\u001b[39m BytesParser(policy\u001b[38;5;241m=\u001b[39mpolicy\u001b[38;5;241m.\u001b[39mdefault)\n\u001b[1;32m      3\u001b[0m \u001b[38;5;66;03m# msg = parser.parsestr(email_str)\u001b[39;00m\n\u001b[0;32m----> 5\u001b[0m msg \u001b[38;5;241m=\u001b[39m parser\u001b[38;5;241m.\u001b[39mparsestr(email_str, headersonly\u001b[38;5;241m=\u001b[39m\u001b[38;5;28;01mFalse\u001b[39;00m)\n",
      "\u001b[0;31mAttributeError\u001b[0m: 'BytesParser' object has no attribute 'parsestr'"
     ]
    }
   ],
   "source": [
    "# Parse the string into an email message object\n",
    "parser = BytesParser(policy=policy.default)\n",
    "# msg = parser.parsestr(email_str)\n",
    "\n",
    "msg = parser.parsestr(email_str, headersonly=False)\n"
   ]
  },
  {
   "cell_type": "code",
   "execution_count": null,
   "metadata": {},
   "outputs": [],
   "source": []
  },
  {
   "cell_type": "code",
   "execution_count": null,
   "metadata": {},
   "outputs": [],
   "source": [
    "\n",
    "# Parse the string into an email message object\n",
    "parser = BytesParser(policy=policy.default)\n",
    "msg = parser.parsestr(email_str)\n",
    "\n",
    "# Extracting headers\n",
    "to_address = msg['To']\n",
    "from_address = msg['From']\n",
    "subject = msg['Subject']\n",
    "\n",
    "# Extracting body\n",
    "# This assumes the email has a text/plain part\n",
    "if msg.is_multipart():\n",
    "    for part in msg.walk():\n",
    "        if part.get_content_type() == \"text/plain\":\n",
    "            body = part.get_payload(decode=True).decode('utf-8')\n",
    "            break\n",
    "else:\n",
    "    body = msg.get_payload(decode=True).decode('utf-8')\n",
    "\n",
    "# Printing extracted information\n",
    "print(\"To:\", to_address)\n",
    "print(\"From:\", from_address)\n",
    "print(\"Subject:\", subject)\n",
    "print(\"Body:\", body)"
   ]
  },
  {
   "cell_type": "code",
   "execution_count": null,
   "metadata": {},
   "outputs": [],
   "source": []
  },
  {
   "cell_type": "code",
   "execution_count": null,
   "metadata": {},
   "outputs": [],
   "source": []
  },
  {
   "cell_type": "markdown",
   "metadata": {},
   "source": [
    "#### Now we need to get only the text."
   ]
  },
  {
   "cell_type": "code",
   "execution_count": null,
   "metadata": {},
   "outputs": [
    {
     "name": "stdout",
     "output_type": "stream",
     "text": [
      "____________\n",
      "subj: Security alert\n",
      "from: Google <no-reply@accounts.google.com>\n",
      "body:\n",
      "W2ltYWdlOiBHb29nbGVdDQptYWNPUyB3YXMgZ3JhbnRlZCBhY2Nlc3MgdG8geW91ciBHb29nbGUg\n",
      "QWNjb3VudA0KDQoNCm1vbnRnYXNoM0BnbWFpbC5jb20NCg0KSWYgeW91IGRpZCBub3QgZ3JhbnQg\n",
      "YWNjZXNzLCB5b3Ugc2hvdWxkIGNoZWNrIHRoaXMgYWN0aXZpdHkgYW5kIHNlY3VyZSB5b3VyDQph\n",
      "Y2NvdW50Lg0KQ2hlY2sgYWN0aXZpdHkNCjxodHRwczovL2FjY291bnRzLmdvb2dsZS5jb20vQWNj\n",
      "b3VudENob29zZXI/RW1haWw9bW9udGdhc2gzQGdtYWlsLmNvbSZjb250aW51ZT1odHRwczovL215\n",
      "YWNjb3VudC5nb29nbGUuY29tL2FsZXJ0L250LzE3MDY2MzQwNjAwMDA/cmZuJTNEMTI3JTI2cmZu\n",
      "YyUzRDElMjZlaWQlM0QtOTQxOTEzMTY4MTcwOTMwNjU5JTI2ZXQlM0QwPg0KWW91IGNhbiBhbHNv\n",
      "IHNlZSBzZWN1cml0eSBhY3Rpdml0eSBhdA0KaHR0cHM6Ly9teWFjY291bnQuZ29vZ2xlLmNvbS9u\n",
      "b3RpZmljYXRpb25zDQpZb3UgcmVjZWl2ZWQgdGhpcyBlbWFpbCB0byBsZXQgeW91IGtub3cgYWJv\n",
      "dXQgaW1wb3J0YW50IGNoYW5nZXMgdG8geW91cg0KR29vZ2xlIEFjY291bnQgYW5kIHNlcnZpY2Vz\n",
      "Lg0KwqkgMjAyNCBHb29nbGUgTExDLCAxNjAwIEFtcGhpdGhlYXRyZSBQYXJrd2F5LCBNb3VudGFp\n",
      "biBWaWV3LCBDQSA5NDA0MywgVVNBDQo=\n",
      "____________\n",
      "subj: Security alert\n",
      "from: Google <no-reply@accounts.google.com>\n",
      "body:\n",
      "W2ltYWdlOiBHb29nbGVdDQpBIG5ldyBzaWduLWluIG9uIE1hYw0KDQoNCm1vbnRnYXNoM0BnbWFp\n",
      "bC5jb20NCldlIG5vdGljZWQgYSBuZXcgc2lnbi1pbiB0byB5b3VyIEdvb2dsZSBBY2NvdW50IG9u\n",
      "IGEgTWFjIGRldmljZS4gSWYgdGhpcw0Kd2FzIHlvdSwgeW91IGRvbuKAmXQgbmVlZCB0byBkbyBh\n",
      "bnl0aGluZy4gSWYgbm90LCB3ZeKAmWxsIGhlbHAgeW91IHNlY3VyZSB5b3VyDQphY2NvdW50Lg0K\n",
      "Q2hlY2sgYWN0aXZpdHkNCjxodHRwczovL2FjY291bnRzLmdvb2dsZS5jb20vQWNjb3VudENob29z\n",
      "ZXI/RW1haWw9bW9udGdhc2gzQGdtYWlsLmNvbSZjb250aW51ZT1odHRwczovL215YWNjb3VudC5n\n",
      "b29nbGUuY29tL2FsZXJ0L250LzE3MDY2MzQwNTIzNTg/cmZuJTNEMzI1JTI2cmZuYyUzRDElMjZl\n",
      "aWQlM0Q1MDQxODY1OTkyNzc4MDE4ODQxJTI2ZXQlM0QwPg0KWW91IGNhbiBhbHNvIHNlZSBzZWN1\n",
      "cml0eSBhY3Rpdml0eSBhdA0KaHR0cHM6Ly9teWFjY291bnQuZ29vZ2xlLmNvbS9ub3RpZmljYXRp\n",
      "b25zDQpZb3UgcmVjZWl2ZWQgdGhpcyBlbWFpbCB0byBsZXQgeW91IGtub3cgYWJvdXQgaW1wb3J0\n",
      "YW50IGNoYW5nZXMgdG8geW91cg0KR29vZ2xlIEFjY291bnQgYW5kIHNlcnZpY2VzLg0KwqkgMjAy\n",
      "NCBHb29nbGUgTExDLCAxNjAwIEFtcGhpdGhlYXRyZSBQYXJrd2F5LCBNb3VudGFpbiBWaWV3LCBD\n",
      "QSA5NDA0MywgVVNBDQo=\n",
      "____________\n",
      "subj: Security alert\n",
      "from: Google <no-reply@accounts.google.com>\n",
      "body:\n",
      "W2ltYWdlOiBHb29nbGVdDQpBcHAgcGFzc3dvcmQgY3JlYXRlZCB0byBzaWduIGluIHRvIHlvdXIg\n",
      "YWNjb3VudA0KDQoNCm1vbnRnYXNoM0BnbWFpbC5jb20NCklmIHlvdSBkaWRuJ3QgZ2VuZXJhdGUg\n",
      "dGhpcyBwYXNzd29yZCBmb3IgcHl0aG9uLCBzb21lb25lIG1pZ2h0IGJlIHVzaW5nDQp5b3VyIGFj\n",
      "Y291bnQuIENoZWNrIGFuZCBzZWN1cmUgeW91ciBhY2NvdW50IG5vdy4NCkNoZWNrIGFjdGl2aXR5\n",
      "DQo8aHR0cHM6Ly9hY2NvdW50cy5nb29nbGUuY29tL0FjY291bnRDaG9vc2VyP0VtYWlsPW1vbnRn\n",
      "YXNoM0BnbWFpbC5jb20mY29udGludWU9aHR0cHM6Ly9teWFjY291bnQuZ29vZ2xlLmNvbS9hbGVy\n",
      "dC9udC8xNzA2NjMzNDc5MzI1P3JmbiUzRDIwJTI2cmZuYyUzRDElMjZlaWQlM0QxNjg4OTExNDU2\n",
      "MzgxOTcyNjg1JTI2ZXQlM0QwPg0KWW91IGNhbiBhbHNvIHNlZSBzZWN1cml0eSBhY3Rpdml0eSBh\n",
      "dA0KaHR0cHM6Ly9teWFjY291bnQuZ29vZ2xlLmNvbS9ub3RpZmljYXRpb25zDQpZb3UgcmVjZWl2\n",
      "ZWQgdGhpcyBlbWFpbCB0byBsZXQgeW91IGtub3cgYWJvdXQgaW1wb3J0YW50IGNoYW5nZXMgdG8g\n",
      "eW91cg0KR29vZ2xlIEFjY291bnQgYW5kIHNlcnZpY2VzLg0KwqkgMjAyNCBHb29nbGUgTExDLCAx\n",
      "NjAwIEFtcGhpdGhlYXRyZSBQYXJrd2F5LCBNb3VudGFpbiBWaWV3LCBDQSA5NDA0MywgVVNBDQo=\n",
      "____________\n",
      "subj: 2-Step Verification turned on\n",
      "from: Google <no-reply@accounts.google.com>\n",
      "body:\n",
      "W2ltYWdlOiBHb29nbGVdDQoyLVN0ZXAgVmVyaWZpY2F0aW9uIHR1cm5lZCBvbg0KDQoNCm1vbnRn\n",
      "YXNoM0BnbWFpbC5jb20NCg0KWW91ciBHb29nbGUgQWNjb3VudCBtb250Z2FzaDNAZ21haWwuY29t\n",
      "IGlzIG5vdyBwcm90ZWN0ZWQgd2l0aCAyLVN0ZXANClZlcmlmaWNhdGlvbi4gV2hlbiB5b3Ugc2ln\n",
      "biBpbiBvbiBhIG5ldyBvciB1bnRydXN0ZWQgZGV2aWNlLCB5b3XigJlsbCBuZWVkDQp5b3VyIHNl\n",
      "Y29uZCBmYWN0b3IgdG8gdmVyaWZ5IHlvdXIgaWRlbnRpdHkuDQoNCipEb24ndCBnZXQgbG9ja2Vk\n",
      "IG91dCEqDQpZb3UgY2FuIGFkZCBhIGJhY2t1cCBwaG9uZSBvciBnZXQgYmFja3VwIGNvZGVzIHRv\n",
      "IHVzZSB3aGVuIHlvdSBkb27igJl0IGhhdmUNCnlvdXIgc2Vjb25kIGZhY3RvciB3aXRoIHlvdS4N\n",
      "CllvdSBjYW4gcmV2aWV3IHlvdXIgMlNWIHNldHRpbmdzDQo8aHR0cHM6Ly9hY2NvdW50cy5nb29n\n",
      "bGUuY29tL0FjY291bnRDaG9vc2VyP0VtYWlsPW1vbnRnYXNoM0BnbWFpbC5jb20mY29udGludWU9\n",
      "aHR0cHM6Ly9teWFjY291bnQuZ29vZ2xlLmNvbS9zaWduaW5vcHRpb25zL3R3by1zdGVwLXZlcmlm\n",
      "aWNhdGlvbj9yZm4lM0QxNiUyNnJmbmMlM0QxJTI2ZWlkJTNENDAxNTEzNDI2NDU5MzY4Mjk1OSUy\n",
      "NmV0JTNEMD4NCnRvIG1ha2UgY2hhbmdlcy4NCllvdSBjYW4gYWxzbyBzZWUgc2VjdXJpdHkgYWN0\n",
      "aXZpdHkgYXQNCmh0dHBzOi8vbXlhY2NvdW50Lmdvb2dsZS5jb20vbm90aWZpY2F0aW9ucw0KWW91\n",
      "IHJlY2VpdmVkIHRoaXMgZW1haWwgdG8gbGV0IHlvdSBrbm93IGFib3V0IGltcG9ydGFudCBjaGFu\n",
      "Z2VzIHRvIHlvdXINCkdvb2dsZSBBY2NvdW50IGFuZCBzZXJ2aWNlcy4NCsKpIDIwMjQgR29vZ2xl\n",
      "IExMQywgMTYwMCBBbXBoaXRoZWF0cmUgUGFya3dheSwgTW91bnRhaW4gVmlldywgQ0EgOTQwNDMs\n",
      "IFVTQQ0K\n",
      "____________\n",
      "subj: Security alert\n",
      "from: Google <no-reply@accounts.google.com>\n",
      "body:\n",
      "W2ltYWdlOiBHb29nbGVdDQpQaG9uZSBudW1iZXIgYWRkZWQgZm9yIDItU3RlcCBWZXJpZmljYXRp\n",
      "b24NCg0KDQptb250Z2FzaDNAZ21haWwuY29tDQpDb2RlcyB0byBzaWduIGluIHRvIHlvdXIgYWNj\n",
      "b3VudCBub3cgZ28gdG8gYSBuZXcgcGhvbmUgbnVtYmVyLiBJZiB5b3UNCmRpZG4ndCBhZGQgdGhp\n",
      "cyBudW1iZXIsIHNvbWVvbmUgbWlnaHQgYmUgdXNpbmcgeW91ciBhY2NvdW50LiBDaGVjayBhbmQN\n",
      "CnNlY3VyZSB5b3VyIGFjY291bnQgbm93Lg0KQ2hlY2sgYWN0aXZpdHkNCjxodHRwczovL2FjY291\n",
      "bnRzLmdvb2dsZS5jb20vQWNjb3VudENob29zZXI/RW1haWw9bW9udGdhc2gzQGdtYWlsLmNvbSZj\n",
      "b250aW51ZT1odHRwczovL215YWNjb3VudC5nb29nbGUuY29tL2FsZXJ0L250LzE3MDY2MzM0MjUx\n",
      "OTc/cmZuJTNEMjU5JTI2cmZuYyUzRDElMjZlaWQlM0QtODczNTc0NTgyNjAwNjg2MjE2NCUyNmV0\n",
      "JTNEMD4NCllvdSBjYW4gYWxzbyBzZWUgc2VjdXJpdHkgYWN0aXZpdHkgYXQNCmh0dHBzOi8vbXlh\n",
      "Y2NvdW50Lmdvb2dsZS5jb20vbm90aWZpY2F0aW9ucw0KWW91IHJlY2VpdmVkIHRoaXMgZW1haWwg\n",
      "dG8gbGV0IHlvdSBrbm93IGFib3V0IGltcG9ydGFudCBjaGFuZ2VzIHRvIHlvdXINCkdvb2dsZSBB\n",
      "Y2NvdW50IGFuZCBzZXJ2aWNlcy4NCsKpIDIwMjQgR29vZ2xlIExMQywgMTYwMCBBbXBoaXRoZWF0\n",
      "cmUgUGFya3dheSwgTW91bnRhaW4gVmlldywgQ0EgOTQwNDMsIFVTQQ0K\n",
      "____________\n",
      "subj: Security alert\n",
      "from: Google <no-reply@accounts.google.com>\n",
      "body:\n",
      "W2ltYWdlOiBHb29nbGVdDQpZb3VyIHBhc3N3b3JkIHdhcyBjaGFuZ2VkDQoNCg0KbW9udGdhc2gz\n",
      "QGdtYWlsLmNvbQ0KVGhlIHBhc3N3b3JkIGZvciB5b3VyIEdvb2dsZSBhY2NvdW50IG1vbnRnYXNo\n",
      "M0BnbWFpbC5jb20gd2FzIGNoYW5nZWQuIElmDQp5b3UgZGlkbid0IGNoYW5nZSBpdCwgeW91IHNo\n",
      "b3VsZCByZWNvdmVyIHlvdXIgYWNjb3VudA0KPGh0dHBzOi8vYWNjb3VudHMuZ29vZ2xlLmNvbS9S\n",
      "ZWNvdmVyQWNjb3VudD9mcE9ubHk9MSZzb3VyY2U9YW5jcCZFbWFpbD1tb250Z2FzaDNAZ21haWwu\n",
      "Y29tJmV0PTA+DQouDQpZb3UgY2FuIGFsc28gc2VlIHNlY3VyaXR5IGFjdGl2aXR5IGF0DQpodHRw\n",
      "czovL215YWNjb3VudC5nb29nbGUuY29tL25vdGlmaWNhdGlvbnMNCllvdSByZWNlaXZlZCB0aGlz\n",
      "IGVtYWlsIHRvIGxldCB5b3Uga25vdyBhYm91dCBpbXBvcnRhbnQgY2hhbmdlcyB0byB5b3VyDQpH\n",
      "b29nbGUgQWNjb3VudCBhbmQgc2VydmljZXMuDQrCqSAyMDI0IEdvb2dsZSBMTEMsIDE2MDAgQW1w\n",
      "aGl0aGVhdHJlIFBhcmt3YXksIE1vdW50YWluIFZpZXcsIENBIDk0MDQzLCBVU0ENCg==\n",
      "____________\n",
      "subj: Security alert\n",
      "from: Google <no-reply@accounts.google.com>\n",
      "body:\n",
      "W2ltYWdlOiBHb29nbGVdDQpBIG5ldyBzaWduLWluIG9uIE1hYw0KDQoNCm1vbnRnYXNoM0BnbWFp\n",
      "bC5jb20NCldlIG5vdGljZWQgYSBuZXcgc2lnbi1pbiB0byB5b3VyIEdvb2dsZSBBY2NvdW50IG9u\n",
      "IGEgTWFjIGRldmljZS4gSWYgdGhpcw0Kd2FzIHlvdSwgeW91IGRvbuKAmXQgbmVlZCB0byBkbyBh\n",
      "bnl0aGluZy4gSWYgbm90LCB3ZeKAmWxsIGhlbHAgeW91IHNlY3VyZSB5b3VyDQphY2NvdW50Lg0K\n",
      "Q2hlY2sgYWN0aXZpdHkNCjxodHRwczovL2FjY291bnRzLmdvb2dsZS5jb20vQWNjb3VudENob29z\n",
      "ZXI/RW1haWw9bW9udGdhc2gzQGdtYWlsLmNvbSZjb250aW51ZT1odHRwczovL215YWNjb3VudC5n\n",
      "b29nbGUuY29tL2FsZXJ0L250LzE3MDY2MzE1ODgwMDA/cmZuJTNEMzI1JTI2cmZuYyUzRDElMjZl\n",
      "aWQlM0Q0MjYxNjc3MDU1MTI3ODMyNTI3JTI2ZXQlM0QwPg0KWW91IGNhbiBhbHNvIHNlZSBzZWN1\n",
      "cml0eSBhY3Rpdml0eSBhdA0KaHR0cHM6Ly9teWFjY291bnQuZ29vZ2xlLmNvbS9ub3RpZmljYXRp\n",
      "b25zDQpZb3UgcmVjZWl2ZWQgdGhpcyBlbWFpbCB0byBsZXQgeW91IGtub3cgYWJvdXQgaW1wb3J0\n",
      "YW50IGNoYW5nZXMgdG8geW91cg0KR29vZ2xlIEFjY291bnQgYW5kIHNlcnZpY2VzLg0KwqkgMjAy\n",
      "NCBHb29nbGUgTExDLCAxNjAwIEFtcGhpdGhlYXRyZSBQYXJrd2F5LCBNb3VudGFpbiBWaWV3LCBD\n",
      "QSA5NDA0MywgVVNBDQo=\n"
     ]
    }
   ],
   "source": [
    "for msg in msgs[::-1]:\n",
    "    for response_part in msg:\n",
    "        if type(response_part) is tuple: \n",
    "            my_msg=email.message_from_bytes((response_part[1]))\n",
    "            print(\"____________\")\n",
    "            print(\"subj:\", my_msg['subject'])\n",
    "            print(\"from:\", my_msg['from'])\n",
    "            print(\"body:\")\n",
    "            for part in my_msg.walk():\n",
    "                #print(part.get_content_type())\n",
    "                if part.get_content_type() == 'text/plain':\n",
    "                    print(part.get_payload())"
   ]
  },
  {
   "cell_type": "code",
   "execution_count": null,
   "metadata": {},
   "outputs": [],
   "source": []
  },
  {
   "cell_type": "code",
   "execution_count": null,
   "metadata": {},
   "outputs": [],
   "source": []
  },
  {
   "cell_type": "code",
   "execution_count": null,
   "metadata": {},
   "outputs": [],
   "source": []
  },
  {
   "cell_type": "code",
   "execution_count": null,
   "metadata": {},
   "outputs": [],
   "source": []
  },
  {
   "cell_type": "code",
   "execution_count": null,
   "metadata": {},
   "outputs": [],
   "source": []
  }
 ],
 "metadata": {
  "kernelspec": {
   "display_name": "base",
   "language": "python",
   "name": "python3"
  },
  "language_info": {
   "codemirror_mode": {
    "name": "ipython",
    "version": 3
   },
   "file_extension": ".py",
   "mimetype": "text/x-python",
   "name": "python",
   "nbconvert_exporter": "python",
   "pygments_lexer": "ipython3",
   "version": "3.11.5"
  }
 },
 "nbformat": 4,
 "nbformat_minor": 2
}
