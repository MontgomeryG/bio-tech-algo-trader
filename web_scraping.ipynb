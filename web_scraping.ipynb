{
 "cells": [
  {
   "cell_type": "code",
   "execution_count": 66,
   "metadata": {},
   "outputs": [],
   "source": [
    "# ! pip install selenium"
   ]
  },
  {
   "cell_type": "markdown",
   "metadata": {},
   "source": [
    "### SIDE NOTE\n",
    "So that I actually start building my email list, I will start knocking out at least 100 subscriptions a day manually. I will keep track of where I end each day, and how many I was and was not able to subscribe to."
   ]
  },
  {
   "cell_type": "markdown",
   "metadata": {},
   "source": [
    "## First we need to get our computer to take in our input, \"AAPL stock', and search google for it."
   ]
  },
  {
   "cell_type": "code",
   "execution_count": 67,
   "metadata": {},
   "outputs": [],
   "source": [
    "from selenium import webdriver\n",
    "from selenium.webdriver.chrome.options import Options\n",
    "from selenium.webdriver.common.keys import Keys\n",
    "from selenium.webdriver.common.by import By\n",
    "import time\n",
    "import numpy as np\n",
    "import pandas as pd\n",
    "import hvplot.pandas\n",
    "from pathlib import Path\n",
    "\n",
    "\n",
    "# # Set up the driver (example with Chrome)\n",
    "# # We moved chromedriver to our PATH so we need not specify the path\n",
    "# driver = webdriver.Chrome()\n",
    "\n",
    "# # Navigate to Google\n",
    "# driver.get(\"http://www.google.com\")\n",
    "\n",
    "# # Wait for results\n",
    "# time.sleep(5)\n",
    "\n",
    "# # Find the search box\n",
    "# search_box = driver.find_element(By.NAME, 'q')\n",
    "\n",
    "# # Enter your search query\n",
    "# search_box.send_keys('GLUC stock official website')\n",
    "# search_box.submit()\n",
    "# # search_box.send_keys(Keys.RETURN)\n",
    "\n",
    "# # Wait for results\n",
    "# time.sleep(5)\n",
    "\n",
    "# # Close the browser\n",
    "# # driver.quit()\n"
   ]
  },
  {
   "cell_type": "markdown",
   "metadata": {},
   "source": [
    "## Now we need to go to the company's official website email alert page."
   ]
  },
  {
   "cell_type": "code",
   "execution_count": 68,
   "metadata": {},
   "outputs": [],
   "source": [
    "# We are added 'official website' to the end to see if that helps us locate the pages faster.\n",
    "# ACTUALLY: this is what we will put in: 'heartbeam investor relations press release email alerts'\n",
    "\n",
    "# Set up the driver (example with Chrome)\n",
    "# We moved chromedriver to our PATH so we need not specify the path\n",
    "driver = webdriver.Chrome()\n",
    "\n",
    "# Navigate to Google\n",
    "driver.get(\"http://www.google.com\")\n",
    "\n",
    "# Wait for results\n",
    "time.sleep(1)\n",
    "\n",
    "# Find the search box\n",
    "search_box = driver.find_element(By.NAME, 'q')\n",
    "\n",
    "# Enter your search query\n",
    "search_box.send_keys('heartbeam investor relations press release email alerts')\n",
    "search_box.submit()\n",
    "# search_box.send_keys(Keys.RETURN)\n",
    "\n",
    "# Open a new tab using JavaScript\n",
    "driver.execute_script(\"window.open('');\")\n",
    "\n",
    "# Switch to the new tab\n",
    "driver.switch_to.window(driver.window_handles[1])\n",
    "\n",
    "# Wait for results\n",
    "time.sleep(1)\n",
    "\n",
    "# Close the browser\n",
    "# driver.quit()"
   ]
  },
  {
   "cell_type": "markdown",
   "metadata": {},
   "source": [
    "# Going to iterate the above and see how that looks. \n",
    "\n",
    "Let's start with 10 stocks."
   ]
  },
  {
   "cell_type": "code",
   "execution_count": 70,
   "metadata": {},
   "outputs": [
    {
     "data": {
      "text/html": [
       "<div>\n",
       "<style scoped>\n",
       "    .dataframe tbody tr th:only-of-type {\n",
       "        vertical-align: middle;\n",
       "    }\n",
       "\n",
       "    .dataframe tbody tr th {\n",
       "        vertical-align: top;\n",
       "    }\n",
       "\n",
       "    .dataframe thead th {\n",
       "        text-align: right;\n",
       "    }\n",
       "</style>\n",
       "<table border=\"1\" class=\"dataframe\">\n",
       "  <thead>\n",
       "    <tr style=\"text-align: right;\">\n",
       "      <th></th>\n",
       "      <th>Unnamed: 0</th>\n",
       "      <th>ticker</th>\n",
       "      <th>description</th>\n",
       "      <th>sector</th>\n",
       "      <th>Manual subscription work?</th>\n",
       "    </tr>\n",
       "  </thead>\n",
       "  <tbody>\n",
       "    <tr>\n",
       "      <th>0</th>\n",
       "      <td>0</td>\n",
       "      <td>ALMU</td>\n",
       "      <td>AELUMA INC COM</td>\n",
       "      <td>Unlabeled</td>\n",
       "      <td>yes</td>\n",
       "    </tr>\n",
       "    <tr>\n",
       "      <th>1</th>\n",
       "      <td>1</td>\n",
       "      <td>GLUC</td>\n",
       "      <td>GLUCOSE HEALTH INC COM</td>\n",
       "      <td>Unlabeled</td>\n",
       "      <td>no</td>\n",
       "    </tr>\n",
       "    <tr>\n",
       "      <th>2</th>\n",
       "      <td>2</td>\n",
       "      <td>RGBP</td>\n",
       "      <td>REGEN BIOPHARMA INC COM</td>\n",
       "      <td>Unlabeled</td>\n",
       "      <td>yes</td>\n",
       "    </tr>\n",
       "    <tr>\n",
       "      <th>3</th>\n",
       "      <td>3</td>\n",
       "      <td>TLPH</td>\n",
       "      <td>TALPHERA INC COM</td>\n",
       "      <td>Unlabeled</td>\n",
       "      <td>yes</td>\n",
       "    </tr>\n",
       "    <tr>\n",
       "      <th>4</th>\n",
       "      <td>4</td>\n",
       "      <td>UNRVD</td>\n",
       "      <td>BLUM HOLDINGS INC COM</td>\n",
       "      <td>Unlabeled</td>\n",
       "      <td>no</td>\n",
       "    </tr>\n",
       "  </tbody>\n",
       "</table>\n",
       "</div>"
      ],
      "text/plain": [
       "   Unnamed: 0 ticker              description     sector  \\\n",
       "0           0   ALMU           AELUMA INC COM  Unlabeled   \n",
       "1           1   GLUC   GLUCOSE HEALTH INC COM  Unlabeled   \n",
       "2           2   RGBP  REGEN BIOPHARMA INC COM  Unlabeled   \n",
       "3           3   TLPH         TALPHERA INC COM  Unlabeled   \n",
       "4           4  UNRVD    BLUM HOLDINGS INC COM  Unlabeled   \n",
       "\n",
       "  Manual subscription work?  \n",
       "0                       yes  \n",
       "1                        no  \n",
       "2                       yes  \n",
       "3                       yes  \n",
       "4                        no  "
      ]
     },
     "execution_count": 70,
     "metadata": {},
     "output_type": "execute_result"
    }
   ],
   "source": [
    "df = pd.read_csv(\"../bio-tech-algo-trader/resources/pharmaStocks.csv\", header=0)\n",
    "df.head()"
   ]
  },
  {
   "cell_type": "code",
   "execution_count": 71,
   "metadata": {},
   "outputs": [
    {
     "data": {
      "text/plain": [
       "['AELUMA INC COM investor relations press release email alerts',\n",
       " 'GLUCOSE HEALTH INC COM investor relations press release email alerts',\n",
       " 'REGEN BIOPHARMA INC COM investor relations press release email alerts',\n",
       " 'TALPHERA INC COM investor relations press release email alerts',\n",
       " 'BLUM HOLDINGS INC COM investor relations press release email alerts',\n",
       " 'VOLPARA HEALTH TECH LTD COM investor relations press release email alerts',\n",
       " 'WUXI BIOLOGICS (CAYMAN) INC COM investor relations press release email alerts',\n",
       " 'ZHONG YUAN BIO TECHNOLOGY HLDG COM investor relations press release email alerts',\n",
       " 'ZELIRA THERAPEUTICS LTD COM investor relations press release email alerts',\n",
       " 'AETHLON MEDICAL INC COM investor relations press release email alerts']"
      ]
     },
     "execution_count": 71,
     "metadata": {},
     "output_type": "execute_result"
    }
   ],
   "source": [
    "desc = df['description'].to_list()\n",
    "\n",
    "# Add 'investor relations press release email alerts' after each ticker\n",
    "new_list = []\n",
    "\n",
    "for x in desc:\n",
    "    new_string = str(x) + \" investor relations press release email alerts\"\n",
    "    new_list.append(new_string)\n",
    "\n",
    "first_ten = new_list[:10]\n",
    "first_ten"
   ]
  },
  {
   "cell_type": "code",
   "execution_count": 78,
   "metadata": {},
   "outputs": [],
   "source": [
    "# next 25\n",
    "next_25 = new_list[76:100]"
   ]
  },
  {
   "cell_type": "code",
   "execution_count": 79,
   "metadata": {},
   "outputs": [],
   "source": [
    "driver = webdriver.Chrome()\n",
    "\n",
    "# Counter to flip to each newly created tab\n",
    "y = 1\n",
    "\n",
    "for x in next_25:\n",
    "    # Navigate to Google\n",
    "    driver.get(\"http://www.google.com\")\n",
    "\n",
    "    # # Wait for results\n",
    "    # time.sleep(1)\n",
    "\n",
    "    # Find the search box\n",
    "    search_box = driver.find_element(By.NAME, 'q')\n",
    "\n",
    "    # Enter your search query\n",
    "    search_box.send_keys(x)\n",
    "    search_box.submit()\n",
    "    # search_box.send_keys(Keys.RETURN)\n",
    "\n",
    "    # Open a new tab using JavaScript\n",
    "    driver.execute_script(\"window.open('');\")\n",
    "\n",
    "    # Switch to the new tab\n",
    "    driver.switch_to.window(driver.window_handles[y])   \n",
    "    y+=1"
   ]
  },
  {
   "cell_type": "markdown",
   "metadata": {},
   "source": [
    "#### We we can see, the first result of each search is not exactly what we want. We want the 'Email Alerts' page, but sometimes the first result is 'press releases' or even Nasdaq 'press releases' given the ticker name. So we need a bot to thoughtfully select each link, the link that says \"Email Alerts\". If that page does not exist, then we need to click on the 'investor info' or 'press releases' or 'investor overview' or 'information request' or 'investor resources'\n",
    "\n",
    "Another problem is that sometimes the 'email alerts' link seen is actually to a different company with a similar name... \n",
    "\n",
    "They lock me out with captcha after about 8 or 9 times of me manually passing the tests. I eventually get to the 10th or 11th captcha and then I click submit after I 'pass' the slecting images part, but then the page just keeps loading and does not give another response... "
   ]
  },
  {
   "cell_type": "markdown",
   "metadata": {},
   "source": [
    "#### Next thing I want to iterate is going through my emails and clicking the \"confirm registration\" button. \n",
    "I did this in the past using 'Keyboard Maestro', an application that allows you to script keystrokes and mouse movement. That is how I initially automated this process before getting better at coding.\n",
    "\n",
    "Now I want to use some type of library to go into my email and be able to find and click the CORRECT link provided in each email to confirm my registration for each company's website. \n",
    "Learning how to do this shall serve useful in the future when we want to open links in our email that take us to each press release as they are released by each company in real-time. \n",
    "\n"
   ]
  },
  {
   "cell_type": "code",
   "execution_count": null,
   "metadata": {},
   "outputs": [],
   "source": []
  },
  {
   "cell_type": "code",
   "execution_count": null,
   "metadata": {},
   "outputs": [],
   "source": []
  },
  {
   "cell_type": "code",
   "execution_count": null,
   "metadata": {},
   "outputs": [],
   "source": []
  },
  {
   "cell_type": "code",
   "execution_count": null,
   "metadata": {},
   "outputs": [],
   "source": []
  }
 ],
 "metadata": {
  "kernelspec": {
   "display_name": "base",
   "language": "python",
   "name": "python3"
  },
  "language_info": {
   "codemirror_mode": {
    "name": "ipython",
    "version": 3
   },
   "file_extension": ".py",
   "mimetype": "text/x-python",
   "name": "python",
   "nbconvert_exporter": "python",
   "pygments_lexer": "ipython3",
   "version": "3.11.5"
  }
 },
 "nbformat": 4,
 "nbformat_minor": 2
}
