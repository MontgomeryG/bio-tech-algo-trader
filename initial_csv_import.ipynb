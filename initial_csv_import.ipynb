{
 "cells": [
  {
   "cell_type": "code",
   "execution_count": 66,
   "metadata": {},
   "outputs": [],
   "source": [
    "import numpy as np\n",
    "import pandas as pd\n",
    "import hvplot.pandas\n",
    "from pathlib import Path"
   ]
  },
  {
   "cell_type": "markdown",
   "metadata": {},
   "source": [
    "### What's the goal here?\n",
    "\n",
    "- Show different sectors. \n",
    "- Explain why we chose sectors.\n",
    "- Show example of news catalyst and stock price reaction.\n",
    "- We want to capture that.\n",
    "- Need to get access to news fast, so we want to subscribe to all these companies' investor relations email lists. I have done this for thousands of stocks by hand, but let's try to iterate.\n",
    "- After throughly explaining our goal, we can start by taking each ticker and adding \"Stock\" to the end of it. That way, when we somehow program our computer to search up a google query,\n",
    "- we will feed in 'ALMU Stock', 'GLUC Stock', 'RGBP Stock'... and so on. From there, we search google, then we need to click on the little bubble that takes us to the official company's website... or we need to get to the website/IR page in a more efficient way."
   ]
  },
  {
   "cell_type": "code",
   "execution_count": 67,
   "metadata": {},
   "outputs": [
    {
     "data": {
      "text/html": [
       "<div>\n",
       "<style scoped>\n",
       "    .dataframe tbody tr th:only-of-type {\n",
       "        vertical-align: middle;\n",
       "    }\n",
       "\n",
       "    .dataframe tbody tr th {\n",
       "        vertical-align: top;\n",
       "    }\n",
       "\n",
       "    .dataframe thead th {\n",
       "        text-align: right;\n",
       "    }\n",
       "</style>\n",
       "<table border=\"1\" class=\"dataframe\">\n",
       "  <thead>\n",
       "    <tr style=\"text-align: right;\">\n",
       "      <th></th>\n",
       "      <th>ticker</th>\n",
       "      <th>description</th>\n",
       "      <th>sector</th>\n",
       "    </tr>\n",
       "  </thead>\n",
       "  <tbody>\n",
       "    <tr>\n",
       "      <th>0</th>\n",
       "      <td>ALMU</td>\n",
       "      <td>AELUMA INC COM</td>\n",
       "      <td>Unlabeled</td>\n",
       "    </tr>\n",
       "    <tr>\n",
       "      <th>1</th>\n",
       "      <td>GLUC</td>\n",
       "      <td>GLUCOSE HEALTH INC COM</td>\n",
       "      <td>Unlabeled</td>\n",
       "    </tr>\n",
       "    <tr>\n",
       "      <th>2</th>\n",
       "      <td>RGBP</td>\n",
       "      <td>REGEN BIOPHARMA INC COM</td>\n",
       "      <td>Unlabeled</td>\n",
       "    </tr>\n",
       "    <tr>\n",
       "      <th>3</th>\n",
       "      <td>TLPH</td>\n",
       "      <td>TALPHERA INC COM</td>\n",
       "      <td>Unlabeled</td>\n",
       "    </tr>\n",
       "    <tr>\n",
       "      <th>4</th>\n",
       "      <td>UNRVD</td>\n",
       "      <td>BLUM HOLDINGS INC COM</td>\n",
       "      <td>Unlabeled</td>\n",
       "    </tr>\n",
       "  </tbody>\n",
       "</table>\n",
       "</div>"
      ],
      "text/plain": [
       "  ticker              description     sector\n",
       "0   ALMU           AELUMA INC COM  Unlabeled\n",
       "1   GLUC   GLUCOSE HEALTH INC COM  Unlabeled\n",
       "2   RGBP  REGEN BIOPHARMA INC COM  Unlabeled\n",
       "3   TLPH         TALPHERA INC COM  Unlabeled\n",
       "4  UNRVD    BLUM HOLDINGS INC COM  Unlabeled"
      ]
     },
     "metadata": {},
     "output_type": "display_data"
    },
    {
     "data": {
      "text/html": [
       "<div>\n",
       "<style scoped>\n",
       "    .dataframe tbody tr th:only-of-type {\n",
       "        vertical-align: middle;\n",
       "    }\n",
       "\n",
       "    .dataframe tbody tr th {\n",
       "        vertical-align: top;\n",
       "    }\n",
       "\n",
       "    .dataframe thead th {\n",
       "        text-align: right;\n",
       "    }\n",
       "</style>\n",
       "<table border=\"1\" class=\"dataframe\">\n",
       "  <thead>\n",
       "    <tr style=\"text-align: right;\">\n",
       "      <th></th>\n",
       "      <th>ticker</th>\n",
       "      <th>description</th>\n",
       "      <th>sector</th>\n",
       "    </tr>\n",
       "  </thead>\n",
       "  <tbody>\n",
       "    <tr>\n",
       "      <th>634</th>\n",
       "      <td>SPI</td>\n",
       "      <td>SPI ENERGY CO LTD COM</td>\n",
       "      <td>Semiconductors &amp; Semiconductor Equipment</td>\n",
       "    </tr>\n",
       "    <tr>\n",
       "      <th>635</th>\n",
       "      <td>SQNS</td>\n",
       "      <td>SEQUANS COMMUNICATIONS ADR</td>\n",
       "      <td>Semiconductors &amp; Semiconductor Equipment</td>\n",
       "    </tr>\n",
       "    <tr>\n",
       "      <th>636</th>\n",
       "      <td>TGAN</td>\n",
       "      <td>TRANSPHORM INC COM</td>\n",
       "      <td>Semiconductors &amp; Semiconductor Equipment</td>\n",
       "    </tr>\n",
       "    <tr>\n",
       "      <th>637</th>\n",
       "      <td>VLN</td>\n",
       "      <td>VALENS SEMICONDUCTOR LTD COM</td>\n",
       "      <td>Semiconductors &amp; Semiconductor Equipment</td>\n",
       "    </tr>\n",
       "    <tr>\n",
       "      <th>638</th>\n",
       "      <td>WKEY</td>\n",
       "      <td>WISEKEY INTERNATIONAL HLDG LTD ADR SPONSORED</td>\n",
       "      <td>Semiconductors &amp; Semiconductor Equipment</td>\n",
       "    </tr>\n",
       "  </tbody>\n",
       "</table>\n",
       "</div>"
      ],
      "text/plain": [
       "    ticker                                   description  \\\n",
       "634    SPI                         SPI ENERGY CO LTD COM   \n",
       "635   SQNS                    SEQUANS COMMUNICATIONS ADR   \n",
       "636   TGAN                            TRANSPHORM INC COM   \n",
       "637    VLN                  VALENS SEMICONDUCTOR LTD COM   \n",
       "638   WKEY  WISEKEY INTERNATIONAL HLDG LTD ADR SPONSORED   \n",
       "\n",
       "                                       sector  \n",
       "634  Semiconductors & Semiconductor Equipment  \n",
       "635  Semiconductors & Semiconductor Equipment  \n",
       "636  Semiconductors & Semiconductor Equipment  \n",
       "637  Semiconductors & Semiconductor Equipment  \n",
       "638  Semiconductors & Semiconductor Equipment  "
      ]
     },
     "metadata": {},
     "output_type": "display_data"
    }
   ],
   "source": [
    "df = pd.read_csv(\"../bio-tech-algo-trader/pharmaStocksFromTOS.csv\", header=0)\n",
    "display(df.head())\n",
    "display(df.tail())"
   ]
  },
  {
   "cell_type": "code",
   "execution_count": 68,
   "metadata": {},
   "outputs": [
    {
     "data": {
      "text/plain": [
       "['ALMU', 'GLUC', 'RGBP', 'TLPH', 'UNRVD', 'VPAHF']"
      ]
     },
     "execution_count": 68,
     "metadata": {},
     "output_type": "execute_result"
    }
   ],
   "source": [
    "# Tickers\n",
    "tickers = df['ticker'].to_list()\n",
    "tickers[:6]"
   ]
  },
  {
   "cell_type": "code",
   "execution_count": 69,
   "metadata": {},
   "outputs": [
    {
     "data": {
      "text/plain": [
       "['PXLW Stock',\n",
       " 'RGTI Stock',\n",
       " 'SPI Stock',\n",
       " 'SQNS Stock',\n",
       " 'TGAN Stock',\n",
       " 'VLN Stock',\n",
       " 'WKEY Stock']"
      ]
     },
     "execution_count": 69,
     "metadata": {},
     "output_type": "execute_result"
    }
   ],
   "source": [
    "# Add 'Stock' after each ticker\n",
    "new_list = []\n",
    "\n",
    "for x in tickers:\n",
    "    new_string = str(x) + \" Stock\"\n",
    "    new_list.append(new_string)\n",
    "\n",
    "new_list[-7:]"
   ]
  },
  {
   "cell_type": "markdown",
   "metadata": {},
   "source": [
    "Just did the first stock manually.\n"
   ]
  }
 ],
 "metadata": {
  "kernelspec": {
   "display_name": "base",
   "language": "python",
   "name": "python3"
  },
  "language_info": {
   "codemirror_mode": {
    "name": "ipython",
    "version": 3
   },
   "file_extension": ".py",
   "mimetype": "text/x-python",
   "name": "python",
   "nbconvert_exporter": "python",
   "pygments_lexer": "ipython3",
   "version": "3.11.5"
  }
 },
 "nbformat": 4,
 "nbformat_minor": 2
}
