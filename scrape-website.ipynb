{
 "cells": [
  {
   "cell_type": "code",
   "execution_count": 27,
   "metadata": {},
   "outputs": [],
   "source": [
    "from bs4 import BeautifulSoup\n",
    "import requests"
   ]
  },
  {
   "cell_type": "code",
   "execution_count": 30,
   "metadata": {},
   "outputs": [],
   "source": [
    "url = \"https://www.cmsenergy.com/investor-relations/news-releases/news-release-details/2024/Consumers-Energy-Foundation-to-Award-50000-for-Three-Small-Towns-in-Put-Your-Town-on-the-Map-Competition/default.aspx\"\n",
    "\n",
    "page = requests.get(url)\n",
    "\n",
    "soup = BeautifulSoup(page.text, 'html')"
   ]
  },
  {
   "cell_type": "code",
   "execution_count": 31,
   "metadata": {},
   "outputs": [
    {
     "name": "stdout",
     "output_type": "stream",
     "text": [
      "<!DOCTYPE html>\n",
      "<html lang=\"en-US\"><head><title>Just a moment...</title><meta content=\"text/html; charset=utf-8\" http-equiv=\"Content-Type\"/><meta content=\"IE=Edge\" http-equiv=\"X-UA-Compatible\"/><meta content=\"noindex,nofollow\" name=\"robots\"/><meta content=\"width=device-width,initial-scale=1\" name=\"viewport\"/><style>*{box-sizing:border-box;margin:0;padding:0}html{line-height:1.15;-webkit-text-size-adjust:100%;color:#313131;font-family:system-ui,-apple-system,BlinkMacSystemFont,Segoe UI,Roboto,Helvetica Neue,Arial,Noto Sans,sans-serif,\"Apple Color Emoji\",\"Segoe UI Emoji\",Segoe UI Symbol,\"Noto Color Emoji\"}button{font-family:system-ui,-apple-system,BlinkMacSystemFont,Segoe UI,Roboto,Helvetica Neue,Arial,Noto Sans,sans-serif,\"Apple Color Emoji\",\"Segoe UI Emoji\",Segoe UI Symbol,\"Noto Color Emoji\"}@mixin dark-mode{background-color: #222; color: #d9d9d9; a {color: #fff; &:hover {text-decoration: underline; color: #ee730a;}} .lds-ring div {border-color: #999 transparent transparent;} .font-red {color: #b20f03;} .big-button,.pow-button {background-color: #4693ff; color: #1d1d1d;} #challenge-success-text {background-image: url(data:image/svg+xml;base64,PHN2ZyB4bWxucz0iaHR0cDovL3d3dy53My5vcmcvMjAwMC9zdmciIHdpZHRoPSIzMiIgaGVpZ2h0PSIzMiIgZmlsbD0ibm9uZSIgdmlld0JveD0iMCAwIDI2IDI2Ij48cGF0aCBmaWxsPSIjZDlkOWQ5IiBkPSJNMTMgMGExMyAxMyAwIDEgMCAwIDI2IDEzIDEzIDAgMCAwIDAtMjZtMCAyNGExMSAxMSAwIDEgMSAwLTIyIDExIDExIDAgMCAxIDAgMjIiLz48cGF0aCBmaWxsPSIjZDlkOWQ5IiBkPSJtMTAuOTU1IDE2LjA1NS0zLjk1LTQuMTI1LTEuNDQ1IDEuMzg1IDUuMzcgNS42MSA5LjQ5NS05LjYtMS40Mi0xLjQwNXoiLz48L3N2Zz4);}}@mixin light-mode{background-color: transparent; color: #313131; a {color: #0051c3; &:hover {text-decoration: underline; color: #ee730a;}} .lds-ring div {border-color: #595959 transparent transparent;} .font-red {color: #fc574a;} .big-button,.pow-button {border-color: #003681; background-color: #003681; color: #fff;} #challenge-success-text {background-image: url(data:image/svg+xml;base64,PHN2ZyB4bWxucz0iaHR0cDovL3d3dy53My5vcmcvMjAwMC9zdmciIHdpZHRoPSIzMiIgaGVpZ2h0PSIzMiIgZmlsbD0ibm9uZSIgdmlld0JveD0iMCAwIDI2IDI2Ij48cGF0aCBmaWxsPSIjMzEzMTMxIiBkPSJNMTMgMGExMyAxMyAwIDEgMCAwIDI2IDEzIDEzIDAgMCAwIDAtMjZtMCAyNGExMSAxMSAwIDEgMSAwLTIyIDExIDExIDAgMCAxIDAgMjIiLz48cGF0aCBmaWxsPSIjMzEzMTMxIiBkPSJtMTAuOTU1IDE2LjA1NS0zLjk1LTQuMTI1LTEuNDQ1IDEuMzg1IDUuMzcgNS42MSA5LjQ5NS05LjYtMS40Mi0xLjQwNXoiLz48L3N2Zz4=);}}@media (prefers-color-scheme: dark){body{@include dark-mode;}}body{display:flex;flex-direction:column;min-height:100vh;&.no-js{.loading-spinner{visibility:hidden}.challenge-running{display:none}}&.dark{@include dark-mode;}&.light{@include light-mode;}}a{transition:color .15s ease;background-color:transparent;text-decoration:none;color:#0051c3;&:hover{text-decoration:underline;color:#ee730a}}.main-content{margin:8rem auto;width:100%;max-width:60rem}.heading-favicon{margin-right:.5rem;width:2rem;height:2rem}@media (width <= 720px){.main-content{margin-top:4rem}.heading-favicon{width:1.5rem;height:1.5rem}}.main-content,.footer{padding-right:1.5rem;padding-left:1.5rem}.main-wrapper{display:flex;flex:1;flex-direction:column;align-items:center}.font-red{color:#b20f03}.spacer{margin:2rem 0}.h1{line-height:3.75rem;font-size:2.5rem;font-weight:500}.h2{line-height:2.25rem;font-size:1.5rem;font-weight:500}.core-msg{line-height:2.25rem;font-size:1.5rem;font-weight:400}.body-text{line-height:1.25rem;font-size:1rem;font-weight:400}@media (width <= 720px){.h1{line-height:1.75rem;font-size:1.5rem}.h2{line-height:1.5rem;font-size:1.25rem}.core-msg{line-height:1.5rem;font-size:1rem}}#challenge-error-text{background-image:url(data:image/svg+xml;base64,PHN2ZyB4bWxucz0iaHR0cDovL3d3dy53My5vcmcvMjAwMC9zdmciIHdpZHRoPSIzMiIgaGVpZ2h0PSIzMiIgZmlsbD0ibm9uZSI+PHBhdGggZmlsbD0iI0IyMEYwMyIgZD0iTTE2IDNhMTMgMTMgMCAxIDAgMTMgMTNBMTMuMDE1IDEzLjAxNSAwIDAgMCAxNiAzbTAgMjRhMTEgMTEgMCAxIDEgMTEtMTEgMTEuMDEgMTEuMDEgMCAwIDEtMTEgMTEiLz48cGF0aCBmaWxsPSIjQjIwRjAzIiBkPSJNMTcuMDM4IDE4LjYxNUgxNC44N0wxNC41NjMgOS41aDIuNzgzem0tMS4wODQgMS40MjdxLjY2IDAgMS4wNTcuMzg4LjQwNy4zODkuNDA3Ljk5NCAwIC41OTYtLjQwNy45ODQtLjM5Ny4zOS0xLjA1Ny4zODktLjY1IDAtMS4wNTYtLjM4OS0uMzk4LS4zODktLjM5OC0uOTg0IDAtLjU5Ny4zOTgtLjk4NS40MDYtLjM5NyAxLjA1Ni0uMzk3Ii8+PC9zdmc+);background-repeat:no-repeat;background-size:contain;padding-left:34px}#challenge-success-text{background-image:url(data:image/svg+xml;base64,PHN2ZyB4bWxucz0iaHR0cDovL3d3dy53My5vcmcvMjAwMC9zdmciIHdpZHRoPSIzMiIgaGVpZ2h0PSIzMiIgZmlsbD0ibm9uZSIgdmlld0JveD0iMCAwIDI2IDI2Ij48cGF0aCBmaWxsPSIjMzEzMTMxIiBkPSJNMTMgMGExMyAxMyAwIDEgMCAwIDI2IDEzIDEzIDAgMCAwIDAtMjZtMCAyNGExMSAxMSAwIDEgMSAwLTIyIDExIDExIDAgMCAxIDAgMjIiLz48cGF0aCBmaWxsPSIjMzEzMTMxIiBkPSJtMTAuOTU1IDE2LjA1NS0zLjk1LTQuMTI1LTEuNDQ1IDEuMzg1IDUuMzcgNS42MSA5LjQ5NS05LjYtMS40Mi0xLjQwNXoiLz48L3N2Zz4=);background-repeat:no-repeat;background-size:contain;padding-left:42px}.text-center{text-align:center}.big-button{transition-duration:.2s;transition-property:background-color,border-color,color;transition-timing-function:ease;border:.063rem solid #0051c3;border-radius:.313rem;padding:.375rem 1rem;line-height:1.313rem;font-size:.875rem;&:hover{cursor:pointer}}.captcha-prompt:not(.hidden){display:flex}@media (width <= 720px){.captcha-prompt:not(.hidden){flex-wrap:wrap;justify-content:center}}.pow-button{margin:2rem 0;background-color:#0051c3;color:#fff;&:hover{border-color:#003681;background-color:#003681;color:#fff}}.footer{margin:0 auto;width:100%;max-width:60rem;line-height:1.125rem;font-size:.75rem}.footer-inner{border-top:1px solid #d9d9d9;padding-top:1rem;padding-bottom:1rem}.clearfix{&:after{display:table;clear:both;content:\"\"}.column{float:left;padding-right:1.5rem;width:50%}}.diagnostic-wrapper{margin-bottom:.5rem}.footer .ray-id{text-align:center;code{font-family:monaco,courier,monospace}}.core-msg,.zone-name-title{overflow-wrap:break-word}@media (width <= 720px){.diagnostic-wrapper{display:flex;flex-wrap:wrap;justify-content:center}.clearfix:after{display:initial;clear:none;text-align:center;content:none}.column{padding-bottom:2rem}.clearfix .column{float:none;padding:0;width:auto;word-break:keep-all}.zone-name-title{margin-bottom:1rem}}.loading-spinner{height:76.391px}.lds-ring{display:inline-block;position:relative;width:1.875rem;height:1.875rem;div{box-sizing:border-box;display:block;position:absolute;border:.3rem solid #595959;border-radius:50%;border-color:#313131 transparent transparent;width:1.875rem;height:1.875rem;animation:lds-ring 1.2s cubic-bezier(.5,0,.5,1) infinite;&:nth-child(1){animation-delay:-.45s}&:nth-child(2){animation-delay:-.3s}&:nth-child(3){animation-delay:-.15s}}}@keyframes lds-ring{0%{transform:rotate(0)}to{transform:rotate(360deg)}}@media screen and (-ms-high-contrast: active),screen and (-ms-high-contrast: none){body,.main-wrapper{display:block}}</style><meta content=\"375\" http-equiv=\"refresh\"/></head><body class=\"no-js\"><div class=\"main-wrapper\" role=\"main\"><div class=\"main-content\"><noscript><div id=\"challenge-error-title\"><div class=\"h2\"><span id=\"challenge-error-text\">Enable JavaScript and cookies to continue</span></div></div></noscript></div></div><script>(function(){window._cf_chl_opt={cvId: '3',cZone: \"www.cmsenergy.com\",cType: 'managed',cNounce: '92944',cRay: '84ece824ff6a2eb4',cHash: '9a5a301fea8bd7e',cUPMDTk: \"\\/investor-relations\\/news-releases\\/news-release-details\\/2024\\/Consumers-Energy-Foundation-to-Award-50000-for-Three-Small-Towns-in-Put-Your-Town-on-the-Map-Competition\\/default.aspx?__cf_chl_tk=7IgBwPslR2A0pFiB3kb9uweei.UTqq2BxS4RQX6D1A8-1706818949-0-gaNycGzNEGU\",cFPWv: 'b',cTTimeMs: '1000',cMTimeMs: '375000',cTplV: 5,cTplB: 'cf',cK: \"visitor-time\",fa: \"\\/investor-relations\\/news-releases\\/news-release-details\\/2024\\/Consumers-Energy-Foundation-to-Award-50000-for-Three-Small-Towns-in-Put-Your-Town-on-the-Map-Competition\\/default.aspx?__cf_chl_f_tk=7IgBwPslR2A0pFiB3kb9uweei.UTqq2BxS4RQX6D1A8-1706818949-0-gaNycGzNEGU\",md: \"fK2rMANZxQrN_KV.1zRl5BfhuFYoLO9LJO5qLGoriT4-1706818949-1-AW3B-AW3hnGOEoDnWnI6muUqbnjAsEGf7JVUNHJHKE1WAxVFqeidFoSGQLXxLYejmGmegg3KcjZjpcEXNNbxWrfOc8HntrHAqd1zLIyftge8jelTdxfbHAXBxteaJxHBcg0bwWnN9HGU9GxICuhaZJZLuVgMi_IofrIWcTATXE15kJcxP9AFciIUV0MYj-biyFMXGOXRPyZadpD4OdPf8_A1pcq55X--HfkpL3QxCNLcdm0vMuxaWs1QoNpIbuddETC1r-B0slLUVMbvUS4S2BXcGoinbhR5XR-6n0ZDQE_v4x6xeGUePoRIMy55aGbYUvTHuUPS0oQWz924gWNtOo034r8M4gGzjMYYH1y9KKOHTN4zYZw3DL_OkmFyLAhRFlZh2vDULeP8FybJlL3Tu4w9CTCMR0IffLwJuAtMp-KOGrFKiVqHfxQNAkwsjar8_mMW2dmMy1RJMI1eo0JIUsi3hRY_mRw1xYVqS-zOd5TRjc27TNeFeBlBMIPlyyqg2CpgmZPbcfXP-4tVt5S_tpHeNWLOE5ukr1aOz8vZ1FFHhMrPbs807IwNG-KtSQoj9H49OYrqAReXZgmcFTyXhSDJjR2M2zp0KR_pJ02q6F8wWl_uonygQR97GURKub9oHjmv0DTAnLnKzGjmxsk4yILkcAwipGJUxCCYb1n3LwN7B3cfSGnVOYVljznYuxJqXaHe-KgurHu_aTYqh9OuUt6rYbHIfAS7HChE7jgU0bfZA887Xqpe1G8SAXM8urXbPTR8wn4Y9GDLMMv0l9MdQfh9afBuz8FEtVWHnxRX_UZ5zBQw_MzHsoJvLGMo23vR5uWt7MGiMksf3vsYMsRRuQcxs_w-fBgE9eRnI6wexAXED4HqRLwEwx9aSX0cjuDIvqXdREBueM2WAkVRktOXHEIHj34Ggp3Ao_jRhC2qtj09xT9AExHikT-G_E3iZHQlAbMj5DFZGf-G2H09qcAcG_-nuOzL5lAEF836FcxLQfuYTowhiO2AyornFp5N7vF8JzoE3iSD2SmUTRPKEVbXhSEpkhQtPlhocbGElu_1-MlZvSa2Yf1ZCZmGhHgOazqmM6WwYkRYnvStyEYrgGWBp1tC2TJKjVnoDH6WpyDT58B3eNfob_wBaYJnlI3MbK2ETqtPD98ukWJLUKpUbjysQvJWR6EJxIJmOUFBYaXhS8LBqed-IKAqQCrUKYGq-tS_tv72nGL_L2xxK_4-Io2526Z-WMWFAEYwldsIzqoe_vFVsm8DOGxysSgs8YQu6jG8pWooSRfsHVx_pE0urVyxZ_egU9oVEHcgbWf7QKmFUA7xk72ecKosM8wP6R8KEH7vZEhJKqoLHzAvFVKgdCXkxkFZ_22gLNLm0E3jO6bK30nmjH-9nN6p5v1peQCXq3EyK6NIfpL59bzqmN5h679jHIgLaBE9n3FKEuGsPnMPra4LfPt-KfjrqulSy1AFWHT6cVutDh3LVci1Y1iA9fFnfMlpzJ1RsjW2VcRBPhA3V3ORfzWZ34oEERXfairvD1sJNJ-aG5Qfd6eJjoXHyclcBMTqztNJkS4OalUlr-7Gevrvt53B3uRx1uXfOQXUy85a7XugFZZtCJjow2gCHC4q3IooHOALeAPLSwe1vi3A7xsW50Ghz3lMB4WwCgWcwvC5RWgQM5CmAKSu_K6jyvAoSukgFKy6th-57wl1ak8rBPgUwDwhnKPB1JD3Igi--m3pO17nB6iF09149sMGq44W3FSCG-DYt9za7sZYhfkelW9g38_p1aBu2-nGPpibsqupm0vif5m0QbgbLANZToq2keIw5FxmqNm7ZIomCzTqF7gIVxG9BeCekxTrqsJLI5Nr0sKcHCIL6xJKrEqBDa-EUjJV0Oxea2NtNlcJgToc-sEQAOvUUcQRai6ZwGTeYSiASf5NNf7vLbNzXdFLO7d9HVihRDZ8hh4t3DwXmGOxMHA1q1AuPLccsCKehmLkjR119Ji-q3CFVmHnNJuIWZ8HHR-JqUW_C0hwb2Kb8_xSR3XeKZT8yDDqSeHc6zI49Ml9vXWVSTOlhCKmg3sQXo8d__lLkSTTsJRyDMDPemYgF1uDMfLmePgvsXenQaippg-QqD6TCXb6xplS1vJLHiQKCH7OYXerRAkOaQgXuyaheQklBrXSpW93yIoLukcYQQJzkbkI9kW9TwK6qhAeoYHrCH5AVHV1YNLkh4qcu61ZOXiNcJEU0QW5vz33ztmSwhlHXi7BbRcdL84Oh28fZC5dxbVqfFIamxBfLtFACS0quDZDb4qHsm5QfImEentBogTtXRmfKJ09S4J8Xra5HtHcv79-qjLczZhTQ0Pks5SMFglz_2EffbFK10GsAj0M2EFqAqdGOphKgPbmaO5CJuutsEdlCyyfwJjTfpEsdLMoZgNeQeW5QIe6UV-0xqOmNhlQEoPArYhDwgma7n0Q3oN7wnycUH_ToY55Tlm0eoOBeSiIX3QJgx6451x5XLi-h7A5QuPZBW2Y0QChNyFgAddi7o2tVKYraolcHzkpsyIt0njIj-uX3nkL_a1TnHokfJXjtj9tzV45CdzJL8RkxcQTBNrMvtTCzqSjI4yFlCVpekuBrDsmfoNep5tvlSqygn7VyEMtbQBtRpSbVVjNoUd94khl6GtbDkwJF9M7xTS9-Yk8IbWHTGvTXZ_xzeqWq4IPOmtfrS6inKg2h01u-yHe_eXSBUTZaMaDBeeZhl1zQHR4PruObyWK9E7tTzqvr_LdpXBE56hyfLpipR-yMNZG5MjT5qx6xVIyDBnTcQ2WMFQDPlkDR7JAmMj8DxzkIKwBv4X_0FryyV0COyvFOJXKfk0LKPjBEcfAqwumAbQnNr8lSC6EtqrDGG7ZyppZbgbLuoBV0W1w-CmdQVMs4WM-fAsLBCXNiDlSb6e4BnuMgZX1FP7sBRQvObcYexjkOcGuyZ3Sswl_rHar34pJ3l0THJNQx-GrU-uqB4H-8t6TOECpemHpoTlVSJ-JjKm5vuVNAkGgG7Voezf9odrWj5Rnn4lMU78MiadR3adsojkTI7RLWpelTkraql_HuxLBzWs47sMLva_Z5AFQ2KqVTYHz5lY6eJ3WG07AS8UG5LIy581VQMe7J2vN7_P40ecL3mslmrFGmNrajQMGxsqzUa3UPlRAxNqAcWb04kjtUfkCnhSwO1MDTAJNbiLs8GYbLGwltUTcbUsdV1EYaN7dRnJzA5xYmznO_SicxaATiGbsj7poPzWeeLd-Ik0Z6bmZAXWkflG8O2XAdqZE7F9vGBVsBmj2EE0U9kXawl5V_3hyzgMj1ZiWknbDjfkCHU2yak7dPSZHDy_qOWRLpdaTo77Xyw8sMX1ri7-6C3pAnxERMsdI0xdEOxYGVU1a2X90juaWbhCC44XnojoiloiunwhRLNQjd4dqYr8S-Y5jLYtBspg3lECcX8HJJH21cpmvKPgYgRrRZi-d-pDVIyG-camfxRwFHKdjhkTCeYIhdYH7RFeGGkSgVcBcX2s2TSfE239UQhxp5TXwBcTRIBsQ0HmreRegmVWiDRiiA7so7UFnG0o7tKfiJVAUYVDWbIrVpGhthVxApmwKocvenU_HHAswBHRqt5pV7o7Hsjxc612-VSayxOMZGxWk9RhSc8kMuIhpz8LCQRfsDYi7-CTQHD09ab6bbzQJ6Ih85LIToJgnZ9cAL3L1n9X5Z4aqGGSvAstQ_zW4QcCO03rwSJX7_xjzqnVtvIs0gg4a57AyS1xBZKryA13SfQQh14RgOpvcll2yl1r_7Gx21fjrb5LuBEaGHNB-4GBGmblxES2E4kblBWx8F2B56hjzur3GvIop1yplWQNm_PdW0R-XsBDapg0ml_GM48MNRKe07kSATMYnESyCyB2YYB_pgP5bpV919aW2nhWW5tLUPx08zaENKB92T5QHQ0PpvcttDwR_ixOJOdEaVh9UAjZxqF8wMQ2oJYOulvddPvh0JO3Tj0eCwQajMtETM30aaElBwZAI16QU0gxnZlgauw45ZDgTUiX2KKY7HtFUnUWpEOSo9Nw009eW_AGnAFTR45dJQYUwo1tE6OFzIthOjjz93i9E-DaYo_ZX7z0VSRPSPH4f4y7NlWnBQ3_xV_5S7eD9_T9LqHgb5OE3\",cRq: {ru: 'aHR0cHM6Ly93d3cuY21zZW5lcmd5LmNvbS9pbnZlc3Rvci1yZWxhdGlvbnMvbmV3cy1yZWxlYXNlcy9uZXdzLXJlbGVhc2UtZGV0YWlscy8yMDI0L0NvbnN1bWVycy1FbmVyZ3ktRm91bmRhdGlvbi10by1Bd2FyZC01MDAwMC1mb3ItVGhyZWUtU21hbGwtVG93bnMtaW4tUHV0LVlvdXItVG93bi1vbi10aGUtTWFwLUNvbXBldGl0aW9uL2RlZmF1bHQuYXNweA==',ra: 'cHl0aG9uLXJlcXVlc3RzLzIuMzEuMA==',rm: 'R0VU',d: 'iBhAgmhOstWQFyE0gfj6hFe+n4E+cyRH2wDKNNfKIwUYHIKBMU9qj8o12+W+aIRbj/YHsF7KZXqyJaSXvNxBct0a31B++4k0l1uydcb7q9QTV9jjfMj2iwrQxuGgaf3me9U3kFeUY39nuS5vj9Ys+bsM29bxHvRA2WnCz6zU3GqNrSjh3hzu432XVRNUeB163Qm5EmeU3bSgeqDMMf5JZwp4jsbCDjEuVAmObujQsdsUyJhrmAFa1IgOgSsAuk9BEzLJBK+8I8bZOhojRFc9Ms9p9vx/yPKkfa3kNIP/7dVuf5Su6A4KXGVNb1DQRkT887vLLtP/p89Rg72E4kzDQzZwfLrNPJ+Vao1GAdkPzFxRQsGH2oUMHBmypgFrjbBolrzkRjekiwBZlURnDuE8/siU60/EagLg0pyb4x9gba9oN0KHDB/JUkl8+AJbw1nAnJwjMnRPj+s4IIFER9QWovYYZBw95sKaKol5nsWPL8M1YPRxzt5HBdE60LWKrUMbLoaQyhIiP6uKkaKbbsi++6VeWTBGXl/+AvVjrtTLH65K3rZc0/OCWFFWVnjt+ea+5U1qGWXmNWmWNGZKd+beh62JQoGklStsrG/LBzJWBM5HkfaKEuA03UV3X5m4U0NNmhKuNnc8TLWx4WRGCL2pFQ==',t: 'MTcwNjgxODk0OS45MzAwMDA=',cT: Math.floor(Date.now() / 1000),m: 'orild9+yc7eNB8D67T6j3QF6XWtOxDTfiOV73LTfD5M=',i1: 'OR398mG6JzP9fDq7huny6g==',i2: 'jzMop2FER+ycOhV0OEl2yg==',zh: 'c634PbUkVfu62HZn0uv0F58sXRQkTsOGeAXyIUuGg4I=',uh: 'YE9XOpG5TeHmhA1zfs5mxC8CrRZzq2a/+r+OU7dliYQ=',hh: 'oV+bGF2iOTx7bcx/owKkNzKvGar+nkDFJW+3QP7E0Oo=',}};var cpo = document.createElement('script');cpo.src = '/cdn-cgi/challenge-platform/h/b/orchestrate/chl_page/v1?ray=84ece824ff6a2eb4';window._cf_chl_opt.cOgUHash = location.hash === '' && location.href.indexOf('#') !== -1 ? '#' : location.hash;window._cf_chl_opt.cOgUQuery = location.search === '' && location.href.slice(0, location.href.length - window._cf_chl_opt.cOgUHash.length).indexOf('?') !== -1 ? '?' : location.search;if (window.history && window.history.replaceState) {var ogU = location.pathname + window._cf_chl_opt.cOgUQuery + window._cf_chl_opt.cOgUHash;history.replaceState(null, null, \"\\/investor-relations\\/news-releases\\/news-release-details\\/2024\\/Consumers-Energy-Foundation-to-Award-50000-for-Three-Small-Towns-in-Put-Your-Town-on-the-Map-Competition\\/default.aspx?__cf_chl_rt_tk=7IgBwPslR2A0pFiB3kb9uweei.UTqq2BxS4RQX6D1A8-1706818949-0-gaNycGzNEGU\" + window._cf_chl_opt.cOgUHash);cpo.onload = function() {history.replaceState(null, null, ogU);}}document.getElementsByTagName('head')[0].appendChild(cpo);}());</script><script crossorigin=\"anonymous\" data-cf-beacon='{\"rayId\":\"84ece824ff6a2eb4\",\"b\":1,\"version\":\"2024.2.0\",\"token\":\"9b9544247c204655923f51d9215fe412\"}' defer=\"\" integrity=\"sha512-euoFGowhlaLqXsPWQ48qSkBSCFs3DPRyiwVu3FjR96cMPx+Fr+gpWRhIafcHwqwCqWS42RZhIudOvEI+Ckf6MA==\" src=\"https://static.cloudflareinsights.com/beacon.min.js/v84a3a4012de94ce1a686ba8c167c359c1696973893317\"></script>\n",
      "</body></html>\n"
     ]
    }
   ],
   "source": [
    "print(soup)"
   ]
  },
  {
   "cell_type": "markdown",
   "metadata": {},
   "source": [
    "So the reason that this is not working is because the website is protected by anti-bot mechanisms. It knows that the site is being accessed by python, so we can't access the data."
   ]
  },
  {
   "cell_type": "code",
   "execution_count": 22,
   "metadata": {},
   "outputs": [
    {
     "name": "stdout",
     "output_type": "stream",
     "text": [
      "Content not found\n"
     ]
    }
   ],
   "source": [
    "\n",
    "# Find the div with class 'evergreen-news-body'\n",
    "content_div = soup.find('div', class_='evergreen-news-body')\n",
    "\n",
    "# Extract the text or further process it as needed\n",
    "if content_div:\n",
    "    content_text = content_div.get_text(strip=True)\n",
    "    print(content_text)\n",
    "else:\n",
    "    print(\"Content not found\")\n"
   ]
  },
  {
   "cell_type": "code",
   "execution_count": 23,
   "metadata": {},
   "outputs": [],
   "source": [
    "content_div"
   ]
  },
  {
   "cell_type": "code",
   "execution_count": 18,
   "metadata": {},
   "outputs": [],
   "source": [
    "content = soup.find_all('div', class_='ContentPaneDiv2')"
   ]
  },
  {
   "cell_type": "code",
   "execution_count": 19,
   "metadata": {},
   "outputs": [
    {
     "data": {
      "text/plain": [
       "[]"
      ]
     },
     "execution_count": 19,
     "metadata": {},
     "output_type": "execute_result"
    }
   ],
   "source": [
    "content"
   ]
  },
  {
   "cell_type": "code",
   "execution_count": null,
   "metadata": {},
   "outputs": [],
   "source": []
  },
  {
   "cell_type": "markdown",
   "metadata": {},
   "source": [
    "But... we are at the point of automatically accessing the specific press releases on a given company's website. \n",
    "I manually selected all and copy and pasted everything from 1 press release below: \n"
   ]
  },
  {
   "cell_type": "markdown",
   "metadata": {},
   "source": [
    "\"\"\"\n",
    "\n",
    "CMS Energy uses cookies on our website as described in our Privacy Policy. By continuing to use the site, you agree to the use of cookies.\n",
    "OK\n",
    "MOBILE SEARCH\n",
    "Homepage\n",
    "\n",
    "Enter Search Text\n",
    "Search\n",
    " Submit Search\n",
    "CMS Energy Stock Price58.42 +1.26 02.01.24 02:41 ET\n",
    "About\n",
    "Investors\n",
    "Shareowner Services\n",
    "Corporate Governance\n",
    "Sustainability\n",
    "Careers\n",
    "CMS ENERGY YEAR-END 2023 EARNINGS CALL\n",
    "February 1st, 2024\n",
    "Time: 9:30 AM ET\n",
    "Webcast\n",
    "\n",
    "CMS ENERGY STOCK PRICE\n",
    "1\n",
    "FEB\n",
    "2024\n",
    "02:41 ET\n",
    "58.42\n",
    "+1.26\n",
    "INTERACTIVE ANALYST CENTER\n",
    "INVESTOR TOOLS\n",
    "INVESTOR CONTACTS\n",
    "RELATED LINKS\n",
    "MEDIA CONTACTS\n",
    "\n",
    "KATIE\n",
    "CAREY\n",
    "Director of External Relations\n",
    "517-788-2395\n",
    "katelyn.carey@cmsenergy.com\n",
    "\n",
    "BRIAN\n",
    "WHEELER\n",
    "Media Relations Manager\n",
    "517-788-2394\n",
    "brian.wheeler@cmsenergy.com\n",
    "Home>Investors>News Releases>News Release Details\n",
    "NEWS RELEASES\n",
    "CONSUMERS ENERGY FOUNDATION TO AWARD $50,000 FOR THREE SMALL TOWNS IN PUT YOUR TOWN ON THE MAP COMPETITION\n",
    "Jan 23, 2024\n",
    "JACKSON, Mich., Jan. 23, 2024 /PRNewswire/ -- The Consumers Energy Foundation is calling for entries in the annual Put Your Town on the Map pitch competition, which will provide $50,000 in grant funding for three projects to help small communities in Michigan grow and thrive. Communities with up to 10,000 residents can submit proposals through Feb. 15.\n",
    "\n",
    "Consumers Energy Logo (PRNewsFoto/Consumers Energy)\n",
    "\n",
    "\"For many of Michigan's small communities, funding for one big project can make the difference for years of business attraction, economic development, and population growth,\" said Brandon Hofmeister, president of the Consumers Energy Foundation. \"The Consumers Energy Foundation is proud to sponsor this competition to help enable creative ideas from passionate community members to give new life to small towns across the state.\"\n",
    "\n",
    "The Put Your Town on the Map competition seeks to reward innovative ideas that attract visitors to downtowns, advance housing, education or employment, cultivate community pride and more. Community leaders can learn more and apply here.\n",
    "\n",
    "The Consumers Energy Foundation and the Community Economic Development Association of Michigan (CEDAM) will select 10 finalists to make their pitches at the Small Town and Rural Development Conference in June. The top three winners will receive grants worth $25,000, $15,000 and $10,000, respectively.\n",
    "\n",
    "Consumers Energy started the competition in 2019. In 2023, grant dollars were awarded to Fennville to install bilingual community wayfinding signs, Reed City for the Crossroads Recreation Connection, and Harbor Beach to expand community gardening. \n",
    "\n",
    "\"I can imagine Hart a year from now with 75-100 visitors a day to see the Tin Man, walking through our artisan marketplace and reviewing local products, and shopping in Hart,\" said Jim Evans, Hart City Council member. The City of Hart was a 2022 grantee for its Hart Project Initiative to bring more art, including a 20-foot tin man sculpture holding a huge heart, in the city's downtown. \n",
    "\n",
    "The Consumers Energy Foundation is the charitable arm of Consumers Energy, Michigan's largest energy provider. The Foundation contributes to the growth and strengthening of Michigan communities by investing in what's most important — our people, our planet and Michigan's prosperity. In 2023, the Consumers Energy Foundation, Consumers Energy, its employees and retirees contributed more than $11 million to Michigan nonprofits. For more information, visit www.ConsumersEnergy.com/foundation.\n",
    "\n",
    "Consumers Energy, Michigan's largest energy provider, is the principal subsidiary of CMS Energy (NYSE: CMS), providing natural gas and/or electricity to 6.7 million of the state's 10 million residents in all 68 Lower Peninsula counties.\n",
    "\n",
    "For more information about Consumers Energy, go to ConsumersEnergy.com.\n",
    "\n",
    "Check out Consumers Energy on Social Media  \n",
    "\n",
    "Facebook: https://www.facebook.com/consumersenergymichigan\n",
    "Twitter: https://twitter.com/consumersenergy\n",
    "LinkedIn: https://linkedin.com/company/consumersenergy  \n",
    "Instagram: https://www.instagram.com/consumersenergy \n",
    "\n",
    " \n",
    "\n",
    "Cision View original content to download multimedia:https://www.prnewswire.com/news-releases/consumers-energy-foundation-to-award-50-000-for-three-small-towns-in-put-your-town-on-the-map-competition-302042340.html\n",
    "\n",
    "SOURCE Consumers Energy\n",
    "\n",
    "\n",
    "Site MapPrivacyContact UsSecurityConsumers EnergyTerms of Use\n",
    "TOP DESTINATIONS\n",
    "InvestorsNews ReleasesCareersLatest PresentationSustainabilityLeadership\n",
    "Subscribe to\n",
    "our alerts\n",
    "Sign up for Email Alerts\n",
    "Email Address * \n",
    "Enter your Email Address\n",
    "Mailing Lists\n",
    "Mailing Lists *\n",
    "Press Release\n",
    "SEC Filing\n",
    "Presentation\n",
    "Event\n",
    "End of Day Stock Quote\n",
    "Submit\n",
    "UNSUBSCRIBE\n",
    "This site is protected by reCAPTCHA and the Google Privacy Policy and Terms of Service apply.\n",
    "\n",
    "Back to beginning of pageback to beginning of page\n",
    "\n",
    "\"\"\""
   ]
  }
 ],
 "metadata": {
  "kernelspec": {
   "display_name": "base",
   "language": "python",
   "name": "python3"
  },
  "language_info": {
   "codemirror_mode": {
    "name": "ipython",
    "version": 3
   },
   "file_extension": ".py",
   "mimetype": "text/x-python",
   "name": "python",
   "nbconvert_exporter": "python",
   "pygments_lexer": "ipython3",
   "version": "3.11.5"
  }
 },
 "nbformat": 4,
 "nbformat_minor": 2
}
