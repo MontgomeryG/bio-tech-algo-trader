{
 "cells": [
  {
   "cell_type": "code",
   "execution_count": 1,
   "metadata": {},
   "outputs": [
    {
     "data": {
      "text/html": [
       "<div>\n",
       "<style scoped>\n",
       "    .dataframe tbody tr th:only-of-type {\n",
       "        vertical-align: middle;\n",
       "    }\n",
       "\n",
       "    .dataframe tbody tr th {\n",
       "        vertical-align: top;\n",
       "    }\n",
       "\n",
       "    .dataframe thead th {\n",
       "        text-align: right;\n",
       "    }\n",
       "</style>\n",
       "<table border=\"1\" class=\"dataframe\">\n",
       "  <thead>\n",
       "    <tr style=\"text-align: right;\">\n",
       "      <th></th>\n",
       "      <th>ticker</th>\n",
       "      <th>description</th>\n",
       "      <th>Manual subscription work?</th>\n",
       "      <th>sector</th>\n",
       "    </tr>\n",
       "  </thead>\n",
       "  <tbody>\n",
       "    <tr>\n",
       "      <th>0</th>\n",
       "      <td>ALMU</td>\n",
       "      <td>AELUMA INC COM</td>\n",
       "      <td>yes</td>\n",
       "      <td>Unlabeled</td>\n",
       "    </tr>\n",
       "    <tr>\n",
       "      <th>1</th>\n",
       "      <td>GLUC</td>\n",
       "      <td>GLUCOSE HEALTH INC COM</td>\n",
       "      <td>no</td>\n",
       "      <td>Unlabeled</td>\n",
       "    </tr>\n",
       "    <tr>\n",
       "      <th>2</th>\n",
       "      <td>RGBP</td>\n",
       "      <td>REGEN BIOPHARMA INC COM</td>\n",
       "      <td>yes</td>\n",
       "      <td>Unlabeled</td>\n",
       "    </tr>\n",
       "    <tr>\n",
       "      <th>3</th>\n",
       "      <td>TLPH</td>\n",
       "      <td>TALPHERA INC COM</td>\n",
       "      <td>yes</td>\n",
       "      <td>Unlabeled</td>\n",
       "    </tr>\n",
       "    <tr>\n",
       "      <th>4</th>\n",
       "      <td>UNRVD</td>\n",
       "      <td>BLUM HOLDINGS INC COM</td>\n",
       "      <td>no</td>\n",
       "      <td>Unlabeled</td>\n",
       "    </tr>\n",
       "  </tbody>\n",
       "</table>\n",
       "</div>"
      ],
      "text/plain": [
       "  ticker              description Manual subscription work?     sector\n",
       "0   ALMU           AELUMA INC COM                       yes  Unlabeled\n",
       "1   GLUC   GLUCOSE HEALTH INC COM                        no  Unlabeled\n",
       "2   RGBP  REGEN BIOPHARMA INC COM                       yes  Unlabeled\n",
       "3   TLPH         TALPHERA INC COM                       yes  Unlabeled\n",
       "4  UNRVD    BLUM HOLDINGS INC COM                        no  Unlabeled"
      ]
     },
     "execution_count": 1,
     "metadata": {},
     "output_type": "execute_result"
    }
   ],
   "source": [
    "# read in excel file\n",
    "import pandas as pd\n",
    "df = pd.read_excel(\"../bio-tech-algo-trader/resources/pharmaStocks.xlsx\")\n",
    "\n",
    "# Save as .csv\n",
    "df.to_csv('../bio-tech-algo-trader/resources/pharmaStocks.csv', index=True)\n",
    "\n",
    "df.head()"
   ]
  }
 ],
 "metadata": {
  "kernelspec": {
   "display_name": "base",
   "language": "python",
   "name": "python3"
  },
  "language_info": {
   "codemirror_mode": {
    "name": "ipython",
    "version": 3
   },
   "file_extension": ".py",
   "mimetype": "text/x-python",
   "name": "python",
   "nbconvert_exporter": "python",
   "pygments_lexer": "ipython3",
   "version": "3.11.5"
  }
 },
 "nbformat": 4,
 "nbformat_minor": 2
}
